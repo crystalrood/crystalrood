{
 "cells": [
  {
   "cell_type": "code",
   "execution_count": 85,
   "metadata": {
    "collapsed": false
   },
   "outputs": [],
   "source": [
    "import pandas as pd\n",
    "import numpy as np\n",
    "import re\n",
    "from bs4 import BeautifulSoup\n"
   ]
  },
  {
   "cell_type": "code",
   "execution_count": 86,
   "metadata": {
    "collapsed": false
   },
   "outputs": [],
   "source": [
    "# Read in the file\n",
    "with open('/Users/crystalm/Desktop/crystalrood.io/Python_References/html/importing_csv_og.html', 'r') as file :\n",
    "  filedata = file.read()"
   ]
  },
  {
   "cell_type": "code",
   "execution_count": 87,
   "metadata": {
    "collapsed": true
   },
   "outputs": [],
   "source": [
    "\n",
    "#open file with beautiful soup, delete In/Out by calling class name\n",
    "with open('/Users/crystalm/Desktop/crystalrood.io/Python_References/html/importing_csv_og.html', 'r') as file:\n",
    "    for line in file:\n",
    "        filedata = file.read()\n",
    "        soup = BeautifulSoup(filedata,\"html.parser\")\n",
    "        # replace with `soup.findAll` if you are using BeautifulSoup3\n",
    "        for div in soup.find_all(\"div\", {'class':'prompt output_prompt'}): \n",
    "            div.decompose()\n",
    "        for div in soup.find_all(\"div\", {'class':'prompt input_prompt'}): \n",
    "            div.decompose()\n",
    "        with open('/Users/crystalm/Desktop/crystalrood.io/Python_References/html/importing_csv_edited.html', 'wb') as file:\n",
    "                  file.write(soup.encode('utf-8'))"
   ]
  },
  {
   "cell_type": "code",
   "execution_count": 88,
   "metadata": {
    "collapsed": true
   },
   "outputs": [],
   "source": [
    "#open BS4 processed file, remove anchor links + contents within using regex, write to final output\n",
    "with open('/Users/crystalm/Desktop/crystalrood.io/Python_References/html/importing_csv_edited.html', 'r') as file:\n",
    "    for line in file:\n",
    "        if '<body>' in line:                \n",
    "            for line in file: # now you are at the lines you want\n",
    "                filedata = file.read()\n",
    "                #strip anchor links\n",
    "                filedata = re.sub('<[aA][^>]*>([^<]+)</[aA]>', '', filedata)\n",
    "                \n",
    "                with open('/Users/crystalm/Desktop/crystalrood.io/Python_References/html/importing_csv_edited.html', 'w') as file:\n",
    "                  file.write(filedata)"
   ]
  },
  {
   "cell_type": "code",
   "execution_count": 89,
   "metadata": {
    "collapsed": false
   },
   "outputs": [],
   "source": [
    "#adding in line break before headings\n",
    "#open file with beautiful soup, delete In/Out by calling class name\n",
    "with open('/Users/crystalm/Desktop/crystalrood.io/Python_References/html/importing_csv_og.html', 'r') as file:\n",
    "    for line in file:\n",
    "        filedata = file.read()\n",
    "        soup = BeautifulSoup(filedata,\"html.parser\")\n",
    "        # replace with `soup.findAll` if you are using BeautifulSoup3\n",
    "       \n",
    "        for i in range(0,len(soup.find_all(\"h4\"))): \n",
    "            newtg = soup.new_tag('br')\n",
    "            soup.find_all(\"h4\")[i].insert(0,newtg)\n",
    "\n",
    "        with open('/Users/crystalm/Desktop/crystalrood.io/Python_References/html/importing_csv_edited.html', 'w') as file:\n",
    "            file.write(filedata)"
   ]
  },
  {
   "cell_type": "code",
   "execution_count": null,
   "metadata": {
    "collapsed": true
   },
   "outputs": [],
   "source": []
  }
 ],
 "metadata": {
  "kernelspec": {
   "display_name": "Python 3",
   "language": "python",
   "name": "python3"
  },
  "language_info": {
   "codemirror_mode": {
    "name": "ipython",
    "version": 3
   },
   "file_extension": ".py",
   "mimetype": "text/x-python",
   "name": "python",
   "nbconvert_exporter": "python",
   "pygments_lexer": "ipython3",
   "version": "3.6.4"
  }
 },
 "nbformat": 4,
 "nbformat_minor": 2
}
