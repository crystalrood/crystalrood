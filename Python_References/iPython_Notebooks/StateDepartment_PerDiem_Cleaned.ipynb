{
 "cells": [
  {
   "cell_type": "code",
   "execution_count": 1,
   "metadata": {
    "collapsed": true
   },
   "outputs": [],
   "source": [
    "#allow matlab to plot inline/keep new window from popping up\n",
    "%matplotlib inline \n",
    "#import matlab plot library\n",
    "import matplotlib.pyplot as plt \n",
    "#dataframe\n",
    "import pandas \n",
    "#preloaded with >100 datasets for screwing around with (not used here)\n",
    "from pydataset import data "
   ]
  },
  {
   "cell_type": "code",
   "execution_count": 2,
   "metadata": {
    "collapsed": true
   },
   "outputs": [],
   "source": [
    "PerDiem2015 = pandas.read_csv('/Users/erikrood/anaconda/bin/PerDiem_2015.csv') #read csv file"
   ]
  },
  {
   "cell_type": "code",
   "execution_count": 6,
   "metadata": {
    "collapsed": false
   },
   "outputs": [
    {
     "data": {
      "text/html": [
       "<div>\n",
       "<table border=\"1\" class=\"dataframe\">\n",
       "  <thead>\n",
       "    <tr style=\"text-align: right;\">\n",
       "      <th></th>\n",
       "      <th>Country</th>\n",
       "      <th>Location</th>\n",
       "      <th>Season Code</th>\n",
       "      <th>Season Start Date</th>\n",
       "      <th>Season End Date</th>\n",
       "      <th>Lodging</th>\n",
       "      <th>Meals &amp; Incidentals</th>\n",
       "      <th>Per_Diem</th>\n",
       "      <th>Effective Date</th>\n",
       "      <th>Footnote Reference</th>\n",
       "      <th>Location Code</th>\n",
       "    </tr>\n",
       "  </thead>\n",
       "  <tbody>\n",
       "    <tr>\n",
       "      <th>0</th>\n",
       "      <td>CAYMAN ISLANDS</td>\n",
       "      <td>Cayman Islands</td>\n",
       "      <td>S2</td>\n",
       "      <td>15-Dec</td>\n",
       "      <td>16-Jul</td>\n",
       "      <td>588</td>\n",
       "      <td>147</td>\n",
       "      <td>735</td>\n",
       "      <td>1-Dec-15</td>\n",
       "      <td>NaN</td>\n",
       "      <td>19016</td>\n",
       "    </tr>\n",
       "    <tr>\n",
       "      <th>1</th>\n",
       "      <td>FRANCE</td>\n",
       "      <td>Cannes</td>\n",
       "      <td>S1</td>\n",
       "      <td>1-May</td>\n",
       "      <td>30-Sep</td>\n",
       "      <td>460</td>\n",
       "      <td>156</td>\n",
       "      <td>616</td>\n",
       "      <td>1-Apr-15</td>\n",
       "      <td>22</td>\n",
       "      <td>11166</td>\n",
       "    </tr>\n",
       "    <tr>\n",
       "      <th>2</th>\n",
       "      <td>BERMUDA</td>\n",
       "      <td>Bermuda</td>\n",
       "      <td>S1</td>\n",
       "      <td>1-Apr</td>\n",
       "      <td>30-Nov</td>\n",
       "      <td>402</td>\n",
       "      <td>174</td>\n",
       "      <td>576</td>\n",
       "      <td>1-Jan-15</td>\n",
       "      <td>NaN</td>\n",
       "      <td>11963</td>\n",
       "    </tr>\n",
       "    <tr>\n",
       "      <th>3</th>\n",
       "      <td>ANGOLA</td>\n",
       "      <td>[Other]</td>\n",
       "      <td>S1</td>\n",
       "      <td>1-Jan</td>\n",
       "      <td>31-Dec</td>\n",
       "      <td>405</td>\n",
       "      <td>170</td>\n",
       "      <td>575</td>\n",
       "      <td>1-Aug-13</td>\n",
       "      <td>NaN</td>\n",
       "      <td>11822</td>\n",
       "    </tr>\n",
       "    <tr>\n",
       "      <th>4</th>\n",
       "      <td>ANGOLA</td>\n",
       "      <td>Luanda</td>\n",
       "      <td>S1</td>\n",
       "      <td>1-Jan</td>\n",
       "      <td>31-Dec</td>\n",
       "      <td>405</td>\n",
       "      <td>170</td>\n",
       "      <td>575</td>\n",
       "      <td>1-Aug-13</td>\n",
       "      <td>NaN</td>\n",
       "      <td>10373</td>\n",
       "    </tr>\n",
       "  </tbody>\n",
       "</table>\n",
       "</div>"
      ],
      "text/plain": [
       "          Country        Location Season Code Season Start Date   \\\n",
       "0  CAYMAN ISLANDS  Cayman Islands          S2             15-Dec   \n",
       "1          FRANCE          Cannes          S1              1-May   \n",
       "2         BERMUDA         Bermuda          S1              1-Apr   \n",
       "3          ANGOLA         [Other]          S1              1-Jan   \n",
       "4          ANGOLA          Luanda          S1              1-Jan   \n",
       "\n",
       "  Season End Date   Lodging  Meals & Incidentals   Per_Diem  Effective Date  \\\n",
       "0           16-Jul      588                   147        735       1-Dec-15   \n",
       "1           30-Sep      460                   156        616       1-Apr-15   \n",
       "2           30-Nov      402                   174        576       1-Jan-15   \n",
       "3           31-Dec      405                   170        575       1-Aug-13   \n",
       "4           31-Dec      405                   170        575       1-Aug-13   \n",
       "\n",
       "  Footnote Reference  Location Code  \n",
       "0                NaN          19016  \n",
       "1                 22          11166  \n",
       "2                NaN          11963  \n",
       "3                NaN          11822  \n",
       "4                NaN          10373  "
      ]
     },
     "execution_count": 6,
     "metadata": {},
     "output_type": "execute_result"
    }
   ],
   "source": [
    "PerDiem2015.head() #check to see if read in properly"
   ]
  },
  {
   "cell_type": "code",
   "execution_count": 4,
   "metadata": {
    "collapsed": false
   },
   "outputs": [
    {
     "data": {
      "text/html": [
       "<div>\n",
       "<table border=\"1\" class=\"dataframe\">\n",
       "  <thead>\n",
       "    <tr style=\"text-align: right;\">\n",
       "      <th></th>\n",
       "      <th>Country</th>\n",
       "      <th>Per_Diem</th>\n",
       "    </tr>\n",
       "  </thead>\n",
       "  <tbody>\n",
       "    <tr>\n",
       "      <th>0</th>\n",
       "      <td>CAYMAN ISLANDS</td>\n",
       "      <td>735</td>\n",
       "    </tr>\n",
       "    <tr>\n",
       "      <th>1</th>\n",
       "      <td>FRANCE</td>\n",
       "      <td>616</td>\n",
       "    </tr>\n",
       "    <tr>\n",
       "      <th>2</th>\n",
       "      <td>BERMUDA</td>\n",
       "      <td>576</td>\n",
       "    </tr>\n",
       "    <tr>\n",
       "      <th>3</th>\n",
       "      <td>ANGOLA</td>\n",
       "      <td>575</td>\n",
       "    </tr>\n",
       "    <tr>\n",
       "      <th>4</th>\n",
       "      <td>ANGOLA</td>\n",
       "      <td>575</td>\n",
       "    </tr>\n",
       "    <tr>\n",
       "      <th>5</th>\n",
       "      <td>VENEZUELA</td>\n",
       "      <td>575</td>\n",
       "    </tr>\n",
       "    <tr>\n",
       "      <th>6</th>\n",
       "      <td>FIJI</td>\n",
       "      <td>573</td>\n",
       "    </tr>\n",
       "    <tr>\n",
       "      <th>7</th>\n",
       "      <td>ITALY</td>\n",
       "      <td>572</td>\n",
       "    </tr>\n",
       "    <tr>\n",
       "      <th>8</th>\n",
       "      <td>NIGERIA</td>\n",
       "      <td>571</td>\n",
       "    </tr>\n",
       "    <tr>\n",
       "      <th>9</th>\n",
       "      <td>VENEZUELA</td>\n",
       "      <td>563</td>\n",
       "    </tr>\n",
       "  </tbody>\n",
       "</table>\n",
       "</div>"
      ],
      "text/plain": [
       "          Country  Per_Diem \n",
       "0  CAYMAN ISLANDS        735\n",
       "1          FRANCE        616\n",
       "2         BERMUDA        576\n",
       "3          ANGOLA        575\n",
       "4          ANGOLA        575\n",
       "5       VENEZUELA        575\n",
       "6            FIJI        573\n",
       "7           ITALY        572\n",
       "8         NIGERIA        571\n",
       "9       VENEZUELA        563"
      ]
     },
     "execution_count": 4,
     "metadata": {},
     "output_type": "execute_result"
    }
   ],
   "source": [
    "#create subset of main file with the fields we want to investigate\n",
    "df = PerDiem2015[[0,7]] \n",
    "#check first 10 values\n",
    "df.head(10) "
   ]
  },
  {
   "cell_type": "markdown",
   "metadata": {},
   "source": [
    "Data is pre-sorted, starting with the highest per diem rates.\n",
    "Will need to group by country, sum, and remove duplicates before graphing."
   ]
  },
  {
   "cell_type": "code",
   "execution_count": 7,
   "metadata": {
    "collapsed": false
   },
   "outputs": [
    {
     "data": {
      "text/plain": [
       "<matplotlib.text.Text at 0x108101fd0>"
      ]
     },
     "execution_count": 7,
     "metadata": {},
     "output_type": "execute_result"
    },
    {
     "data": {
      "image/png": "[encoded data removed]",
      "text/plain": [
       "<matplotlib.figure.Figure at 0x1079f4f50>"
      ]
     },
     "metadata": {},
     "output_type": "display_data"
    }
   ],
   "source": [
    "#pivot + sum data\n",
    "country_group = df.groupby('Country').sum() \n",
    "#create subgroup with first/\"top\" 10 values, remove the duplicate countries\n",
    "top10 = df.head(10).groupby('Country').first() \n",
    "#set up plot, add title, fix size\n",
    "my_plot = top10.plot(kind='bar',title=\"Top 8 countries with largest state department per diem\",figsize=(9, 7)) \n",
    "my_plot.set_ylabel(\"Per Diem\") \n"
   ]
  }
 ],
 "metadata": {
  "kernelspec": {
   "display_name": "Python 2",
   "language": "python",
   "name": "python2"
  },
  "language_info": {
   "codemirror_mode": {
    "name": "ipython",
    "version": 2
   },
   "file_extension": ".py",
   "mimetype": "text/x-python",
   "name": "python",
   "nbconvert_exporter": "python",
   "pygments_lexer": "ipython2",
   "version": "2.7.11"
  }
 },
 "nbformat": 4,
 "nbformat_minor": 0
}
