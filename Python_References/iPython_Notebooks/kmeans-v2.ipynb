{
 "cells": [
  {
   "cell_type": "code",
   "execution_count": 1,
   "metadata": {
    "collapsed": false
   },
   "outputs": [
    {
     "name": "stderr",
     "output_type": "stream",
     "text": [
      "/Users/heather/anaconda/lib/python3.5/site-packages/matplotlib/__init__.py:872: UserWarning: axes.color_cycle is deprecated and replaced with axes.prop_cycle; please use the latter.\n",
      "  warnings.warn(self.msg_depr % (key, alt_key))\n",
      "/Users/heather/anaconda/lib/python3.5/site-packages/matplotlib/__init__.py:872: UserWarning: axes.color_cycle is deprecated and replaced with axes.prop_cycle; please use the latter.\n",
      "  warnings.warn(self.msg_depr % (key, alt_key))\n"
     ]
    }
   ],
   "source": [
    "#########################################################################################################\n",
    "#########################################################################################################\n",
    "# import the packages that I need\n",
    "\n",
    "import pandas as pd\n",
    "import numpy as np\n",
    "import seaborn as sns\n",
    "import datetime as dt\n",
    "import matplotlib.pyplot as plt\n",
    "import brewer2mpl\n",
    "import os\n",
    "import sys\n",
    "import unicodecsv as csv\n",
    "import matplotlib.dates as md\n",
    "from pandas.tseries.offsets import *\n",
    "from matplotlib.backends.backend_pdf import PdfPages\n",
    "import codecs\n",
    "from sklearn.cluster import KMeans\n",
    "from sklearn.preprocessing import MinMaxScaler\n",
    "from mpl_toolkits.mplot3d import Axes3D\n",
    "from sklearn import metrics\n",
    "from sklearn.metrics import pairwise_distances\n",
    "from sklearn.decomposition import PCA\n",
    "from sklearn.preprocessing import scale\n",
    "from time import time\n",
    "from scipy import stats\n",
    "\n",
    "#########################################################################################################\n",
    "## IMPORT MY DATA\n",
    "\n",
    "# DAD sleep data: https://console.treasuredata.com/jobs/54403720\n",
    "# current sleep data: https://console.treasuredata.com/jobs/56191379\n",
    "data = pd.read_csv('/Users/heather/DataDump/sleep_clustering.csv')\n",
    "\n",
    "# DAD step data: https://console.treasuredata.com/jobs/54403748\n",
    "# current step data: https://console.treasuredata.com/jobs/56191342\n",
    "step_data = pd.read_csv('/Users/heather/DataDump/step_data.csv')\n",
    "\n",
    "# DAD watch data: https://console.treasuredata.com/jobs/54403786\n",
    "# current watch data: https://console.treasuredata.com/jobs/56191279\n",
    "watch_data = pd.read_csv('/Users/heather/DataDump/clustering_watch_data.csv')\n",
    "\n",
    "# DAD demo data: https://console.treasuredata.com/jobs/54403810\n",
    "# current demo data: https://console.treasuredata.com/jobs/56191243\n",
    "demo_data = pd.read_csv('/Users/heather/DataDump/clustering_demo_data.csv')\n",
    "\n",
    "# hours on wrist data: https://console.treasuredata.com/jobs/56191063\n",
    "tow_data = pd.read_csv('/Users/heather/DataDump/clustering_tow_data.csv')\n",
    "\n",
    "# non-SMS notification sources: https://console.treasuredata.com/jobs/56217380\n",
    "# (most common notifications right now) -- https://console.treasuredata.com/jobs/56214142\n",
    "non_sms_notifs = pd.read_csv('/Users/heather/DataDump/non_sms_notifs.csv')\n",
    "\n",
    "msg = non_sms_notifs[non_sms_notifs.data_0_app_name == 'Messenger']\n",
    "fb_msg = msg[msg.data_0_package_name == 'com.facebook.orca']\n",
    "fb = non_sms_notifs[non_sms_notifs.data_0_app_name == 'Facebook']\n",
    "wa = non_sms_notifs[non_sms_notifs.data_0_app_name == 'WhatsApp']\n",
    "hang = non_sms_notifs[non_sms_notifs.data_0_app_name == 'Hangouts']\n",
    "sc = non_sms_notifs[non_sms_notifs.data_0_app_name == 'Snapchat']\n",
    "insta = non_sms_notifs[non_sms_notifs.data_0_app_name == 'Instagram']\n",
    "maps = non_sms_notifs[non_sms_notifs.data_0_app_name == 'Maps']\n",
    "maps = non_sms_notifs[non_sms_notifs.data_0_package_name == 'com.google.android.apps.maps']\n",
    "gmail = non_sms_notifs[non_sms_notifs.data_0_app_name == 'Gmail']\n",
    "gmail = non_sms_notifs[non_sms_notifs.data_0_package_name == 'com.google.android.gm']\n",
    "inbox = non_sms_notifs[non_sms_notifs.data_0_app_name == 'Inbox']\n",
    "inbox = non_sms_notifs[non_sms_notifs.data_0_package_name == 'com.google.android.apps.inbox']\n",
    "gplay = non_sms_notifs[non_sms_notifs.data_0_app_name == 'Google Play Store']\n",
    "gplay = non_sms_notifs[non_sms_notifs.data_0_package_name == 'com.android.vending']\n",
    "\n",
    "\n",
    "# SMS notifications received by android users: https://console.treasuredata.com/jobs/56219442\n",
    "# updated query: https://console.treasuredata.com/jobs/56223406\n",
    "sms_notifs = pd.read_csv('/Users/heather/DataDump/sms_notifs.csv')\n",
    "\n",
    "\n",
    "#########################################################################################################\n",
    "# Set up some better defaults for matplotlib\n",
    "from matplotlib import rcParams\n",
    "\n",
    "#colorbrewer2 Dark2 qualitative color table\n",
    "dark2_colors = brewer2mpl.get_map('Paired', 'Qualitative', 11).mpl_colors\n",
    "\n",
    "rcParams['figure.figsize'] = (10, 6)\n",
    "rcParams['figure.dpi'] = 150\n",
    "rcParams['axes.color_cycle'] = dark2_colors\n",
    "rcParams['lines.linewidth'] = 2\n",
    "rcParams['axes.facecolor'] = 'white'\n",
    "rcParams['font.size'] = 18\n",
    "rcParams['patch.edgecolor'] = 'white'\n",
    "rcParams['patch.facecolor'] = dark2_colors[0]\n",
    "rcParams['font.family'] = 'StixGeneral'\n",
    "\n",
    "\n",
    "def remove_border(axes=None, top=False, right=False, left=True, bottom=True):\n",
    "    \"\"\"\n",
    "    Minimize chartjunk by stripping out unnecesasry plot borders and axis ticks\n",
    "    \n",
    "    The top/right/left/bottom keywords toggle whether the corresponding plot border is drawn\n",
    "    \"\"\"\n",
    "    ax = axes or plt.gca()\n",
    "    ax.spines['top'].set_visible(top)\n",
    "    ax.spines['right'].set_visible(right)\n",
    "    ax.spines['left'].set_visible(left)\n",
    "    ax.spines['bottom'].set_visible(bottom)\n",
    "    \n",
    "    #turn off all ticks\n",
    "    ax.yaxis.set_ticks_position('none')\n",
    "    ax.xaxis.set_ticks_position('none')\n",
    "    \n",
    "    #now re-enable visibles\n",
    "    if top:\n",
    "        ax.xaxis.tick_top()\n",
    "    if bottom:\n",
    "        ax.xaxis.tick_bottom()\n",
    "    if left:\n",
    "        ax.yaxis.tick_left()\n",
    "    if right:\n",
    "        ax.yaxis.tick_right()\n",
    "        \n",
    "        \n"
   ]
  },
  {
   "cell_type": "code",
   "execution_count": 2,
   "metadata": {
    "collapsed": false,
    "scrolled": true
   },
   "outputs": [
    {
     "name": "stderr",
     "output_type": "stream",
     "text": [
      "/Users/heather/anaconda/lib/python3.5/site-packages/ipykernel/__main__.py:2: SettingWithCopyWarning: \n",
      "A value is trying to be set on a copy of a slice from a DataFrame.\n",
      "Try using .loc[row_indexer,col_indexer] = value instead\n",
      "\n",
      "See the caveats in the documentation: http://pandas.pydata.org/pandas-docs/stable/indexing.html#indexing-view-versus-copy\n",
      "  from ipykernel import kernelapp as app\n",
      "/Users/heather/anaconda/lib/python3.5/site-packages/sklearn/preprocessing/data.py:324: DeprecationWarning: Passing 1d arrays as data is deprecated in 0.17 and will raise ValueError in 0.19. Reshape your data either using X.reshape(-1, 1) if your data has a single feature or X.reshape(1, -1) if it contains a single sample.\n",
      "  warnings.warn(DEPRECATION_MSG_1D, DeprecationWarning)\n",
      "/Users/heather/anaconda/lib/python3.5/site-packages/sklearn/preprocessing/data.py:359: DeprecationWarning: Passing 1d arrays as data is deprecated in 0.17 and will raise ValueError in 0.19. Reshape your data either using X.reshape(-1, 1) if your data has a single feature or X.reshape(1, -1) if it contains a single sample.\n",
      "  warnings.warn(DEPRECATION_MSG_1D, DeprecationWarning)\n",
      "/Users/heather/anaconda/lib/python3.5/site-packages/sklearn/preprocessing/data.py:324: DeprecationWarning: Passing 1d arrays as data is deprecated in 0.17 and will raise ValueError in 0.19. Reshape your data either using X.reshape(-1, 1) if your data has a single feature or X.reshape(1, -1) if it contains a single sample.\n",
      "  warnings.warn(DEPRECATION_MSG_1D, DeprecationWarning)\n",
      "/Users/heather/anaconda/lib/python3.5/site-packages/sklearn/preprocessing/data.py:359: DeprecationWarning: Passing 1d arrays as data is deprecated in 0.17 and will raise ValueError in 0.19. Reshape your data either using X.reshape(-1, 1) if your data has a single feature or X.reshape(1, -1) if it contains a single sample.\n",
      "  warnings.warn(DEPRECATION_MSG_1D, DeprecationWarning)\n",
      "/Users/heather/anaconda/lib/python3.5/site-packages/sklearn/preprocessing/data.py:324: DeprecationWarning: Passing 1d arrays as data is deprecated in 0.17 and will raise ValueError in 0.19. Reshape your data either using X.reshape(-1, 1) if your data has a single feature or X.reshape(1, -1) if it contains a single sample.\n",
      "  warnings.warn(DEPRECATION_MSG_1D, DeprecationWarning)\n",
      "/Users/heather/anaconda/lib/python3.5/site-packages/sklearn/preprocessing/data.py:359: DeprecationWarning: Passing 1d arrays as data is deprecated in 0.17 and will raise ValueError in 0.19. Reshape your data either using X.reshape(-1, 1) if your data has a single feature or X.reshape(1, -1) if it contains a single sample.\n",
      "  warnings.warn(DEPRECATION_MSG_1D, DeprecationWarning)\n",
      "/Users/heather/anaconda/lib/python3.5/site-packages/sklearn/preprocessing/data.py:324: DeprecationWarning: Passing 1d arrays as data is deprecated in 0.17 and will raise ValueError in 0.19. Reshape your data either using X.reshape(-1, 1) if your data has a single feature or X.reshape(1, -1) if it contains a single sample.\n",
      "  warnings.warn(DEPRECATION_MSG_1D, DeprecationWarning)\n",
      "/Users/heather/anaconda/lib/python3.5/site-packages/sklearn/preprocessing/data.py:359: DeprecationWarning: Passing 1d arrays as data is deprecated in 0.17 and will raise ValueError in 0.19. Reshape your data either using X.reshape(-1, 1) if your data has a single feature or X.reshape(1, -1) if it contains a single sample.\n",
      "  warnings.warn(DEPRECATION_MSG_1D, DeprecationWarning)\n",
      "/Users/heather/anaconda/lib/python3.5/site-packages/sklearn/preprocessing/data.py:324: DeprecationWarning: Passing 1d arrays as data is deprecated in 0.17 and will raise ValueError in 0.19. Reshape your data either using X.reshape(-1, 1) if your data has a single feature or X.reshape(1, -1) if it contains a single sample.\n",
      "  warnings.warn(DEPRECATION_MSG_1D, DeprecationWarning)\n",
      "/Users/heather/anaconda/lib/python3.5/site-packages/sklearn/preprocessing/data.py:359: DeprecationWarning: Passing 1d arrays as data is deprecated in 0.17 and will raise ValueError in 0.19. Reshape your data either using X.reshape(-1, 1) if your data has a single feature or X.reshape(1, -1) if it contains a single sample.\n",
      "  warnings.warn(DEPRECATION_MSG_1D, DeprecationWarning)\n",
      "/Users/heather/anaconda/lib/python3.5/site-packages/sklearn/preprocessing/data.py:324: DeprecationWarning: Passing 1d arrays as data is deprecated in 0.17 and will raise ValueError in 0.19. Reshape your data either using X.reshape(-1, 1) if your data has a single feature or X.reshape(1, -1) if it contains a single sample.\n",
      "  warnings.warn(DEPRECATION_MSG_1D, DeprecationWarning)\n",
      "/Users/heather/anaconda/lib/python3.5/site-packages/sklearn/preprocessing/data.py:359: DeprecationWarning: Passing 1d arrays as data is deprecated in 0.17 and will raise ValueError in 0.19. Reshape your data either using X.reshape(-1, 1) if your data has a single feature or X.reshape(1, -1) if it contains a single sample.\n",
      "  warnings.warn(DEPRECATION_MSG_1D, DeprecationWarning)\n",
      "/Users/heather/anaconda/lib/python3.5/site-packages/sklearn/preprocessing/data.py:324: DeprecationWarning: Passing 1d arrays as data is deprecated in 0.17 and will raise ValueError in 0.19. Reshape your data either using X.reshape(-1, 1) if your data has a single feature or X.reshape(1, -1) if it contains a single sample.\n",
      "  warnings.warn(DEPRECATION_MSG_1D, DeprecationWarning)\n",
      "/Users/heather/anaconda/lib/python3.5/site-packages/sklearn/preprocessing/data.py:359: DeprecationWarning: Passing 1d arrays as data is deprecated in 0.17 and will raise ValueError in 0.19. Reshape your data either using X.reshape(-1, 1) if your data has a single feature or X.reshape(1, -1) if it contains a single sample.\n",
      "  warnings.warn(DEPRECATION_MSG_1D, DeprecationWarning)\n",
      "/Users/heather/anaconda/lib/python3.5/site-packages/sklearn/preprocessing/data.py:324: DeprecationWarning: Passing 1d arrays as data is deprecated in 0.17 and will raise ValueError in 0.19. Reshape your data either using X.reshape(-1, 1) if your data has a single feature or X.reshape(1, -1) if it contains a single sample.\n",
      "  warnings.warn(DEPRECATION_MSG_1D, DeprecationWarning)\n",
      "/Users/heather/anaconda/lib/python3.5/site-packages/sklearn/preprocessing/data.py:359: DeprecationWarning: Passing 1d arrays as data is deprecated in 0.17 and will raise ValueError in 0.19. Reshape your data either using X.reshape(-1, 1) if your data has a single feature or X.reshape(1, -1) if it contains a single sample.\n",
      "  warnings.warn(DEPRECATION_MSG_1D, DeprecationWarning)\n",
      "/Users/heather/anaconda/lib/python3.5/site-packages/sklearn/preprocessing/data.py:324: DeprecationWarning: Passing 1d arrays as data is deprecated in 0.17 and will raise ValueError in 0.19. Reshape your data either using X.reshape(-1, 1) if your data has a single feature or X.reshape(1, -1) if it contains a single sample.\n",
      "  warnings.warn(DEPRECATION_MSG_1D, DeprecationWarning)\n",
      "/Users/heather/anaconda/lib/python3.5/site-packages/sklearn/preprocessing/data.py:359: DeprecationWarning: Passing 1d arrays as data is deprecated in 0.17 and will raise ValueError in 0.19. Reshape your data either using X.reshape(-1, 1) if your data has a single feature or X.reshape(1, -1) if it contains a single sample.\n",
      "  warnings.warn(DEPRECATION_MSG_1D, DeprecationWarning)\n",
      "/Users/heather/anaconda/lib/python3.5/site-packages/sklearn/preprocessing/data.py:324: DeprecationWarning: Passing 1d arrays as data is deprecated in 0.17 and will raise ValueError in 0.19. Reshape your data either using X.reshape(-1, 1) if your data has a single feature or X.reshape(1, -1) if it contains a single sample.\n",
      "  warnings.warn(DEPRECATION_MSG_1D, DeprecationWarning)\n",
      "/Users/heather/anaconda/lib/python3.5/site-packages/sklearn/preprocessing/data.py:359: DeprecationWarning: Passing 1d arrays as data is deprecated in 0.17 and will raise ValueError in 0.19. Reshape your data either using X.reshape(-1, 1) if your data has a single feature or X.reshape(1, -1) if it contains a single sample.\n",
      "  warnings.warn(DEPRECATION_MSG_1D, DeprecationWarning)\n"
     ]
    }
   ],
   "source": [
    "df2 = data[data.peb_start_sleep < 660]\n",
    "df2['peb_start_sleep'] = df2.peb_start_sleep + 1440\n",
    "\n",
    "df3 = data[data.peb_start_sleep >= 660]\n",
    "\n",
    "data = df2.append(df3)\n",
    "\n",
    "avg_matrix = data.groupby('user_id').mean()\n",
    "avg_matrix = avg_matrix.reset_index()\n",
    "avg_matrix = avg_matrix.rename(columns={'peb_start_sleep':'avg_bedtime','peb_stop_sleep':'avg_waketime','peb_total_sleep':'avg_sleep','peb_deep_sleep':'avg_deep_sleep','num_sleep_sessions':'avg_sleep_sessions'})\n",
    "\n",
    "std_matrix = data.groupby('user_id').std()\n",
    "std_matrix = std_matrix.reset_index()\n",
    "std_matrix = std_matrix.rename(columns={'peb_start_sleep':'std_bedtime','peb_stop_sleep':'std_waketime','peb_total_sleep':'std_sleep','peb_deep_sleep':'std_deep_sleep','num_sleep_sessions':'std_sleep_sessions'})\n",
    "\n",
    "matrix = avg_matrix.merge(std_matrix,on='user_id')\n",
    "\n",
    "matrix['avg_bedtime'] = matrix.avg_bedtime/60\n",
    "matrix['avg_waketime'] = matrix.avg_waketime/60\n",
    "matrix['avg_sleep'] = matrix.avg_sleep/60\n",
    "matrix['avg_deep_sleep'] = matrix.avg_deep_sleep/60\n",
    "\n",
    "# feature rescaling on the data prior to k-means clustering!\n",
    "# here I will use the MinMaxScaler from scikit-learn to transform the features to values between 0 and 1\n",
    "\n",
    "scaler = MinMaxScaler()\n",
    "\n",
    "matrix['rescaled_bedtime'] = pd.DataFrame(scaler.fit_transform(np.array(matrix.avg_bedtime)))\n",
    "matrix['rescaled_waketime'] = pd.DataFrame(scaler.fit_transform(np.array(matrix.avg_waketime)))\n",
    "matrix['rescaled_sleep'] = pd.DataFrame(scaler.fit_transform(np.array(matrix.avg_sleep)))\n",
    "matrix['rescaled_deep_sleep'] = pd.DataFrame(scaler.fit_transform(np.array(matrix.avg_deep_sleep)))\n",
    "matrix['rescaled_sleep_sessions'] = pd.DataFrame(scaler.fit_transform(np.array(matrix.avg_sleep_sessions)))\n",
    "matrix['rescaled_std_bedtime'] = pd.DataFrame(scaler.fit_transform(np.array(matrix.std_bedtime)))\n",
    "matrix['rescaled_std_waketime'] = pd.DataFrame(scaler.fit_transform(np.array(matrix.std_waketime)))\n",
    "matrix['rescaled_std_sleep'] = pd.DataFrame(scaler.fit_transform(np.array(matrix.std_sleep)))\n",
    "matrix['rescaled_std_deep_sleep'] = pd.DataFrame(scaler.fit_transform(np.array(matrix.std_deep_sleep)))\n",
    "matrix['rescaled_std_sleep_sessions'] = pd.DataFrame(scaler.fit_transform(np.array(matrix.std_sleep_sessions)))\n",
    "\n"
   ]
  },
  {
   "cell_type": "code",
   "execution_count": null,
   "metadata": {
    "collapsed": true
   },
   "outputs": [],
   "source": []
  },
  {
   "cell_type": "code",
   "execution_count": 3,
   "metadata": {
    "collapsed": false
   },
   "outputs": [
    {
     "data": {
      "text/plain": [
       "446.6611521996814"
      ]
     },
     "execution_count": 3,
     "metadata": {},
     "output_type": "execute_result"
    }
   ],
   "source": [
    "# let's try some k-means clustering!\n",
    "\n",
    "#% pylab inline\n",
    "\n",
    "features = ['rescaled_bedtime','rescaled_waketime','rescaled_sleep','rescaled_deep_sleep']\n",
    "num_clusters = 4\n",
    "\n",
    "numfeat = len(features)\n",
    "\n",
    "training = matrix[features]\n",
    "\n",
    "# n_init = # of times the algorithm is initialized (i.e. how many times does it come up with clusters?)\n",
    "# typically, for less than 10 clusters, multiple rounds of optimizations are optimal (typically 50-1000 are used, according to Andrew Ng)\n",
    "# for our purposes, since we have less than 10 clusters, we will go with n_clusters=500\n",
    "\n",
    "# init = method for initialization, or choosing the initial centroids\n",
    "# common methods include random initialization or k-means++\n",
    "# scikit-learn's default is k-means++, and it has been suggested that this method yields considerable improvement in the final error of k-means\n",
    "# therefore, we will go with k-means++\n",
    "\n",
    "km = KMeans(n_clusters=num_clusters,init='k-means++',n_init=500)\n",
    "\n",
    "km.fit(training)\n",
    "\n",
    "centroids = km.cluster_centers_\n",
    "km_labels = km.labels_\n",
    "inertia = km.inertia_\n",
    "\n",
    "\n",
    "for i in range(num_clusters):\n",
    "    ds = training[km_labels==i]\n",
    "    plt.plot(ds.iloc[:,0],ds.iloc[:,1],'o', c = dark2_colors[i], alpha = 0.7)\n",
    "    lines = plt.plot(centroids[i,0],'kx')\n",
    "    \n",
    "    \n",
    "plt.ylabel('avg. wake time')\n",
    "plt.xlabel('avg. bedtime')\n",
    "#plt.axis([19.5, 30, 0, 11])\n",
    "\n",
    "inertia\n",
    "#plt.show()\n",
    "\n",
    "#s_coeff = metrics.silhouette_score(training,km_labels,metric='euclidean')"
   ]
  },
  {
   "cell_type": "code",
   "execution_count": 9,
   "metadata": {
    "collapsed": false
   },
   "outputs": [],
   "source": [
    "matrix['cluster_label'] = pd.DataFrame(km_labels)\n",
    "\n",
    "cluster_ids = matrix[['user_id','cluster_label']]\n",
    "\n",
    "\n",
    "wa = non_sms_notifs[non_sms_notifs.data_0_app_name == 'WhatsApp']\n",
    "\n",
    "var = wa\n",
    "\n",
    "def notif_source(var):\n",
    "    var['day_of_week'] = var['day_of_week'].astype(int)\n",
    "    cluster_info = var.merge(cluster_ids,on='user_id')\n",
    "    cluster_info = cluster_info[['user_id','day_of_week','cluster_label','notif_sent_to_watch']]\n",
    "    clusters = cluster_info.groupby(['user_id','cluster_label']).mean().reset_index()\n",
    "    cluster_activity = clusters.groupby(['cluster_label']).mean().reset_index()\n",
    "    clusters_daily = cluster_info.groupby(['user_id','day_of_week','cluster_label']).mean().reset_index()\n",
    "    clusters_daily = clusters_daily.groupby(['day_of_week','cluster_label']).mean().reset_index()\n",
    "    \n"
   ]
  },
  {
   "cell_type": "code",
   "execution_count": 13,
   "metadata": {
    "collapsed": false
   },
   "outputs": [
    {
     "name": "stderr",
     "output_type": "stream",
     "text": [
      "/Users/heather/anaconda/lib/python3.5/site-packages/ipykernel/__main__.py:11: SettingWithCopyWarning: \n",
      "A value is trying to be set on a copy of a slice from a DataFrame.\n",
      "Try using .loc[row_indexer,col_indexer] = value instead\n",
      "\n",
      "See the caveats in the documentation: http://pandas.pydata.org/pandas-docs/stable/indexing.html#indexing-view-versus-copy\n"
     ]
    }
   ],
   "source": [
    "notif_source(var)"
   ]
  },
  {
   "cell_type": "code",
   "execution_count": 14,
   "metadata": {
    "collapsed": false
   },
   "outputs": [
    {
     "ename": "NameError",
     "evalue": "name 'cluster_info' is not defined",
     "output_type": "error",
     "traceback": [
      "\u001b[0;31m---------------------------------------------------------------------------\u001b[0m",
      "\u001b[0;31mNameError\u001b[0m                                 Traceback (most recent call last)",
      "\u001b[0;32m<ipython-input-14-be40d2c7c957>\u001b[0m in \u001b[0;36m<module>\u001b[0;34m()\u001b[0m\n\u001b[0;32m----> 1\u001b[0;31m \u001b[0mcluster_info\u001b[0m\u001b[0;34m\u001b[0m\u001b[0m\n\u001b[0m",
      "\u001b[0;31mNameError\u001b[0m: name 'cluster_info' is not defined"
     ]
    }
   ],
   "source": [
    "cluster_info"
   ]
  },
  {
   "cell_type": "code",
   "execution_count": 23,
   "metadata": {
    "collapsed": false
   },
   "outputs": [
    {
     "name": "stderr",
     "output_type": "stream",
     "text": [
      "/Users/heather/anaconda/lib/python3.5/site-packages/ipykernel/__main__.py:3: SettingWithCopyWarning: \n",
      "A value is trying to be set on a copy of a slice from a DataFrame.\n",
      "Try using .loc[row_indexer,col_indexer] = value instead\n",
      "\n",
      "See the caveats in the documentation: http://pandas.pydata.org/pandas-docs/stable/indexing.html#indexing-view-versus-copy\n",
      "  app.launch_new_instance()\n"
     ]
    },
    {
     "data": {
      "text/html": [
       "<div>\n",
       "<table border=\"1\" class=\"dataframe\">\n",
       "  <thead>\n",
       "    <tr style=\"text-align: right;\">\n",
       "      <th></th>\n",
       "      <th>day_of_week</th>\n",
       "      <th>cluster_label</th>\n",
       "      <th>notif_sent_to_watch</th>\n",
       "    </tr>\n",
       "  </thead>\n",
       "  <tbody>\n",
       "    <tr>\n",
       "      <th>0</th>\n",
       "      <td>1</td>\n",
       "      <td>0</td>\n",
       "      <td>35.357120</td>\n",
       "    </tr>\n",
       "    <tr>\n",
       "      <th>1</th>\n",
       "      <td>1</td>\n",
       "      <td>1</td>\n",
       "      <td>19.513228</td>\n",
       "    </tr>\n",
       "    <tr>\n",
       "      <th>2</th>\n",
       "      <td>1</td>\n",
       "      <td>2</td>\n",
       "      <td>47.046402</td>\n",
       "    </tr>\n",
       "    <tr>\n",
       "      <th>3</th>\n",
       "      <td>1</td>\n",
       "      <td>3</td>\n",
       "      <td>26.606178</td>\n",
       "    </tr>\n",
       "    <tr>\n",
       "      <th>4</th>\n",
       "      <td>2</td>\n",
       "      <td>0</td>\n",
       "      <td>37.333054</td>\n",
       "    </tr>\n",
       "    <tr>\n",
       "      <th>5</th>\n",
       "      <td>2</td>\n",
       "      <td>1</td>\n",
       "      <td>19.896823</td>\n",
       "    </tr>\n",
       "    <tr>\n",
       "      <th>6</th>\n",
       "      <td>2</td>\n",
       "      <td>2</td>\n",
       "      <td>45.959648</td>\n",
       "    </tr>\n",
       "    <tr>\n",
       "      <th>7</th>\n",
       "      <td>2</td>\n",
       "      <td>3</td>\n",
       "      <td>29.698125</td>\n",
       "    </tr>\n",
       "    <tr>\n",
       "      <th>8</th>\n",
       "      <td>3</td>\n",
       "      <td>0</td>\n",
       "      <td>38.993207</td>\n",
       "    </tr>\n",
       "    <tr>\n",
       "      <th>9</th>\n",
       "      <td>3</td>\n",
       "      <td>1</td>\n",
       "      <td>20.648094</td>\n",
       "    </tr>\n",
       "    <tr>\n",
       "      <th>10</th>\n",
       "      <td>3</td>\n",
       "      <td>2</td>\n",
       "      <td>51.681195</td>\n",
       "    </tr>\n",
       "    <tr>\n",
       "      <th>11</th>\n",
       "      <td>3</td>\n",
       "      <td>3</td>\n",
       "      <td>29.514148</td>\n",
       "    </tr>\n",
       "    <tr>\n",
       "      <th>12</th>\n",
       "      <td>4</td>\n",
       "      <td>0</td>\n",
       "      <td>39.053478</td>\n",
       "    </tr>\n",
       "    <tr>\n",
       "      <th>13</th>\n",
       "      <td>4</td>\n",
       "      <td>1</td>\n",
       "      <td>22.047242</td>\n",
       "    </tr>\n",
       "    <tr>\n",
       "      <th>14</th>\n",
       "      <td>4</td>\n",
       "      <td>2</td>\n",
       "      <td>47.653153</td>\n",
       "    </tr>\n",
       "    <tr>\n",
       "      <th>15</th>\n",
       "      <td>4</td>\n",
       "      <td>3</td>\n",
       "      <td>28.908345</td>\n",
       "    </tr>\n",
       "    <tr>\n",
       "      <th>16</th>\n",
       "      <td>5</td>\n",
       "      <td>0</td>\n",
       "      <td>39.183789</td>\n",
       "    </tr>\n",
       "    <tr>\n",
       "      <th>17</th>\n",
       "      <td>5</td>\n",
       "      <td>1</td>\n",
       "      <td>20.433935</td>\n",
       "    </tr>\n",
       "    <tr>\n",
       "      <th>18</th>\n",
       "      <td>5</td>\n",
       "      <td>2</td>\n",
       "      <td>47.854845</td>\n",
       "    </tr>\n",
       "    <tr>\n",
       "      <th>19</th>\n",
       "      <td>5</td>\n",
       "      <td>3</td>\n",
       "      <td>30.079535</td>\n",
       "    </tr>\n",
       "    <tr>\n",
       "      <th>20</th>\n",
       "      <td>6</td>\n",
       "      <td>0</td>\n",
       "      <td>29.408138</td>\n",
       "    </tr>\n",
       "    <tr>\n",
       "      <th>21</th>\n",
       "      <td>6</td>\n",
       "      <td>1</td>\n",
       "      <td>15.351035</td>\n",
       "    </tr>\n",
       "    <tr>\n",
       "      <th>22</th>\n",
       "      <td>6</td>\n",
       "      <td>2</td>\n",
       "      <td>34.566963</td>\n",
       "    </tr>\n",
       "    <tr>\n",
       "      <th>23</th>\n",
       "      <td>6</td>\n",
       "      <td>3</td>\n",
       "      <td>23.435310</td>\n",
       "    </tr>\n",
       "    <tr>\n",
       "      <th>24</th>\n",
       "      <td>7</td>\n",
       "      <td>0</td>\n",
       "      <td>29.374228</td>\n",
       "    </tr>\n",
       "    <tr>\n",
       "      <th>25</th>\n",
       "      <td>7</td>\n",
       "      <td>1</td>\n",
       "      <td>16.554243</td>\n",
       "    </tr>\n",
       "    <tr>\n",
       "      <th>26</th>\n",
       "      <td>7</td>\n",
       "      <td>2</td>\n",
       "      <td>37.277304</td>\n",
       "    </tr>\n",
       "    <tr>\n",
       "      <th>27</th>\n",
       "      <td>7</td>\n",
       "      <td>3</td>\n",
       "      <td>22.624299</td>\n",
       "    </tr>\n",
       "  </tbody>\n",
       "</table>\n",
       "</div>"
      ],
      "text/plain": [
       "    day_of_week  cluster_label  notif_sent_to_watch\n",
       "0             1              0            35.357120\n",
       "1             1              1            19.513228\n",
       "2             1              2            47.046402\n",
       "3             1              3            26.606178\n",
       "4             2              0            37.333054\n",
       "5             2              1            19.896823\n",
       "6             2              2            45.959648\n",
       "7             2              3            29.698125\n",
       "8             3              0            38.993207\n",
       "9             3              1            20.648094\n",
       "10            3              2            51.681195\n",
       "11            3              3            29.514148\n",
       "12            4              0            39.053478\n",
       "13            4              1            22.047242\n",
       "14            4              2            47.653153\n",
       "15            4              3            28.908345\n",
       "16            5              0            39.183789\n",
       "17            5              1            20.433935\n",
       "18            5              2            47.854845\n",
       "19            5              3            30.079535\n",
       "20            6              0            29.408138\n",
       "21            6              1            15.351035\n",
       "22            6              2            34.566963\n",
       "23            6              3            23.435310\n",
       "24            7              0            29.374228\n",
       "25            7              1            16.554243\n",
       "26            7              2            37.277304\n",
       "27            7              3            22.624299"
      ]
     },
     "execution_count": 23,
     "metadata": {},
     "output_type": "execute_result"
    }
   ],
   "source": [
    "var = wa\n",
    "\n",
    "var['day_of_week'] = var['day_of_week'].astype(int)\n",
    "\n",
    "cluster_info = var.merge(cluster_ids,on='user_id')\n",
    "\n",
    "cluster_info = cluster_info[['user_id','day_of_week','cluster_label','notif_sent_to_watch']]\n",
    "\n",
    "clusters = cluster_info.groupby(['user_id','cluster_label']).mean().reset_index()\n",
    "cluster_activity = clusters.groupby(['cluster_label']).mean().reset_index()\n",
    "clusters_daily = cluster_info.groupby(['user_id','day_of_week','cluster_label']).mean().reset_index()\n",
    "clusters_daily = clusters_daily.groupby(['day_of_week','cluster_label']).mean().reset_index()\n",
    "clusters_daily"
   ]
  },
  {
   "cell_type": "code",
   "execution_count": null,
   "metadata": {
    "collapsed": true
   },
   "outputs": [],
   "source": [
    "wa = non_sms_notifs[non_sms_notifs.data_0_app_name == 'WhatsApp']\n",
    "wa['day_of_week'] = wa['day_of_week'].astype(int)\n",
    "wa_cluster_info = wa.merge(cluster_ids,on='user_id')\n",
    "wa_cluster_info = wa_cluster_info[['user_id','day_of_week','cluster_label','notif_sent_to_watch']]\n",
    "wa_clusters = wa_cluster_info.groupby(['user_id','cluster_label']).mean().reset_index()\n",
    "wa_cluster_activity = wa_clusters.groupby(['cluster_label']).mean().reset_index()\n",
    "wa_clusters_daily = wa_cluster_info.groupby(['user_id','day_of_week','cluster_label']).mean().reset_index()\n",
    "wa_clusters_daily = wa_clusters_daily.groupby(['day_of_week','cluster_label']).mean().reset_index()\n"
   ]
  },
  {
   "cell_type": "code",
   "execution_count": 4,
   "metadata": {
    "collapsed": false
   },
   "outputs": [
    {
     "name": "stderr",
     "output_type": "stream",
     "text": [
      "/Users/heather/anaconda/lib/python3.5/site-packages/sklearn/preprocessing/data.py:324: DeprecationWarning: Passing 1d arrays as data is deprecated in 0.17 and will raise ValueError in 0.19. Reshape your data either using X.reshape(-1, 1) if your data has a single feature or X.reshape(1, -1) if it contains a single sample.\n",
      "  warnings.warn(DEPRECATION_MSG_1D, DeprecationWarning)\n",
      "/Users/heather/anaconda/lib/python3.5/site-packages/sklearn/preprocessing/data.py:359: DeprecationWarning: Passing 1d arrays as data is deprecated in 0.17 and will raise ValueError in 0.19. Reshape your data either using X.reshape(-1, 1) if your data has a single feature or X.reshape(1, -1) if it contains a single sample.\n",
      "  warnings.warn(DEPRECATION_MSG_1D, DeprecationWarning)\n",
      "/Users/heather/anaconda/lib/python3.5/site-packages/sklearn/preprocessing/data.py:324: DeprecationWarning: Passing 1d arrays as data is deprecated in 0.17 and will raise ValueError in 0.19. Reshape your data either using X.reshape(-1, 1) if your data has a single feature or X.reshape(1, -1) if it contains a single sample.\n",
      "  warnings.warn(DEPRECATION_MSG_1D, DeprecationWarning)\n",
      "/Users/heather/anaconda/lib/python3.5/site-packages/sklearn/preprocessing/data.py:359: DeprecationWarning: Passing 1d arrays as data is deprecated in 0.17 and will raise ValueError in 0.19. Reshape your data either using X.reshape(-1, 1) if your data has a single feature or X.reshape(1, -1) if it contains a single sample.\n",
      "  warnings.warn(DEPRECATION_MSG_1D, DeprecationWarning)\n",
      "/Users/heather/anaconda/lib/python3.5/site-packages/sklearn/preprocessing/data.py:324: DeprecationWarning: Passing 1d arrays as data is deprecated in 0.17 and will raise ValueError in 0.19. Reshape your data either using X.reshape(-1, 1) if your data has a single feature or X.reshape(1, -1) if it contains a single sample.\n",
      "  warnings.warn(DEPRECATION_MSG_1D, DeprecationWarning)\n",
      "/Users/heather/anaconda/lib/python3.5/site-packages/sklearn/preprocessing/data.py:359: DeprecationWarning: Passing 1d arrays as data is deprecated in 0.17 and will raise ValueError in 0.19. Reshape your data either using X.reshape(-1, 1) if your data has a single feature or X.reshape(1, -1) if it contains a single sample.\n",
      "  warnings.warn(DEPRECATION_MSG_1D, DeprecationWarning)\n",
      "/Users/heather/anaconda/lib/python3.5/site-packages/sklearn/preprocessing/data.py:324: DeprecationWarning: Passing 1d arrays as data is deprecated in 0.17 and will raise ValueError in 0.19. Reshape your data either using X.reshape(-1, 1) if your data has a single feature or X.reshape(1, -1) if it contains a single sample.\n",
      "  warnings.warn(DEPRECATION_MSG_1D, DeprecationWarning)\n",
      "/Users/heather/anaconda/lib/python3.5/site-packages/sklearn/preprocessing/data.py:359: DeprecationWarning: Passing 1d arrays as data is deprecated in 0.17 and will raise ValueError in 0.19. Reshape your data either using X.reshape(-1, 1) if your data has a single feature or X.reshape(1, -1) if it contains a single sample.\n",
      "  warnings.warn(DEPRECATION_MSG_1D, DeprecationWarning)\n",
      "/Users/heather/anaconda/lib/python3.5/site-packages/sklearn/preprocessing/data.py:324: DeprecationWarning: Passing 1d arrays as data is deprecated in 0.17 and will raise ValueError in 0.19. Reshape your data either using X.reshape(-1, 1) if your data has a single feature or X.reshape(1, -1) if it contains a single sample.\n",
      "  warnings.warn(DEPRECATION_MSG_1D, DeprecationWarning)\n",
      "/Users/heather/anaconda/lib/python3.5/site-packages/sklearn/preprocessing/data.py:359: DeprecationWarning: Passing 1d arrays as data is deprecated in 0.17 and will raise ValueError in 0.19. Reshape your data either using X.reshape(-1, 1) if your data has a single feature or X.reshape(1, -1) if it contains a single sample.\n",
      "  warnings.warn(DEPRECATION_MSG_1D, DeprecationWarning)\n",
      "/Users/heather/anaconda/lib/python3.5/site-packages/ipykernel/__main__.py:64: SettingWithCopyWarning: \n",
      "A value is trying to be set on a copy of a slice from a DataFrame.\n",
      "Try using .loc[row_indexer,col_indexer] = value instead\n",
      "\n",
      "See the caveats in the documentation: http://pandas.pydata.org/pandas-docs/stable/indexing.html#indexing-view-versus-copy\n",
      "/Users/heather/anaconda/lib/python3.5/site-packages/ipykernel/__main__.py:75: SettingWithCopyWarning: \n",
      "A value is trying to be set on a copy of a slice from a DataFrame.\n",
      "Try using .loc[row_indexer,col_indexer] = value instead\n",
      "\n",
      "See the caveats in the documentation: http://pandas.pydata.org/pandas-docs/stable/indexing.html#indexing-view-versus-copy\n",
      "/Users/heather/anaconda/lib/python3.5/site-packages/ipykernel/__main__.py:85: SettingWithCopyWarning: \n",
      "A value is trying to be set on a copy of a slice from a DataFrame.\n",
      "Try using .loc[row_indexer,col_indexer] = value instead\n",
      "\n",
      "See the caveats in the documentation: http://pandas.pydata.org/pandas-docs/stable/indexing.html#indexing-view-versus-copy\n",
      "/Users/heather/anaconda/lib/python3.5/site-packages/ipykernel/__main__.py:95: SettingWithCopyWarning: \n",
      "A value is trying to be set on a copy of a slice from a DataFrame.\n",
      "Try using .loc[row_indexer,col_indexer] = value instead\n",
      "\n",
      "See the caveats in the documentation: http://pandas.pydata.org/pandas-docs/stable/indexing.html#indexing-view-versus-copy\n",
      "/Users/heather/anaconda/lib/python3.5/site-packages/ipykernel/__main__.py:105: SettingWithCopyWarning: \n",
      "A value is trying to be set on a copy of a slice from a DataFrame.\n",
      "Try using .loc[row_indexer,col_indexer] = value instead\n",
      "\n",
      "See the caveats in the documentation: http://pandas.pydata.org/pandas-docs/stable/indexing.html#indexing-view-versus-copy\n",
      "/Users/heather/anaconda/lib/python3.5/site-packages/ipykernel/__main__.py:115: SettingWithCopyWarning: \n",
      "A value is trying to be set on a copy of a slice from a DataFrame.\n",
      "Try using .loc[row_indexer,col_indexer] = value instead\n",
      "\n",
      "See the caveats in the documentation: http://pandas.pydata.org/pandas-docs/stable/indexing.html#indexing-view-versus-copy\n",
      "/Users/heather/anaconda/lib/python3.5/site-packages/ipykernel/__main__.py:127: SettingWithCopyWarning: \n",
      "A value is trying to be set on a copy of a slice from a DataFrame.\n",
      "Try using .loc[row_indexer,col_indexer] = value instead\n",
      "\n",
      "See the caveats in the documentation: http://pandas.pydata.org/pandas-docs/stable/indexing.html#indexing-view-versus-copy\n",
      "/Users/heather/anaconda/lib/python3.5/site-packages/ipykernel/__main__.py:139: SettingWithCopyWarning: \n",
      "A value is trying to be set on a copy of a slice from a DataFrame.\n",
      "Try using .loc[row_indexer,col_indexer] = value instead\n",
      "\n",
      "See the caveats in the documentation: http://pandas.pydata.org/pandas-docs/stable/indexing.html#indexing-view-versus-copy\n",
      "/Users/heather/anaconda/lib/python3.5/site-packages/ipykernel/__main__.py:150: SettingWithCopyWarning: \n",
      "A value is trying to be set on a copy of a slice from a DataFrame.\n",
      "Try using .loc[row_indexer,col_indexer] = value instead\n",
      "\n",
      "See the caveats in the documentation: http://pandas.pydata.org/pandas-docs/stable/indexing.html#indexing-view-versus-copy\n",
      "/Users/heather/anaconda/lib/python3.5/site-packages/ipykernel/__main__.py:161: SettingWithCopyWarning: \n",
      "A value is trying to be set on a copy of a slice from a DataFrame.\n",
      "Try using .loc[row_indexer,col_indexer] = value instead\n",
      "\n",
      "See the caveats in the documentation: http://pandas.pydata.org/pandas-docs/stable/indexing.html#indexing-view-versus-copy\n"
     ]
    }
   ],
   "source": [
    "# let's do some correlations of cluster group with other variables!!\n",
    "\n",
    "matrix['cluster_label'] = pd.DataFrame(km_labels)\n",
    "\n",
    "cluster_ids = matrix[['user_id','cluster_label']]\n",
    "\n",
    "# activity (step) data\n",
    "\n",
    "data_with_cluster_info = step_data.merge(cluster_ids,on='user_id')\n",
    "step_group_analysis = data_with_cluster_info.groupby(['cluster_label']).mean().reset_index()\n",
    "daily_cluster_activity = data_with_cluster_info.groupby(['user_id','day_of_week','cluster_label']).mean().reset_index()\n",
    "daily_cluster_activity = daily_cluster_activity.groupby(['day_of_week','cluster_label']).mean().reset_index()\n",
    "\n",
    "# sleep data\n",
    "\n",
    "sleep_data_with_cluster_info = data.merge(cluster_ids,on='user_id')\n",
    "sleep_cluster_activity = sleep_data_with_cluster_info.groupby(['user_id','day_of_week','cluster_label']).mean()\n",
    "sleep_cluster_activity = sleep_cluster_activity/60\n",
    "sleep_cluster_activity = sleep_cluster_activity.reset_index()\n",
    "sleep_cluster_activity = sleep_cluster_activity.groupby(['day_of_week','cluster_label']).mean().reset_index()\n",
    "\n",
    "sleep_session_clusters = sleep_data_with_cluster_info.groupby(['user_id','cluster_label']).mean().reset_index()\n",
    "sleep_session_cluster_analysis = sleep_session_clusters.groupby(['cluster_label']).mean()\n",
    "sleep_session_cluster_daily = sleep_data_with_cluster_info.groupby(['user_id','day_of_week','cluster_label']).mean().reset_index()\n",
    "sleep_session_cluster_daily = sleep_session_cluster_daily.groupby(['day_of_week','cluster_label']).mean().reset_index()\n",
    "\n",
    "# watch data\n",
    "\n",
    "watch_cluster_info = watch_data.merge(cluster_ids,on='user_id')\n",
    "watches = watch_cluster_info.groupby(['user_id','cluster_label']).mean().reset_index()\n",
    "watches['rescaled_notif_count'] = pd.DataFrame(scaler.fit_transform(np.array(watches.notif_count)))\n",
    "watches['rescaled_incoming_call_count'] = pd.DataFrame(scaler.fit_transform(np.array(watches.incoming_call_count)))\n",
    "watches['rescaled_outgoing_call_count'] = pd.DataFrame(scaler.fit_transform(np.array(watches.outgoing_call_count)))\n",
    "watches['rescaled_phone_answer_count'] = pd.DataFrame(scaler.fit_transform(np.array(watches.phone_answer_count)))\n",
    "watches['rescaled_phone_call_elapsed_time'] = pd.DataFrame(scaler.fit_transform(np.array(watches.phone_call_elapsed_time)))\n",
    "watches['sociability_avg']= pd.DataFrame((watches.rescaled_notif_count+watches.rescaled_incoming_call_count+watches.rescaled_outgoing_call_count)/3)\n",
    "watch_cluster_activity = watches.groupby(['cluster_label']).mean().reset_index()\n",
    "watch_cluster_activity_daily = watch_cluster_info.groupby(['user_id','day_of_week','cluster_label']).mean().reset_index()\n",
    "watch_cluster_activity_daily = watch_cluster_activity_daily.groupby(['day_of_week','cluster_label']).mean().reset_index()\n",
    "\n",
    "# hours on wrist data\n",
    "\n",
    "tow_data_with_cluster_info = tow_data.merge(cluster_ids,on='user_id')\n",
    "tow_clusters = tow_data_with_cluster_info.groupby(['user_id','cluster_label']).mean().reset_index()\n",
    "tow_cluster_activity = tow_clusters.groupby(['cluster_label']).mean().reset_index()\n",
    "tow_clusters_daily = tow_data_with_cluster_info.groupby(['user_id','day_of_week','cluster_label']).mean().reset_index()\n",
    "tow_clusters_daily = tow_clusters_daily.groupby(['day_of_week','cluster_label']).mean().reset_index()\n",
    "\n",
    "# notification source data ######################################################\n",
    "\n",
    "# SMS\n",
    "\n",
    "sms_cluster_info = sms_notifs.merge(cluster_ids,on='user_id')\n",
    "#non_sms_cluster_info = non_sms_notifs.merge(cluster_ids,on='user_id')\n",
    "sms_clusters = sms_cluster_info.groupby(['user_id','cluster_label']).median().reset_index()\n",
    "sms_cluster_activity = sms_clusters.groupby(['cluster_label']).median().reset_index()\n",
    "sms_clusters_daily = sms_cluster_info.groupby(['user_id','day_of_week','cluster_label']).median().reset_index()\n",
    "sms_clusters_daily = sms_clusters_daily.groupby(['day_of_week','cluster_label']).median().reset_index()\n",
    "\n",
    "# FB Messenger\n",
    "\n",
    "msg = non_sms_notifs[non_sms_notifs.data_0_app_name == 'Messenger']\n",
    "fb_msg = msg[msg.data_0_package_name == 'com.facebook.orca']\n",
    "fb_msg['day_of_week'] = fb_msg['day_of_week'].astype(int)\n",
    "fb_msg_cluster_info = fb_msg.merge(cluster_ids,on='user_id')\n",
    "fb_msg_cluster_info = fb_msg_cluster_info[['user_id','day_of_week','cluster_label','notif_sent_to_watch']]\n",
    "fb_msg_clusters = fb_msg_cluster_info.groupby(['user_id','cluster_label']).mean().reset_index()\n",
    "fb_msg_cluster_activity = fb_msg_clusters.groupby(['cluster_label']).mean().reset_index()\n",
    "fb_msg_clusters_daily = fb_msg_cluster_info.groupby(['user_id','day_of_week','cluster_label']).mean().reset_index()\n",
    "fb_msg_clusters_daily = fb_msg_clusters_daily.groupby(['day_of_week','cluster_label']).mean().reset_index()\n",
    "\n",
    "# WhatsApp\n",
    "\n",
    "wa = non_sms_notifs[non_sms_notifs.data_0_app_name == 'WhatsApp']\n",
    "wa['day_of_week'] = wa['day_of_week'].astype(int)\n",
    "wa_cluster_info = wa.merge(cluster_ids,on='user_id')\n",
    "wa_cluster_info = wa_cluster_info[['user_id','day_of_week','cluster_label','notif_sent_to_watch']]\n",
    "wa_clusters = wa_cluster_info.groupby(['user_id','cluster_label']).mean().reset_index()\n",
    "wa_cluster_activity = wa_clusters.groupby(['cluster_label']).mean().reset_index()\n",
    "wa_clusters_daily = wa_cluster_info.groupby(['user_id','day_of_week','cluster_label']).mean().reset_index()\n",
    "wa_clusters_daily = wa_clusters_daily.groupby(['day_of_week','cluster_label']).mean().reset_index()\n",
    "\n",
    "# google maps\n",
    "\n",
    "maps['day_of_week'] = maps['day_of_week'].astype(int)\n",
    "maps_cluster_info = maps.merge(cluster_ids,on='user_id')\n",
    "maps_cluster_info = maps_cluster_info[['user_id','day_of_week','cluster_label','notif_sent_to_watch']]\n",
    "maps_clusters = maps_cluster_info.groupby(['user_id','cluster_label']).mean().reset_index()\n",
    "maps_cluster_activity = maps_clusters.groupby(['cluster_label']).mean().reset_index()\n",
    "maps_clusters_daily = maps_cluster_info.groupby(['user_id','day_of_week','cluster_label']).mean().reset_index()\n",
    "maps_clusters_daily = maps_clusters_daily.groupby(['day_of_week','cluster_label']).mean().reset_index()\n",
    "\n",
    "# inbox\n",
    "\n",
    "inbox['day_of_week'] = inbox['day_of_week'].astype(int)\n",
    "inbox_cluster_info = inbox.merge(cluster_ids,on='user_id')\n",
    "inbox_cluster_info = inbox_cluster_info[['user_id','day_of_week','cluster_label','notif_sent_to_watch']]\n",
    "inbox_clusters = inbox_cluster_info.groupby(['user_id','cluster_label']).mean().reset_index()\n",
    "inbox_cluster_activity = inbox_clusters.groupby(['cluster_label']).mean().reset_index()\n",
    "inbox_clusters_daily = inbox_cluster_info.groupby(['user_id','day_of_week','cluster_label']).mean().reset_index()\n",
    "inbox_clusters_daily = inbox_clusters_daily.groupby(['day_of_week','cluster_label']).mean().reset_index()\n",
    "\n",
    "# gmail\n",
    "\n",
    "gmail['day_of_week'] = gmail['day_of_week'].astype(int)\n",
    "gmail_cluster_info = gmail.merge(cluster_ids,on='user_id')\n",
    "gmail_cluster_info = gmail_cluster_info[['user_id','day_of_week','cluster_label','notif_sent_to_watch']]\n",
    "gmail_clusters = gmail_cluster_info.groupby(['user_id','cluster_label']).mean().reset_index()\n",
    "gmail_cluster_activity = gmail_clusters.groupby(['cluster_label']).mean().reset_index()\n",
    "gmail_clusters_daily = gmail_cluster_info.groupby(['user_id','day_of_week','cluster_label']).mean().reset_index()\n",
    "gmail_clusters_daily = gmail_clusters_daily.groupby(['day_of_week','cluster_label']).mean().reset_index()\n",
    "\n",
    "# Google Play\n",
    "\n",
    "gplay['day_of_week'] = gplay['day_of_week'].astype(int)\n",
    "gplay_cluster_info = gplay.merge(cluster_ids,on='user_id')\n",
    "gplay_cluster_info = gplay_cluster_info[['user_id','day_of_week','cluster_label','notif_sent_to_watch']]\n",
    "gplay_clusters = gplay_cluster_info.groupby(['user_id','cluster_label']).mean().reset_index()\n",
    "gplay_cluster_activity = gplay_clusters.groupby(['cluster_label']).mean().reset_index()\n",
    "gplay_clusters_daily = gplay_cluster_info.groupby(['user_id','day_of_week','cluster_label']).mean().reset_index()\n",
    "gplay_clusters_daily = gplay_clusters_daily.groupby(['day_of_week','cluster_label']).mean().reset_index()\n",
    "\n",
    "\n",
    "# Hangouts\n",
    "\n",
    "hang = non_sms_notifs[non_sms_notifs.data_0_app_name == 'Hangouts']\n",
    "hang['day_of_week'] = hang['day_of_week'].astype(int)\n",
    "hang_cluster_info = hang.merge(cluster_ids,on='user_id')\n",
    "hang_cluster_info = hang_cluster_info[['user_id','day_of_week','cluster_label','notif_sent_to_watch']]\n",
    "hang_clusters = hang_cluster_info.groupby(['user_id','cluster_label']).mean().reset_index()\n",
    "hang_cluster_activity = hang_clusters.groupby(['cluster_label']).mean().reset_index()\n",
    "hang_clusters_daily = hang_cluster_info.groupby(['user_id','day_of_week','cluster_label']).mean().reset_index()\n",
    "hang_clusters_daily = hang_clusters_daily.groupby(['day_of_week','cluster_label']).mean().reset_index()\n",
    "\n",
    "\n",
    "# instagram\n",
    "\n",
    "insta = non_sms_notifs[non_sms_notifs.data_0_app_name == 'Instagram']\n",
    "insta['day_of_week'] = insta['day_of_week'].astype(int)\n",
    "insta_cluster_info = insta.merge(cluster_ids,on='user_id')\n",
    "insta_cluster_info = insta_cluster_info[['user_id','day_of_week','cluster_label','notif_sent_to_watch']]\n",
    "insta_clusters = insta_cluster_info.groupby(['user_id','cluster_label']).mean().reset_index()\n",
    "insta_cluster_activity = insta_clusters.groupby(['cluster_label']).mean().reset_index()\n",
    "insta_clusters_daily = insta_cluster_info.groupby(['user_id','day_of_week','cluster_label']).mean().reset_index()\n",
    "insta_clusters_daily = insta_clusters_daily.groupby(['day_of_week','cluster_label']).mean().reset_index()\n",
    "\n",
    "# snapchat\n",
    "\n",
    "sc = non_sms_notifs[non_sms_notifs.data_0_app_name == 'Snapchat']\n",
    "sc['day_of_week'] = sc['day_of_week'].astype(int)\n",
    "sc_cluster_info = sc.merge(cluster_ids,on='user_id')\n",
    "sc_cluster_info = sc_cluster_info[['user_id','day_of_week','cluster_label','notif_sent_to_watch']]\n",
    "sc_clusters = sc_cluster_info.groupby(['user_id','cluster_label']).mean().reset_index()\n",
    "sc_cluster_activity = sc_clusters.groupby(['cluster_label']).mean().reset_index()\n",
    "sc_clusters_daily = sc_cluster_info.groupby(['user_id','day_of_week','cluster_label']).mean().reset_index()\n",
    "sc_clusters_daily = sc_clusters_daily.groupby(['day_of_week','cluster_label']).mean().reset_index()\n",
    "\n",
    "# facebook (NOT FB messenger, simply fB notifications of any kind)\n",
    "\n",
    "fb = non_sms_notifs[non_sms_notifs.data_0_app_name == 'Facebook']\n",
    "fb['day_of_week'] = fb['day_of_week'].astype(int)\n",
    "fb_cluster_info = fb.merge(cluster_ids,on='user_id')\n",
    "fb_cluster_info = fb_cluster_info[['user_id','day_of_week','cluster_label','notif_sent_to_watch']]\n",
    "fb_clusters = fb_cluster_info.groupby(['user_id','cluster_label']).mean().reset_index()\n",
    "fb_cluster_activity = fb_clusters.groupby(['cluster_label']).mean().reset_index()\n",
    "fb_clusters_daily = fb_cluster_info.groupby(['user_id','day_of_week','cluster_label']).mean().reset_index()\n",
    "fb_clusters_daily = fb_clusters_daily.groupby(['day_of_week','cluster_label']).mean().reset_index()\n",
    "\n",
    "\n",
    "\n",
    "# gender data\n",
    "\n",
    "demo_data_with_cluster_info = demo_data.merge(cluster_ids,on='user_id')\n",
    "gender_info = demo_data_with_cluster_info.groupby(['gender','cluster_label']).count().reset_index()\n",
    "\n",
    "# Let's look at the group averages of the groups separated via clustering:\n",
    "\n",
    "group_summary = matrix.groupby(['cluster_label']).mean().reset_index()\n",
    "group_summary = matrix[['avg_bedtime','avg_sleep','avg_waketime','avg_deep_sleep','cluster_label']]\n",
    "grp_summary = group_summary.groupby(['cluster_label']).mean().reset_index()\n",
    "\n",
    "a = grp_summary[grp_summary.avg_bedtime == min(grp_summary.avg_bedtime)].cluster_label\n",
    "b = grp_summary[grp_summary.avg_bedtime == max(grp_summary.avg_bedtime)].cluster_label\n",
    "c = grp_summary[grp_summary.avg_sleep == min(grp_summary.avg_sleep)].cluster_label\n",
    "d = grp_summary[grp_summary.avg_sleep == max(grp_summary.avg_sleep)].cluster_label"
   ]
  },
  {
   "cell_type": "code",
   "execution_count": 60,
   "metadata": {
    "collapsed": false
   },
   "outputs": [],
   "source": [
    "# graphing the platform breakdown of this group\n",
    "\n",
    "platform_demo = step_data.groupby(['user_id','platform']).count().reset_index().groupby('platform').count().reset_index()\n",
    "\n",
    "\n",
    "android = float(platform_demo[platform_demo.platform=='android'].user_id)\n",
    "ios = float(platform_demo[platform_demo.platform=='ios'].user_id)\n",
    "\n",
    "platforms = [android,ios]\n",
    "\n",
    "\n",
    "labels = 'android','ios'\n",
    "\n",
    "plt.figure()\n",
    "plt.subplot(aspect=True)\n",
    "plt.pie(platforms, labels=labels, colors = dark2_colors[4:8:2], autopct='%i%%')\n",
    "plt.title(\"platform breakdown\")\n",
    "plt.show()"
   ]
  },
  {
   "cell_type": "code",
   "execution_count": 11,
   "metadata": {
    "collapsed": false
   },
   "outputs": [],
   "source": [
    "# graphing the demographic makeup of this group\n",
    "\n",
    "gender_df = demo_data.groupby('gender').count().reset_index()\n",
    "\n",
    "fem = float(gender_df[gender_df.gender=='female'].user_id)\n",
    "male = float(gender_df[gender_df.gender=='male'].user_id)\n",
    "unknown = float(gender_df[gender_df.gender=='unknown-andy'].user_id) + float(gender_df[gender_df.gender=='unknown-mostly_female'].user_id)+float(gender_df[gender_df.gender=='unknown-mostly_male'].user_id)\n",
    "\n",
    "genders = [male,fem,unknown]\n",
    "\n",
    "# below is a pie chart of the percentage of users who wore their pebble for 1, 2, 3, 4 ... 8 consecutive days\n",
    "\n",
    "labels = 'male','female','unknown'\n",
    "\n",
    "plt.figure()\n",
    "plt.subplot(aspect=True)\n",
    "plt.pie(genders, labels=labels, colors = dark2_colors[6:9], autopct='%i%%')\n",
    "plt.title(\"gender breakdown\")\n",
    "plt.show()"
   ]
  },
  {
   "cell_type": "code",
   "execution_count": 12,
   "metadata": {
    "collapsed": false
   },
   "outputs": [],
   "source": [
    "# graphing k-means results with sleep vs. deep sleep\n",
    "\n",
    "for i in range(num_clusters):\n",
    "    ds = training[km_labels==i]\n",
    "    plt.plot(ds.iloc[:,2],ds.iloc[:,3],'o', c = dark2_colors[i], alpha = 0.7)\n",
    "    lines = plt.plot(centroids[i,0],'kx')\n",
    "    \n",
    "    \n",
    "plt.ylabel('avg. deep sleep')\n",
    "plt.xlabel('avg. sleep')\n",
    "#plt.axis([19.5, 30, 0, 11])\n",
    "\n",
    "plt.show()\n"
   ]
  },
  {
   "cell_type": "code",
   "execution_count": 13,
   "metadata": {
    "collapsed": false
   },
   "outputs": [],
   "source": [
    "# graphing k-means results with sleep vs. bedtime\n",
    "\n",
    "for i in range(num_clusters):\n",
    "    ds = training[km_labels==i]\n",
    "    plt.plot(ds.iloc[:,0],ds.iloc[:,2],'o', c = dark2_colors[i], alpha = 0.7)\n",
    "    lines = plt.plot(centroids[i,0],'kx')\n",
    "    \n",
    "    \n",
    "plt.ylabel('avg. sleep')\n",
    "plt.xlabel('avg. bedtime')\n",
    "#plt.axis([19.5, 30, 0, 11])\n",
    "\n",
    "plt.show()\n"
   ]
  },
  {
   "cell_type": "code",
   "execution_count": 14,
   "metadata": {
    "collapsed": false
   },
   "outputs": [],
   "source": [
    "# 3D graphing of k-means results\n",
    "\n",
    "fig = plt.figure()\n",
    "ax = fig.gca(projection='3d')\n",
    "\n",
    "ax.set_title('Sleep Phenotypes')\n",
    "ax.set_xlabel('Bedtime')\n",
    "ax.set_ylabel('Wake time')\n",
    "ax.set_zlabel('Total sleep')\n",
    "\n",
    "#ax.set_xlim(19.5,30)\n",
    "#ax.set_ylim(2,11)\n",
    "#ax.set_zlim(4,12)\n",
    "\n",
    "ax.view_init(elev=12,azim=40) # elevation and angle\n",
    "ax.dist=12 # distance\n",
    "\n",
    "#colors = ['r','c','m','b']\n",
    "\n",
    "\n",
    "\n",
    "for i in range(num_clusters):\n",
    "    ds = training[km_labels==i]\n",
    "    ax.scatter(ds.iloc[:,0],ds.iloc[:,1],ds.iloc[:,2],'o',c=dark2_colors[i])\n",
    "    \n",
    "    \n",
    "plt.show()"
   ]
  },
  {
   "cell_type": "code",
   "execution_count": 15,
   "metadata": {
    "collapsed": true
   },
   "outputs": [],
   "source": [
    "# Gender cluster #1\n",
    "\n",
    "gender_grp1 = gender_info[gender_info.cluster_label==int(a)]\n",
    "\n",
    "fem = float(gender_grp1[gender_grp1.gender=='female'].user_id)\n",
    "male = float(gender_grp1[gender_grp1.gender=='male'].user_id)\n",
    "unknown = float(gender_grp1[gender_grp1.gender=='unknown-andy'].user_id) + float(gender_grp1[gender_grp1.gender=='unknown-mostly_female'].user_id)+float(gender_grp1[gender_grp1.gender=='unknown-mostly_male'].user_id)\n",
    "\n",
    "genders = [male,fem,unknown]\n",
    "\n",
    "# below is a pie chart of the percentage of users who wore their pebble for 1, 2, 3, 4 ... 8 consecutive days\n",
    "\n",
    "labels = 'male','female','unknown'\n",
    "\n",
    "plt.figure()\n",
    "plt.subplot(aspect=True)\n",
    "plt.pie(genders, labels=labels, colors = dark2_colors[6:9], autopct='%i%%')\n",
    "plt.title(\"gender breakdown cluster 1\")\n",
    "plt.show()"
   ]
  },
  {
   "cell_type": "code",
   "execution_count": null,
   "metadata": {
    "collapsed": false
   },
   "outputs": [],
   "source": [
    "# Gender cluster #2\n",
    "\n",
    "gender_grp2 = gender_info[gender_info.cluster_label==int(b)]\n",
    "\n",
    "fem = float(gender_grp2[gender_grp2.gender=='female'].user_id)\n",
    "male = float(gender_grp2[gender_grp2.gender=='male'].user_id)\n",
    "unknown = float(gender_grp2[gender_grp2.gender=='unknown-andy'].user_id) + float(gender_grp2[gender_grp2.gender=='unknown-mostly_female'].user_id)+float(gender_grp2[gender_grp2.gender=='unknown-mostly_male'].user_id)\n",
    "\n",
    "genders = [male,fem,unknown]\n",
    "\n",
    "# below is a pie chart of the percentage of users who wore their pebble for 1, 2, 3, 4 ... 8 consecutive days\n",
    "\n",
    "labels = 'male','female','unknown'\n",
    "\n",
    "plt.figure()\n",
    "plt.subplot(aspect=True)\n",
    "plt.pie(genders, labels=labels, colors = dark2_colors[6:9], autopct='%i%%')\n",
    "plt.title(\"gender breakdown cluster 2\")\n",
    "plt.show()"
   ]
  },
  {
   "cell_type": "code",
   "execution_count": 6,
   "metadata": {
    "collapsed": true
   },
   "outputs": [],
   "source": [
    "# Gender cluster #3\n",
    "\n",
    "gender_grp3 = gender_info[gender_info.cluster_label==int(c)]\n",
    "\n",
    "fem = float(gender_grp3[gender_grp3.gender=='female'].user_id)\n",
    "male = float(gender_grp3[gender_grp3.gender=='male'].user_id)\n",
    "unknown = float(gender_grp3[gender_grp3.gender=='unknown-andy'].user_id) + float(gender_grp3[gender_grp3.gender=='unknown-mostly_female'].user_id)+float(gender_grp3[gender_grp3.gender=='unknown-mostly_male'].user_id)\n",
    "\n",
    "genders = [male,fem,unknown]\n",
    "\n",
    "# below is a pie chart of the percentage of users who wore their pebble for 1, 2, 3, 4 ... 8 consecutive days\n",
    "\n",
    "labels = 'male','female','unknown'\n",
    "\n",
    "plt.figure()\n",
    "plt.subplot(aspect=True)\n",
    "plt.pie(genders, labels=labels, colors = dark2_colors[6:9], autopct='%i%%')\n",
    "plt.title(\"gender breakdown cluster 3\")\n",
    "plt.show()"
   ]
  },
  {
   "cell_type": "code",
   "execution_count": 7,
   "metadata": {
    "collapsed": true
   },
   "outputs": [],
   "source": [
    "# Gender cluster #4\n",
    "\n",
    "gender_grp4 = gender_info[gender_info.cluster_label==int(d)]\n",
    "\n",
    "fem = float(gender_grp4[gender_grp4.gender=='female'].user_id)\n",
    "male = float(gender_grp4[gender_grp4.gender=='male'].user_id)\n",
    "unknown = float(gender_grp4[gender_grp4.gender=='unknown-andy'].user_id) + float(gender_grp4[gender_grp4.gender=='unknown-mostly_female'].user_id)+float(gender_grp4[gender_grp4.gender=='unknown-mostly_male'].user_id)\n",
    "\n",
    "genders = [male,fem,unknown]\n",
    "\n",
    "# below is a pie chart of the percentage of users who wore their pebble for 1, 2, 3, 4 ... 8 consecutive days\n",
    "\n",
    "labels = 'male','female','unknown'\n",
    "\n",
    "plt.figure()\n",
    "plt.subplot(aspect=True)\n",
    "plt.pie(genders, labels=labels, colors = dark2_colors[6:9], autopct='%i%%')\n",
    "plt.title(\"gender breakdown cluster 4\")\n",
    "plt.show()"
   ]
  },
  {
   "cell_type": "code",
   "execution_count": 5,
   "metadata": {
    "collapsed": false
   },
   "outputs": [],
   "source": [
    "# make some functions for graphing\n",
    "\n",
    "def bar_graph_scale(y,label,y_min,y_max):\n",
    "    x = np.arange(1,5)\n",
    "    y_val = pd.Series([y[int(a)],y[int(b)],y[int(c)],y[int(d)]])\n",
    "    colors = [dark2_colors[1],dark2_colors[3],dark2_colors[0],dark2_colors[2]]\n",
    "    plt.figure()\n",
    "    ax = plt.gca()\n",
    "    ax.tick_params(axis='x',labelsize=16)\n",
    "    ax.tick_params(axis='y',labelsize=16)\n",
    "    plt.xticks(np.arange(min(x),max(x)+1,1.0))\n",
    "\n",
    "    plt.bar(x - 0.4,y_val,color=colors[0:4])\n",
    "\n",
    "    plt.ylabel(label,size=20)\n",
    "    plt.xlabel('Cluster',size=20)\n",
    "    plt.title(label,size=20)\n",
    "\n",
    "    plt.axis([0.5, 4.5, y_min, y_max])\n",
    "    \n",
    "    remove_border(left=False)\n",
    "    plt.show()\n",
    "\n",
    "def bar_graph(y,label):\n",
    "    x = np.arange(1,5)\n",
    "    y_val = pd.Series([y[int(a)],y[int(b)],y[int(c)],y[int(d)]])\n",
    "    colors = [dark2_colors[1],dark2_colors[3],dark2_colors[0],dark2_colors[2]]\n",
    "    plt.figure()\n",
    "    ax = plt.gca()\n",
    "    ax.tick_params(axis='x',labelsize=16)\n",
    "    ax.tick_params(axis='y',labelsize=16)\n",
    "    plt.xticks(np.arange(min(x),max(x)+1,1.0))\n",
    "\n",
    "    plt.bar(x - 0.4,y_val,color=colors[0:4])\n",
    "\n",
    "    plt.ylabel(label,size=20)\n",
    "    plt.xlabel('Cluster',size=20)\n",
    "    plt.title(label,size=20)\n",
    "\n",
    "    remove_border(left=False)\n",
    "    plt.show()\n",
    "\n",
    "\n",
    "def line_graph(mat,var,label):\n",
    "    x = range(1,8)\n",
    "    plt.figure()\n",
    "\n",
    "    cluster_code = pd.Series([int(a),int(b),int(c),int(d)])\n",
    "    colors = [dark2_colors[1],dark2_colors[3],dark2_colors[0],dark2_colors[2]]\n",
    "\n",
    "    for i in np.arange(4):\n",
    "        plt.plot(x, mat[mat.cluster_label==cluster_code[i]][var],c=colors[i])\n",
    "    \n",
    "    plt.ylabel(label)\n",
    "    plt.xlabel('day of week (1=Mon; 7=Sun)')\n",
    "    plt.legend( x, loc = 'center left',bbox_to_anchor=(1,0.5))\n",
    "    plt.title('%s by Cluster' %(label))\n",
    "\n",
    "    remove_border(left=False)\n",
    "    plt.show()"
   ]
  },
  {
   "cell_type": "code",
   "execution_count": 6,
   "metadata": {
    "collapsed": false
   },
   "outputs": [
    {
     "data": {
      "text/html": [
       "<div>\n",
       "<table border=\"1\" class=\"dataframe\">\n",
       "  <thead>\n",
       "    <tr style=\"text-align: right;\">\n",
       "      <th></th>\n",
       "      <th>cluster_label</th>\n",
       "      <th>avg_bedtime</th>\n",
       "      <th>avg_sleep</th>\n",
       "      <th>avg_waketime</th>\n",
       "      <th>avg_deep_sleep</th>\n",
       "    </tr>\n",
       "  </thead>\n",
       "  <tbody>\n",
       "    <tr>\n",
       "      <th>0</th>\n",
       "      <td>0</td>\n",
       "      <td>23.874477</td>\n",
       "      <td>6.509093</td>\n",
       "      <td>6.682488</td>\n",
       "      <td>2.354206</td>\n",
       "    </tr>\n",
       "    <tr>\n",
       "      <th>1</th>\n",
       "      <td>1</td>\n",
       "      <td>22.781748</td>\n",
       "      <td>7.259396</td>\n",
       "      <td>6.253743</td>\n",
       "      <td>3.289089</td>\n",
       "    </tr>\n",
       "    <tr>\n",
       "      <th>2</th>\n",
       "      <td>2</td>\n",
       "      <td>25.009046</td>\n",
       "      <td>6.849550</td>\n",
       "      <td>8.128574</td>\n",
       "      <td>2.674557</td>\n",
       "    </tr>\n",
       "    <tr>\n",
       "      <th>3</th>\n",
       "      <td>3</td>\n",
       "      <td>23.611413</td>\n",
       "      <td>7.813337</td>\n",
       "      <td>7.625183</td>\n",
       "      <td>3.747682</td>\n",
       "    </tr>\n",
       "  </tbody>\n",
       "</table>\n",
       "</div>"
      ],
      "text/plain": [
       "   cluster_label  avg_bedtime  avg_sleep  avg_waketime  avg_deep_sleep\n",
       "0              0    23.874477   6.509093      6.682488        2.354206\n",
       "1              1    22.781748   7.259396      6.253743        3.289089\n",
       "2              2    25.009046   6.849550      8.128574        2.674557\n",
       "3              3    23.611413   7.813337      7.625183        3.747682"
      ]
     },
     "execution_count": 6,
     "metadata": {},
     "output_type": "execute_result"
    }
   ],
   "source": [
    "grp_summary"
   ]
  },
  {
   "cell_type": "code",
   "execution_count": 7,
   "metadata": {
    "collapsed": false
   },
   "outputs": [],
   "source": [
    "# Group average for bedtime\n",
    "\n",
    "y = grp_summary.avg_bedtime\n",
    "y_min = 20\n",
    "y_max = 26\n",
    "label = 'Avg Bedtime'\n",
    "\n",
    "bar_graph_scale(y,label,y_min,y_max)\n"
   ]
  },
  {
   "cell_type": "code",
   "execution_count": 19,
   "metadata": {
    "collapsed": true
   },
   "outputs": [],
   "source": [
    "# Group average for waketime\n",
    "\n",
    "y = grp_summary.avg_waketime\n",
    "y_min = 5\n",
    "y_max = 9\n",
    "label = 'Avg Waketime'\n",
    "\n",
    "bar_graph_scale(y,label,y_min,y_max)\n"
   ]
  },
  {
   "cell_type": "code",
   "execution_count": 20,
   "metadata": {
    "collapsed": true
   },
   "outputs": [],
   "source": [
    "# Group average for total sleep\n",
    "\n",
    "y = grp_summary.avg_sleep\n",
    "y_min = 5\n",
    "y_max = 9\n",
    "label = 'Avg Sleep Duration'\n",
    "\n",
    "bar_graph_scale(y,label,y_min,y_max)\n"
   ]
  },
  {
   "cell_type": "code",
   "execution_count": 21,
   "metadata": {
    "collapsed": true
   },
   "outputs": [],
   "source": [
    "# Group average for deep sleep\n",
    "\n",
    "y = grp_summary.avg_deep_sleep\n",
    "y_min = 0\n",
    "y_max = 4\n",
    "label = 'Avg Deep Sleep'\n",
    "\n",
    "bar_graph_scale(y,label,y_min,y_max)\n"
   ]
  },
  {
   "cell_type": "code",
   "execution_count": 36,
   "metadata": {
    "collapsed": false
   },
   "outputs": [
    {
     "data": {
      "text/html": [
       "<div>\n",
       "<table border=\"1\" class=\"dataframe\">\n",
       "  <thead>\n",
       "    <tr style=\"text-align: right;\">\n",
       "      <th></th>\n",
       "      <th>cluster_label</th>\n",
       "      <th>notif_sent_to_watch</th>\n",
       "    </tr>\n",
       "  </thead>\n",
       "  <tbody>\n",
       "    <tr>\n",
       "      <th>0</th>\n",
       "      <td>0</td>\n",
       "      <td>12.841728</td>\n",
       "    </tr>\n",
       "    <tr>\n",
       "      <th>1</th>\n",
       "      <td>1</td>\n",
       "      <td>19.152840</td>\n",
       "    </tr>\n",
       "    <tr>\n",
       "      <th>2</th>\n",
       "      <td>2</td>\n",
       "      <td>8.204950</td>\n",
       "    </tr>\n",
       "    <tr>\n",
       "      <th>3</th>\n",
       "      <td>3</td>\n",
       "      <td>11.252861</td>\n",
       "    </tr>\n",
       "  </tbody>\n",
       "</table>\n",
       "</div>"
      ],
      "text/plain": [
       "   cluster_label  notif_sent_to_watch\n",
       "0              0            12.841728\n",
       "1              1            19.152840\n",
       "2              2             8.204950\n",
       "3              3            11.252861"
      ]
     },
     "execution_count": 36,
     "metadata": {},
     "output_type": "execute_result"
    }
   ],
   "source": [
    "fb_msg_cluster_activity"
   ]
  },
  {
   "cell_type": "code",
   "execution_count": 6,
   "metadata": {
    "collapsed": true
   },
   "outputs": [],
   "source": [
    "# Avg Fb messages received on watch by android users, split by cluster\n",
    "\n",
    "y = fb_msg_cluster_activity.notif_sent_to_watch\n",
    "\n",
    "label = '# FB messenger notifs'\n",
    "\n",
    "bar_graph(y,label)"
   ]
  },
  {
   "cell_type": "code",
   "execution_count": 88,
   "metadata": {
    "collapsed": false
   },
   "outputs": [],
   "source": [
    "# FB messages received by day\n",
    "\n",
    "mat = fb_msg_clusters_daily\n",
    "var = 'notif_sent_to_watch'\n",
    "label = '# FB messenger notifs'\n",
    "\n",
    "line_graph(mat,var,label)"
   ]
  },
  {
   "cell_type": "code",
   "execution_count": 7,
   "metadata": {
    "collapsed": true
   },
   "outputs": [],
   "source": [
    "# Avg Google Maps messages received on watch by android users, split by cluster\n",
    "\n",
    "y = maps_cluster_activity.notif_sent_to_watch\n",
    "\n",
    "label = '# G-Maps notifs'\n",
    "\n",
    "bar_graph(y,label)"
   ]
  },
  {
   "cell_type": "code",
   "execution_count": null,
   "metadata": {
    "collapsed": true
   },
   "outputs": [],
   "source": [
    "# Google Maps messages received by day\n",
    "\n",
    "mat = maps_clusters_daily\n",
    "var = 'notif_sent_to_watch'\n",
    "label = '# G-Maps notifs'\n",
    "\n",
    "line_graph(mat,var,label)"
   ]
  },
  {
   "cell_type": "code",
   "execution_count": 8,
   "metadata": {
    "collapsed": true
   },
   "outputs": [],
   "source": [
    "# Avg Google Mail messages received on watch by android users, split by cluster\n",
    "\n",
    "y = gmail_cluster_activity.notif_sent_to_watch\n",
    "\n",
    "label = '# GMail notifs'\n",
    "\n",
    "bar_graph(y,label)"
   ]
  },
  {
   "cell_type": "code",
   "execution_count": 6,
   "metadata": {
    "collapsed": true
   },
   "outputs": [],
   "source": [
    "# Google Mail messages received by day\n",
    "\n",
    "mat = gmail_clusters_daily\n",
    "var = 'notif_sent_to_watch'\n",
    "label = '# GMail notifs'\n",
    "\n",
    "line_graph(mat,var,label)"
   ]
  },
  {
   "cell_type": "code",
   "execution_count": 1,
   "metadata": {
    "collapsed": false
   },
   "outputs": [
    {
     "ename": "NameError",
     "evalue": "name 'inbox_cluster_activity' is not defined",
     "output_type": "error",
     "traceback": [
      "\u001b[0;31m---------------------------------------------------------------------------\u001b[0m",
      "\u001b[0;31mNameError\u001b[0m                                 Traceback (most recent call last)",
      "\u001b[0;32m<ipython-input-1-283aa297e494>\u001b[0m in \u001b[0;36m<module>\u001b[0;34m()\u001b[0m\n\u001b[1;32m      1\u001b[0m \u001b[0;31m# Avg Inbox messages received on watch by android users, split by cluster\u001b[0m\u001b[0;34m\u001b[0m\u001b[0;34m\u001b[0m\u001b[0m\n\u001b[1;32m      2\u001b[0m \u001b[0;34m\u001b[0m\u001b[0m\n\u001b[0;32m----> 3\u001b[0;31m \u001b[0my\u001b[0m \u001b[0;34m=\u001b[0m \u001b[0minbox_cluster_activity\u001b[0m\u001b[0;34m.\u001b[0m\u001b[0mnotif_sent_to_watch\u001b[0m\u001b[0;34m\u001b[0m\u001b[0m\n\u001b[0m\u001b[1;32m      4\u001b[0m \u001b[0;34m\u001b[0m\u001b[0m\n\u001b[1;32m      5\u001b[0m \u001b[0mlabel\u001b[0m \u001b[0;34m=\u001b[0m \u001b[0;34m'# Inbox notifs'\u001b[0m\u001b[0;34m\u001b[0m\u001b[0m\n",
      "\u001b[0;31mNameError\u001b[0m: name 'inbox_cluster_activity' is not defined"
     ]
    }
   ],
   "source": [
    "# Avg Inbox messages received on watch by android users, split by cluster\n",
    "\n",
    "y = inbox_cluster_activity.notif_sent_to_watch\n",
    "\n",
    "label = '# Inbox notifs'\n",
    "\n",
    "bar_graph(y,label)"
   ]
  },
  {
   "cell_type": "code",
   "execution_count": null,
   "metadata": {
    "collapsed": true
   },
   "outputs": [],
   "source": [
    "# Inbox messages received by day\n",
    "\n",
    "mat = inbox_clusters_daily\n",
    "var = 'notif_sent_to_watch'\n",
    "label = '# Inbox notifs'\n",
    "\n",
    "line_graph(mat,var,label)"
   ]
  },
  {
   "cell_type": "code",
   "execution_count": 17,
   "metadata": {
    "collapsed": false
   },
   "outputs": [
    {
     "data": {
      "text/html": [
       "<div>\n",
       "<table border=\"1\" class=\"dataframe\">\n",
       "  <thead>\n",
       "    <tr style=\"text-align: right;\">\n",
       "      <th></th>\n",
       "      <th>cluster_label</th>\n",
       "      <th>day_of_week</th>\n",
       "      <th>notif_sent_to_watch</th>\n",
       "    </tr>\n",
       "  </thead>\n",
       "  <tbody>\n",
       "    <tr>\n",
       "      <th>0</th>\n",
       "      <td>0</td>\n",
       "      <td>3.712004</td>\n",
       "      <td>9.461017</td>\n",
       "    </tr>\n",
       "    <tr>\n",
       "      <th>1</th>\n",
       "      <td>1</td>\n",
       "      <td>3.862744</td>\n",
       "      <td>9.753684</td>\n",
       "    </tr>\n",
       "    <tr>\n",
       "      <th>2</th>\n",
       "      <td>2</td>\n",
       "      <td>3.970465</td>\n",
       "      <td>11.686553</td>\n",
       "    </tr>\n",
       "    <tr>\n",
       "      <th>3</th>\n",
       "      <td>3</td>\n",
       "      <td>4.038819</td>\n",
       "      <td>10.538986</td>\n",
       "    </tr>\n",
       "  </tbody>\n",
       "</table>\n",
       "</div>"
      ],
      "text/plain": [
       "   cluster_label  day_of_week  notif_sent_to_watch\n",
       "0              0     3.712004             9.461017\n",
       "1              1     3.862744             9.753684\n",
       "2              2     3.970465            11.686553\n",
       "3              3     4.038819            10.538986"
      ]
     },
     "execution_count": 17,
     "metadata": {},
     "output_type": "execute_result"
    }
   ],
   "source": [
    "gplay_cluster_activity"
   ]
  },
  {
   "cell_type": "code",
   "execution_count": 18,
   "metadata": {
    "collapsed": false
   },
   "outputs": [],
   "source": [
    "# Avg Google Play Store messages received on watch by android users, split by cluster\n",
    "\n",
    "y = gplay_cluster_activity.notif_sent_to_watch\n",
    "\n",
    "label = '# G-Play Store notifs'\n",
    "\n",
    "bar_graph(y,label)"
   ]
  },
  {
   "cell_type": "code",
   "execution_count": null,
   "metadata": {
    "collapsed": true
   },
   "outputs": [],
   "source": [
    "# Google Play Store messages received by day\n",
    "\n",
    "mat = gplay_clusters_daily\n",
    "var = 'notif_sent_to_watch'\n",
    "label = '# G-Play Store notifs'\n",
    "\n",
    "line_graph(mat,var,label)"
   ]
  },
  {
   "cell_type": "code",
   "execution_count": 21,
   "metadata": {
    "collapsed": true
   },
   "outputs": [],
   "source": [
    "# Avg Instagram messages received on watch by android users, split by cluster\n",
    "\n",
    "y = insta_cluster_activity.notif_sent_to_watch\n",
    "\n",
    "label = '# Instagram notifs'\n",
    "\n",
    "bar_graph(y,label)"
   ]
  },
  {
   "cell_type": "code",
   "execution_count": 22,
   "metadata": {
    "collapsed": true
   },
   "outputs": [],
   "source": [
    "# Instagram messages received by day\n",
    "\n",
    "mat = insta_clusters_daily\n",
    "var = 'notif_sent_to_watch'\n",
    "label = '# Instagram notifs'\n",
    "\n",
    "line_graph(mat,var,label)"
   ]
  },
  {
   "cell_type": "code",
   "execution_count": 23,
   "metadata": {
    "collapsed": true
   },
   "outputs": [],
   "source": [
    "# Avg Snapchat messages received on watch by android users, split by cluster\n",
    "\n",
    "y = sc_cluster_activity.notif_sent_to_watch\n",
    "\n",
    "label = '# Snapchat notifs'\n",
    "\n",
    "bar_graph(y,label)"
   ]
  },
  {
   "cell_type": "code",
   "execution_count": 24,
   "metadata": {
    "collapsed": true
   },
   "outputs": [],
   "source": [
    "# Snapchat messages received by day\n",
    "\n",
    "mat = sc_clusters_daily\n",
    "var = 'notif_sent_to_watch'\n",
    "label = '# Snapchat notifs'\n",
    "\n",
    "line_graph(mat,var,label)"
   ]
  },
  {
   "cell_type": "code",
   "execution_count": 25,
   "metadata": {
    "collapsed": true
   },
   "outputs": [],
   "source": [
    "# Avg Hangout notifs received on watch by android users, split by cluster\n",
    "\n",
    "y = hang_cluster_activity.notif_sent_to_watch\n",
    "\n",
    "label = '# Hangout notifs'\n",
    "\n",
    "bar_graph(y,label)"
   ]
  },
  {
   "cell_type": "code",
   "execution_count": null,
   "metadata": {
    "collapsed": true
   },
   "outputs": [],
   "source": [
    "# Hangout messages received by day\n",
    "\n",
    "mat = hang_clusters_daily\n",
    "var = 'notif_sent_to_watch'\n",
    "label = '# Hangout notifs'\n",
    "\n",
    "line_graph(mat,var,label)"
   ]
  },
  {
   "cell_type": "code",
   "execution_count": 7,
   "metadata": {
    "collapsed": true
   },
   "outputs": [],
   "source": [
    "# Avg FB notifs received on watch by android users, split by cluster\n",
    "\n",
    "y = fb_cluster_activity.notif_sent_to_watch\n",
    "\n",
    "label = '# FB notifs'\n",
    "\n",
    "bar_graph(y,label)"
   ]
  },
  {
   "cell_type": "code",
   "execution_count": 8,
   "metadata": {
    "collapsed": true
   },
   "outputs": [],
   "source": [
    "# FB notifs received by day\n",
    "\n",
    "mat = fb_clusters_daily\n",
    "var = 'notif_sent_to_watch'\n",
    "label = '# FB notifs'\n",
    "\n",
    "line_graph(mat,var,label)"
   ]
  },
  {
   "cell_type": "code",
   "execution_count": null,
   "metadata": {
    "collapsed": true
   },
   "outputs": [],
   "source": [
    "# Avg WhatsApp messages received on watch by android users, split by cluster\n",
    "\n",
    "y = wa_cluster_activity.notif_sent_to_watch\n",
    "\n",
    "label = '# WhatsApp notifs'\n",
    "\n",
    "bar_graph(y,label)"
   ]
  },
  {
   "cell_type": "code",
   "execution_count": null,
   "metadata": {
    "collapsed": true
   },
   "outputs": [],
   "source": [
    "# WhatsApp messages received by day\n",
    "\n",
    "mat = wa_clusters_daily\n",
    "var = 'notif_sent_to_watch'\n",
    "label = '# WhatsApp notifs'\n",
    "\n",
    "line_graph(mat,var,label)"
   ]
  },
  {
   "cell_type": "code",
   "execution_count": 16,
   "metadata": {
    "collapsed": true
   },
   "outputs": [],
   "source": [
    "# Avg SMS received on watch by android users, split by cluster\n",
    "\n",
    "y = sms_cluster_activity.notif_sent_to_watch\n",
    "\n",
    "label = '# SMS received'\n",
    "\n",
    "bar_graph(y,label)"
   ]
  },
  {
   "cell_type": "code",
   "execution_count": 17,
   "metadata": {
    "collapsed": false
   },
   "outputs": [],
   "source": [
    "# SMS received by day\n",
    "\n",
    "mat = sms_clusters_daily\n",
    "var = 'notif_sent_to_watch'\n",
    "label = '# SMS received'\n",
    "\n",
    "line_graph(mat,var,label)"
   ]
  },
  {
   "cell_type": "code",
   "execution_count": 21,
   "metadata": {
    "collapsed": false
   },
   "outputs": [],
   "source": [
    "# Cluster groups avg for time on wrist\n",
    "\n",
    "y = tow_cluster_activity.hours_on_wrist\n",
    "y_min = 0\n",
    "y_max = 24\n",
    "\n",
    "label = 'Hours on Wrist'\n",
    "\n",
    "bar_graph_scale(y,label,y_min,y_max)\n"
   ]
  },
  {
   "cell_type": "code",
   "execution_count": 25,
   "metadata": {
    "collapsed": false
   },
   "outputs": [],
   "source": [
    "# HOURS ON WRIST BY DAY\n",
    "\n",
    "mat = tow_clusters_daily\n",
    "var = 'hours_on_wrist'\n",
    "label = 'Hours on Wrist'\n",
    "\n",
    "line_graph(mat,var,label)"
   ]
  },
  {
   "cell_type": "code",
   "execution_count": 14,
   "metadata": {
    "collapsed": true
   },
   "outputs": [],
   "source": [
    "# Group average for total steps\n",
    "\n",
    "y = step_group_analysis.total_step_count\n",
    "\n",
    "label = 'Avg Steps'\n",
    "\n",
    "bar_graph(y,label)\n"
   ]
  },
  {
   "cell_type": "code",
   "execution_count": 12,
   "metadata": {
    "collapsed": false
   },
   "outputs": [],
   "source": [
    "# CLUSTERS BY ACTIVITY BY DAY\n",
    "\n",
    "mat = daily_cluster_activity\n",
    "var = 'total_step_count'\n",
    "label = 'Avg Steps'\n",
    "\n",
    "line_graph(mat,var,label)"
   ]
  },
  {
   "cell_type": "code",
   "execution_count": 13,
   "metadata": {
    "collapsed": false
   },
   "outputs": [],
   "source": [
    "# CLUSTERS BY bedtime BY DAY\n",
    "\n",
    "mat = sleep_cluster_activity\n",
    "var = 'peb_start_sleep'\n",
    "label = 'Bedtime'\n",
    "\n",
    "line_graph(mat,var,label)"
   ]
  },
  {
   "cell_type": "code",
   "execution_count": 14,
   "metadata": {
    "collapsed": false
   },
   "outputs": [],
   "source": [
    "# CLUSTERS BY wake-time BY DAY\n",
    "\n",
    "mat = sleep_cluster_activity\n",
    "var = 'peb_stop_sleep'\n",
    "label = 'Wake Time'\n",
    "\n",
    "line_graph(mat,var,label)"
   ]
  },
  {
   "cell_type": "code",
   "execution_count": 15,
   "metadata": {
    "collapsed": false
   },
   "outputs": [],
   "source": [
    "# CLUSTERS BY deep sleep BY DAY\n",
    "\n",
    "mat = sleep_cluster_activity\n",
    "var = 'peb_deep_sleep'\n",
    "label = 'Deep Sleep'\n",
    "\n",
    "line_graph(mat,var,label)\n"
   ]
  },
  {
   "cell_type": "code",
   "execution_count": 16,
   "metadata": {
    "collapsed": true
   },
   "outputs": [],
   "source": [
    "# CLUSTERS BY sleep BY DAY\n",
    "\n",
    "mat = sleep_cluster_activity\n",
    "var = 'peb_total_sleep'\n",
    "label = 'Total Sleep'\n",
    "\n",
    "line_graph(mat,var,label)\n"
   ]
  },
  {
   "cell_type": "code",
   "execution_count": 17,
   "metadata": {
    "collapsed": true
   },
   "outputs": [],
   "source": [
    "# sleep session cluster analysis\n",
    "\n",
    "y = sleep_session_cluster_analysis.num_sleep_sessions\n",
    "label = '# sleep sessions'\n",
    "\n",
    "bar_graph(y,label)\n"
   ]
  },
  {
   "cell_type": "code",
   "execution_count": 18,
   "metadata": {
    "collapsed": false
   },
   "outputs": [],
   "source": [
    "# sleep session cluster analysis BY DAY\n",
    "\n",
    "mat = sleep_session_cluster_daily\n",
    "var = 'num_sleep_sessions'\n",
    "label = '# Sleep Sessions'\n",
    "\n",
    "line_graph(mat,var,label)"
   ]
  },
  {
   "cell_type": "code",
   "execution_count": 19,
   "metadata": {
    "collapsed": true
   },
   "outputs": [],
   "source": [
    "# graphing the cluster compositions\n",
    "\n",
    "cluster_counts = cluster_ids.groupby(['cluster_label']).count().reset_index()\n",
    "cluster_nums = pd.Series([cluster_counts.user_id[int(a)],cluster_counts.user_id[int(b)],cluster_counts.user_id[int(c)],cluster_counts.user_id[int(d)]])\n",
    "\n",
    "labels = '1','2','3','4'\n",
    "\n",
    "\n",
    "plt.figure()\n",
    "plt.subplot(aspect=True)\n",
    "plt.pie(cluster_nums, labels=labels, colors = [dark2_colors[1],dark2_colors[3],dark2_colors[0],dark2_colors[2]], autopct='%i%%')\n",
    "plt.title(\"cluster composition\")\n",
    "plt.show()"
   ]
  },
  {
   "cell_type": "code",
   "execution_count": 7,
   "metadata": {
    "collapsed": true
   },
   "outputs": [],
   "source": [
    "# watch cluster analysis: phone call elapsed time\n",
    "\n",
    "y = watch_cluster_activity.phone_call_elapsed_time\n",
    "label = 'Avg Phone Call Time'\n",
    "\n",
    "bar_graph(y,label)"
   ]
  },
  {
   "cell_type": "code",
   "execution_count": null,
   "metadata": {
    "collapsed": true
   },
   "outputs": [],
   "source": [
    "y = watch_cluster_activity.phone_answer_count\n",
    "label = 'Avg Phone Answer #'\n",
    "\n",
    "bar_graph(y,label)"
   ]
  },
  {
   "cell_type": "code",
   "execution_count": null,
   "metadata": {
    "collapsed": true
   },
   "outputs": [],
   "source": [
    "y = watch_cluster_activity.outgoing_call_count\n",
    "label = 'Avg Outgoing Call #'\n",
    "\n",
    "bar_graph(y,label)"
   ]
  },
  {
   "cell_type": "code",
   "execution_count": 6,
   "metadata": {
    "collapsed": true
   },
   "outputs": [],
   "source": [
    "y = watch_cluster_activity.incoming_call_count\n",
    "label = 'Avg Incoming Call #'\n",
    "\n",
    "bar_graph(y,label)"
   ]
  },
  {
   "cell_type": "code",
   "execution_count": null,
   "metadata": {
    "collapsed": true
   },
   "outputs": [],
   "source": [
    "y = watch_cluster_activity.notif_count\n",
    "label = 'Avg Notif #'\n",
    "\n",
    "bar_graph(y,label)"
   ]
  },
  {
   "cell_type": "code",
   "execution_count": 6,
   "metadata": {
    "collapsed": true
   },
   "outputs": [],
   "source": [
    "y = watch_cluster_activity.buttons_pressed\n",
    "label = 'Avg Buttons Pressed'\n",
    "\n",
    "bar_graph(y,label)"
   ]
  },
  {
   "cell_type": "code",
   "execution_count": 18,
   "metadata": {
    "collapsed": false
   },
   "outputs": [
    {
     "data": {
      "text/html": [
       "<div>\n",
       "<table border=\"1\" class=\"dataframe\">\n",
       "  <thead>\n",
       "    <tr style=\"text-align: right;\">\n",
       "      <th></th>\n",
       "      <th>cluster_label</th>\n",
       "      <th>day_of_week</th>\n",
       "      <th>day_of_year</th>\n",
       "      <th>buttons_pressed</th>\n",
       "      <th>backlight_on_count</th>\n",
       "      <th>notif_count</th>\n",
       "      <th>notif_count_dnd</th>\n",
       "      <th>vibrate_count</th>\n",
       "      <th>alarm_count</th>\n",
       "      <th>incoming_call_count</th>\n",
       "      <th>...</th>\n",
       "      <th>phone_decline_count</th>\n",
       "      <th>phone_call_elapsed_time</th>\n",
       "      <th>future_scroll_count</th>\n",
       "      <th>past_scroll_count</th>\n",
       "      <th>rescaled_notif_count</th>\n",
       "      <th>rescaled_incoming_call_count</th>\n",
       "      <th>rescaled_outgoing_call_count</th>\n",
       "      <th>rescaled_phone_answer_count</th>\n",
       "      <th>rescaled_phone_call_elapsed_time</th>\n",
       "      <th>sociability_avg</th>\n",
       "    </tr>\n",
       "  </thead>\n",
       "  <tbody>\n",
       "    <tr>\n",
       "      <th>0</th>\n",
       "      <td>0</td>\n",
       "      <td>4.020431</td>\n",
       "      <td>52.344181</td>\n",
       "      <td>79.442227</td>\n",
       "      <td>155.393386</td>\n",
       "      <td>50.730572</td>\n",
       "      <td>7.143663</td>\n",
       "      <td>84.987352</td>\n",
       "      <td>0.904460</td>\n",
       "      <td>1.747983</td>\n",
       "      <td>...</td>\n",
       "      <td>0.126018</td>\n",
       "      <td>20249497.146294</td>\n",
       "      <td>0.705815</td>\n",
       "      <td>0.379908</td>\n",
       "      <td>0.035438</td>\n",
       "      <td>0.050712</td>\n",
       "      <td>0.000410</td>\n",
       "      <td>0.003673</td>\n",
       "      <td>0.238384</td>\n",
       "      <td>0.028854</td>\n",
       "    </tr>\n",
       "    <tr>\n",
       "      <th>1</th>\n",
       "      <td>1</td>\n",
       "      <td>4.028132</td>\n",
       "      <td>52.314471</td>\n",
       "      <td>69.373931</td>\n",
       "      <td>130.280046</td>\n",
       "      <td>43.309340</td>\n",
       "      <td>6.456044</td>\n",
       "      <td>65.011523</td>\n",
       "      <td>0.677752</td>\n",
       "      <td>1.373939</td>\n",
       "      <td>...</td>\n",
       "      <td>0.101163</td>\n",
       "      <td>19904311.843522</td>\n",
       "      <td>0.617947</td>\n",
       "      <td>0.387928</td>\n",
       "      <td>0.030254</td>\n",
       "      <td>0.039860</td>\n",
       "      <td>0.000381</td>\n",
       "      <td>0.002474</td>\n",
       "      <td>0.234320</td>\n",
       "      <td>0.023498</td>\n",
       "    </tr>\n",
       "  </tbody>\n",
       "</table>\n",
       "<p>2 rows × 22 columns</p>\n",
       "</div>"
      ],
      "text/plain": [
       "   cluster_label  day_of_week  day_of_year  buttons_pressed  \\\n",
       "0              0     4.020431    52.344181        79.442227   \n",
       "1              1     4.028132    52.314471        69.373931   \n",
       "\n",
       "   backlight_on_count  notif_count  notif_count_dnd  vibrate_count  \\\n",
       "0          155.393386    50.730572         7.143663      84.987352   \n",
       "1          130.280046    43.309340         6.456044      65.011523   \n",
       "\n",
       "   alarm_count  incoming_call_count       ...         phone_decline_count  \\\n",
       "0     0.904460             1.747983       ...                    0.126018   \n",
       "1     0.677752             1.373939       ...                    0.101163   \n",
       "\n",
       "   phone_call_elapsed_time  future_scroll_count  past_scroll_count  \\\n",
       "0          20249497.146294             0.705815           0.379908   \n",
       "1          19904311.843522             0.617947           0.387928   \n",
       "\n",
       "   rescaled_notif_count  rescaled_incoming_call_count  \\\n",
       "0              0.035438                      0.050712   \n",
       "1              0.030254                      0.039860   \n",
       "\n",
       "   rescaled_outgoing_call_count  rescaled_phone_answer_count  \\\n",
       "0                      0.000410                     0.003673   \n",
       "1                      0.000381                     0.002474   \n",
       "\n",
       "   rescaled_phone_call_elapsed_time  sociability_avg  \n",
       "0                          0.238384         0.028854  \n",
       "1                          0.234320         0.023498  \n",
       "\n",
       "[2 rows x 22 columns]"
      ]
     },
     "execution_count": 18,
     "metadata": {},
     "output_type": "execute_result"
    }
   ],
   "source": [
    "watch_cluster_activity.head(2)"
   ]
  },
  {
   "cell_type": "code",
   "execution_count": 19,
   "metadata": {
    "collapsed": true
   },
   "outputs": [],
   "source": [
    "y = watch_cluster_activity.sociability_avg\n",
    "label = 'Avg Sociability Score'\n",
    "\n",
    "bar_graph(y,label)"
   ]
  },
  {
   "cell_type": "code",
   "execution_count": 18,
   "metadata": {
    "collapsed": false
   },
   "outputs": [
    {
     "data": {
      "text/plain": [
       "Ttest_indResult(statistic=-11.098898142615027, pvalue=2.1234481276775462e-28)"
      ]
     },
     "execution_count": 18,
     "metadata": {},
     "output_type": "execute_result"
    }
   ],
   "source": [
    "# let's run a t-test to see if there is a sig difference between the sociability score for groups 1 vs 2\n",
    "\n",
    "group1 = watches[watches.cluster_label==int(a)]\n",
    "group2 = watches[watches.cluster_label==int(b)]\n",
    "group3 = watches[watches.cluster_label==int(c)]\n",
    "group4 = watches[watches.cluster_label==int(d)]\n",
    "\n",
    "stats.ttest_ind(group1['sociability_avg'],group2['sociability_avg'])\n",
    "\n",
    "#stats.ttest_ind(group3['sociability_avg'],group4['sociability_avg'])"
   ]
  },
  {
   "cell_type": "code",
   "execution_count": 21,
   "metadata": {
    "collapsed": false
   },
   "outputs": [
    {
     "data": {
      "text/html": [
       "<div>\n",
       "<table border=\"1\" class=\"dataframe\">\n",
       "  <thead>\n",
       "    <tr style=\"text-align: right;\">\n",
       "      <th></th>\n",
       "      <th>user_id</th>\n",
       "      <th>cluster_label</th>\n",
       "      <th>day_of_week</th>\n",
       "      <th>day_of_year</th>\n",
       "      <th>buttons_pressed</th>\n",
       "      <th>backlight_on_count</th>\n",
       "      <th>notif_count</th>\n",
       "      <th>notif_count_dnd</th>\n",
       "      <th>vibrate_count</th>\n",
       "      <th>alarm_count</th>\n",
       "      <th>...</th>\n",
       "      <th>phone_decline_count</th>\n",
       "      <th>phone_call_elapsed_time</th>\n",
       "      <th>future_scroll_count</th>\n",
       "      <th>past_scroll_count</th>\n",
       "      <th>rescaled_notif_count</th>\n",
       "      <th>rescaled_incoming_call_count</th>\n",
       "      <th>rescaled_outgoing_call_count</th>\n",
       "      <th>rescaled_phone_answer_count</th>\n",
       "      <th>rescaled_phone_call_elapsed_time</th>\n",
       "      <th>sociability_avg</th>\n",
       "    </tr>\n",
       "  </thead>\n",
       "  <tbody>\n",
       "    <tr>\n",
       "      <th>0</th>\n",
       "      <td>52711d4bdc50c571b8000029</td>\n",
       "      <td>2</td>\n",
       "      <td>4.117647</td>\n",
       "      <td>51.588235</td>\n",
       "      <td>29.852941</td>\n",
       "      <td>18.529412</td>\n",
       "      <td>9.529412</td>\n",
       "      <td>0.000000</td>\n",
       "      <td>13.882353</td>\n",
       "      <td>0.000000</td>\n",
       "      <td>...</td>\n",
       "      <td>0.000000</td>\n",
       "      <td>17501.088235</td>\n",
       "      <td>NaN</td>\n",
       "      <td>NaN</td>\n",
       "      <td>0.006657</td>\n",
       "      <td>0.003413</td>\n",
       "      <td>0</td>\n",
       "      <td>0</td>\n",
       "      <td>0.000206</td>\n",
       "      <td>0.003357</td>\n",
       "    </tr>\n",
       "    <tr>\n",
       "      <th>1</th>\n",
       "      <td>52711d4cdc50c571b80000c8</td>\n",
       "      <td>1</td>\n",
       "      <td>4.064516</td>\n",
       "      <td>52.000000</td>\n",
       "      <td>28.935484</td>\n",
       "      <td>74.451613</td>\n",
       "      <td>7.000000</td>\n",
       "      <td>2.451613</td>\n",
       "      <td>16.548387</td>\n",
       "      <td>0.000000</td>\n",
       "      <td>...</td>\n",
       "      <td>0.096774</td>\n",
       "      <td>17984432.096774</td>\n",
       "      <td>0.333333</td>\n",
       "      <td>0</td>\n",
       "      <td>0.004890</td>\n",
       "      <td>0.015910</td>\n",
       "      <td>0</td>\n",
       "      <td>0</td>\n",
       "      <td>0.211719</td>\n",
       "      <td>0.006933</td>\n",
       "    </tr>\n",
       "    <tr>\n",
       "      <th>2</th>\n",
       "      <td>52711d4cdc50c571b80000e2</td>\n",
       "      <td>3</td>\n",
       "      <td>3.882353</td>\n",
       "      <td>51.147059</td>\n",
       "      <td>71.235294</td>\n",
       "      <td>166.264706</td>\n",
       "      <td>31.794118</td>\n",
       "      <td>5.441176</td>\n",
       "      <td>39.529412</td>\n",
       "      <td>0.529412</td>\n",
       "      <td>...</td>\n",
       "      <td>0.088235</td>\n",
       "      <td>487574.970588</td>\n",
       "      <td>NaN</td>\n",
       "      <td>NaN</td>\n",
       "      <td>0.022210</td>\n",
       "      <td>0.066556</td>\n",
       "      <td>0</td>\n",
       "      <td>0</td>\n",
       "      <td>0.005740</td>\n",
       "      <td>0.029589</td>\n",
       "    </tr>\n",
       "    <tr>\n",
       "      <th>3</th>\n",
       "      <td>52711d4ddc50c571b8000453</td>\n",
       "      <td>1</td>\n",
       "      <td>3.690476</td>\n",
       "      <td>52.857143</td>\n",
       "      <td>30.261905</td>\n",
       "      <td>140.547619</td>\n",
       "      <td>37.619048</td>\n",
       "      <td>2.333333</td>\n",
       "      <td>105.357143</td>\n",
       "      <td>0.642857</td>\n",
       "      <td>...</td>\n",
       "      <td>0.071429</td>\n",
       "      <td>161499.285714</td>\n",
       "      <td>NaN</td>\n",
       "      <td>NaN</td>\n",
       "      <td>0.026279</td>\n",
       "      <td>0.055261</td>\n",
       "      <td>0</td>\n",
       "      <td>0</td>\n",
       "      <td>0.001901</td>\n",
       "      <td>0.027180</td>\n",
       "    </tr>\n",
       "    <tr>\n",
       "      <th>4</th>\n",
       "      <td>52711d4ddc50c571b80004c0</td>\n",
       "      <td>1</td>\n",
       "      <td>4.096774</td>\n",
       "      <td>52.032258</td>\n",
       "      <td>149.483871</td>\n",
       "      <td>139.387097</td>\n",
       "      <td>48.354839</td>\n",
       "      <td>0.000000</td>\n",
       "      <td>68.064516</td>\n",
       "      <td>2.064516</td>\n",
       "      <td>...</td>\n",
       "      <td>0.000000</td>\n",
       "      <td>100788.967742</td>\n",
       "      <td>NaN</td>\n",
       "      <td>NaN</td>\n",
       "      <td>0.033779</td>\n",
       "      <td>0.028076</td>\n",
       "      <td>0</td>\n",
       "      <td>0</td>\n",
       "      <td>0.001187</td>\n",
       "      <td>0.020618</td>\n",
       "    </tr>\n",
       "  </tbody>\n",
       "</table>\n",
       "<p>5 rows × 23 columns</p>\n",
       "</div>"
      ],
      "text/plain": [
       "                    user_id  cluster_label  day_of_week  day_of_year  \\\n",
       "0  52711d4bdc50c571b8000029              2     4.117647    51.588235   \n",
       "1  52711d4cdc50c571b80000c8              1     4.064516    52.000000   \n",
       "2  52711d4cdc50c571b80000e2              3     3.882353    51.147059   \n",
       "3  52711d4ddc50c571b8000453              1     3.690476    52.857143   \n",
       "4  52711d4ddc50c571b80004c0              1     4.096774    52.032258   \n",
       "\n",
       "   buttons_pressed  backlight_on_count  notif_count  notif_count_dnd  \\\n",
       "0        29.852941           18.529412     9.529412         0.000000   \n",
       "1        28.935484           74.451613     7.000000         2.451613   \n",
       "2        71.235294          166.264706    31.794118         5.441176   \n",
       "3        30.261905          140.547619    37.619048         2.333333   \n",
       "4       149.483871          139.387097    48.354839         0.000000   \n",
       "\n",
       "   vibrate_count  alarm_count       ...         phone_decline_count  \\\n",
       "0      13.882353     0.000000       ...                    0.000000   \n",
       "1      16.548387     0.000000       ...                    0.096774   \n",
       "2      39.529412     0.529412       ...                    0.088235   \n",
       "3     105.357143     0.642857       ...                    0.071429   \n",
       "4      68.064516     2.064516       ...                    0.000000   \n",
       "\n",
       "   phone_call_elapsed_time  future_scroll_count  past_scroll_count  \\\n",
       "0             17501.088235                  NaN                NaN   \n",
       "1          17984432.096774             0.333333                  0   \n",
       "2            487574.970588                  NaN                NaN   \n",
       "3            161499.285714                  NaN                NaN   \n",
       "4            100788.967742                  NaN                NaN   \n",
       "\n",
       "   rescaled_notif_count  rescaled_incoming_call_count  \\\n",
       "0              0.006657                      0.003413   \n",
       "1              0.004890                      0.015910   \n",
       "2              0.022210                      0.066556   \n",
       "3              0.026279                      0.055261   \n",
       "4              0.033779                      0.028076   \n",
       "\n",
       "   rescaled_outgoing_call_count  rescaled_phone_answer_count  \\\n",
       "0                             0                            0   \n",
       "1                             0                            0   \n",
       "2                             0                            0   \n",
       "3                             0                            0   \n",
       "4                             0                            0   \n",
       "\n",
       "   rescaled_phone_call_elapsed_time  sociability_avg  \n",
       "0                          0.000206         0.003357  \n",
       "1                          0.211719         0.006933  \n",
       "2                          0.005740         0.029589  \n",
       "3                          0.001901         0.027180  \n",
       "4                          0.001187         0.020618  \n",
       "\n",
       "[5 rows x 23 columns]"
      ]
     },
     "execution_count": 21,
     "metadata": {},
     "output_type": "execute_result"
    }
   ],
   "source": [
    "watches.head(5)"
   ]
  },
  {
   "cell_type": "code",
   "execution_count": null,
   "metadata": {
    "collapsed": true
   },
   "outputs": [],
   "source": []
  },
  {
   "cell_type": "code",
   "execution_count": 11,
   "metadata": {
    "collapsed": false
   },
   "outputs": [],
   "source": [
    "##############################################################################\n",
    "# Visualize the results on PCA-reduced data\n",
    "\n",
    "reduced_data = PCA(n_components=2).fit_transform(training)\n",
    "kmeans = KMeans(init='k-means++', n_clusters=4, n_init=500)\n",
    "kmeans.fit(reduced_data)\n",
    "\n",
    "# Step size of the mesh. Decrease to increase the quality of the VQ.\n",
    "h = .02     # point in the mesh [x_min, m_max]x[y_min, y_max].\n",
    "\n",
    "# Plot the decision boundary. For that, we will assign a color to each\n",
    "x_min, x_max = reduced_data[:, 0].min() - 1, reduced_data[:, 0].max() + 1\n",
    "y_min, y_max = reduced_data[:, 1].min() - 1, reduced_data[:, 1].max() + 1\n",
    "xx, yy = np.meshgrid(np.arange(x_min, x_max, h), np.arange(y_min, y_max, h))\n",
    "\n",
    "# Obtain labels for each point in mesh. Use last trained model.\n",
    "Z = kmeans.predict(np.c_[xx.ravel(), yy.ravel()])\n",
    "\n",
    "# Put the result into a color plot\n",
    "Z = Z.reshape(xx.shape)\n",
    "plt.figure(1)\n",
    "plt.clf()\n",
    "plt.imshow(Z, interpolation='nearest',\n",
    "           extent=(xx.min(), xx.max(), yy.min(), yy.max()),\n",
    "           cmap=plt.cm.Paired,\n",
    "           aspect='auto', origin='lower')\n",
    "\n",
    "plt.plot(reduced_data[:, 0], reduced_data[:, 1], 'k.', markersize=2)\n",
    "# Plot the centroids as a white X\n",
    "centroids = kmeans.cluster_centers_\n",
    "plt.scatter(centroids[:, 0], centroids[:, 1],\n",
    "            marker='x', s=169, linewidths=3,\n",
    "            color='w', zorder=10)\n",
    "plt.title('K-means clustering on PCA-reduced data\\n'\n",
    "          'Centroids are marked with white cross')\n",
    "plt.xlim(x_min, x_max)\n",
    "plt.ylim(y_min, y_max)\n",
    "plt.xticks(())\n",
    "plt.yticks(())\n",
    "plt.show()\n"
   ]
  },
  {
   "cell_type": "code",
   "execution_count": null,
   "metadata": {
    "collapsed": true
   },
   "outputs": [],
   "source": [
    "# let's try some k-means clustering!\n",
    "\n",
    "#% pylab inline\n",
    "\n",
    "features = ['rescaled_sleep','rescaled_std_bedtime','rescaled_deep_sleep','rescaled_std_waketime']\n",
    "num_clusters = 4\n",
    "\n",
    "numfeat = len(features)\n",
    "\n",
    "training = matrix[features]\n",
    "\n",
    "# n_init = # of times the algorithm is initialized (i.e. how many times does it come up with clusters?)\n",
    "# typically, for less than 10 clusters, multiple rounds of optimizations are optimal (typically 50-1000 are used, according to Andrew Ng)\n",
    "# for our purposes, since we have less than 10 clusters, we will go with n_clusters=500\n",
    "\n",
    "# init = method for initialization, or choosing the initial centroids\n",
    "# common methods include random initialization or k-means++\n",
    "# scikit-learn's default is k-means++, and it has been suggested that this method yields considerable improvement in the final error of k-means\n",
    "# therefore, we will go with k-means++\n",
    "\n",
    "km = KMeans(n_clusters=num_clusters,init='k-means++',n_init=500)\n",
    "\n",
    "km.fit(training)\n",
    "\n",
    "centroids = km.cluster_centers_\n",
    "km_labels = km.labels_\n",
    "inertia = km.inertia_\n",
    "\n",
    "\n",
    "for i in range(num_clusters):\n",
    "    ds = training[km_labels==i]\n",
    "    plt.plot(ds.iloc[:,0],ds.iloc[:,1],'o')\n",
    "    lines = plt.plot(centroids[i,0],'kx')\n",
    "    \n",
    "    \n",
    "plt.ylabel('st. dev. bedtime')\n",
    "plt.xlabel('avg. sleep')\n",
    "#plt.axis([19.5, 30, 0, 11])\n",
    "\n",
    "inertia\n",
    "plt.show()\n",
    "\n",
    "s_coeff = metrics.silhouette_score(training,km_labels,metric='euclidean')"
   ]
  },
  {
   "cell_type": "code",
   "execution_count": 17,
   "metadata": {
    "collapsed": false
   },
   "outputs": [
    {
     "name": "stdout",
     "output_type": "stream",
     "text": [
      "_______________________________________________________________________________\n",
      "init       time     inertia  homo     compl    v-meas    ARI     AMI    silhouette\n",
      "k-means++   15.04s    512    0.495    0.623    0.552   0.471    0.495    0.266\n",
      "   random   14.09s    512    0.494    0.623    0.551   0.470    0.494    0.266\n"
     ]
    },
    {
     "ename": "ValueError",
     "evalue": "The shape of the initial centers ((4, 4)) does not match the number of clusters 3",
     "output_type": "error",
     "traceback": [
      "\u001b[0;31m---------------------------------------------------------------------------\u001b[0m",
      "\u001b[0;31mValueError\u001b[0m                                Traceback (most recent call last)",
      "\u001b[0;32m<ipython-input-17-f3ca92ba568a>\u001b[0m in \u001b[0;36m<module>\u001b[0;34m()\u001b[0m\n\u001b[1;32m     31\u001b[0m \u001b[0;31m# kmeans algorithm only once with n_init=1\u001b[0m\u001b[0;34m\u001b[0m\u001b[0;34m\u001b[0m\u001b[0m\n\u001b[1;32m     32\u001b[0m \u001b[0mpca\u001b[0m \u001b[0;34m=\u001b[0m \u001b[0mPCA\u001b[0m\u001b[0;34m(\u001b[0m\u001b[0mn_components\u001b[0m\u001b[0;34m=\u001b[0m\u001b[0;36m4\u001b[0m\u001b[0;34m)\u001b[0m\u001b[0;34m.\u001b[0m\u001b[0mfit\u001b[0m\u001b[0;34m(\u001b[0m\u001b[0mtraining\u001b[0m\u001b[0;34m)\u001b[0m\u001b[0;34m\u001b[0m\u001b[0m\n\u001b[0;32m---> 33\u001b[0;31m \u001b[0mbench_k_means\u001b[0m\u001b[0;34m(\u001b[0m\u001b[0mKMeans\u001b[0m\u001b[0;34m(\u001b[0m\u001b[0minit\u001b[0m\u001b[0;34m=\u001b[0m\u001b[0mpca\u001b[0m\u001b[0;34m.\u001b[0m\u001b[0mcomponents_\u001b[0m\u001b[0;34m,\u001b[0m \u001b[0mn_clusters\u001b[0m\u001b[0;34m=\u001b[0m\u001b[0mnum_clusters\u001b[0m\u001b[0;34m,\u001b[0m \u001b[0mn_init\u001b[0m\u001b[0;34m=\u001b[0m\u001b[0;36m1\u001b[0m\u001b[0;34m)\u001b[0m\u001b[0;34m,\u001b[0m\u001b[0mname\u001b[0m\u001b[0;34m=\u001b[0m\u001b[0;34m\"PCA-based\"\u001b[0m\u001b[0;34m,\u001b[0m\u001b[0mdata\u001b[0m\u001b[0;34m=\u001b[0m\u001b[0mtraining\u001b[0m\u001b[0;34m)\u001b[0m\u001b[0;34m\u001b[0m\u001b[0m\n\u001b[0m\u001b[1;32m     34\u001b[0m \u001b[0;34m\u001b[0m\u001b[0m\n\u001b[1;32m     35\u001b[0m \u001b[0mprint\u001b[0m\u001b[0;34m(\u001b[0m\u001b[0;36m79\u001b[0m \u001b[0;34m*\u001b[0m \u001b[0;34m'_'\u001b[0m\u001b[0;34m)\u001b[0m\u001b[0;34m\u001b[0m\u001b[0m\n",
      "\u001b[0;32m<ipython-input-17-f3ca92ba568a>\u001b[0m in \u001b[0;36mbench_k_means\u001b[0;34m(estimator, name, data)\u001b[0m\n\u001b[1;32m     14\u001b[0m \u001b[0;32mdef\u001b[0m \u001b[0mbench_k_means\u001b[0m\u001b[0;34m(\u001b[0m\u001b[0mestimator\u001b[0m\u001b[0;34m,\u001b[0m\u001b[0mname\u001b[0m\u001b[0;34m,\u001b[0m\u001b[0mdata\u001b[0m\u001b[0;34m)\u001b[0m\u001b[0;34m:\u001b[0m\u001b[0;34m\u001b[0m\u001b[0m\n\u001b[1;32m     15\u001b[0m     \u001b[0mt0\u001b[0m \u001b[0;34m=\u001b[0m \u001b[0mtime\u001b[0m\u001b[0;34m(\u001b[0m\u001b[0;34m)\u001b[0m\u001b[0;34m\u001b[0m\u001b[0m\n\u001b[0;32m---> 16\u001b[0;31m     \u001b[0mestimator\u001b[0m\u001b[0;34m.\u001b[0m\u001b[0mfit\u001b[0m\u001b[0;34m(\u001b[0m\u001b[0mdata\u001b[0m\u001b[0;34m)\u001b[0m\u001b[0;34m\u001b[0m\u001b[0m\n\u001b[0m\u001b[1;32m     17\u001b[0m     print('% 9s   %.2fs    %i    %.3f    %.3f    %.3f   %.3f    %.3f    %.3f'\n\u001b[1;32m     18\u001b[0m           % (name, (time() - t0), estimator.inertia_,\n",
      "\u001b[0;32m/Users/heather/anaconda/lib/python3.5/site-packages/sklearn/cluster/k_means_.py\u001b[0m in \u001b[0;36mfit\u001b[0;34m(self, X, y)\u001b[0m\n\u001b[1;32m    819\u001b[0m                 \u001b[0mprecompute_distances\u001b[0m\u001b[0;34m=\u001b[0m\u001b[0mself\u001b[0m\u001b[0;34m.\u001b[0m\u001b[0mprecompute_distances\u001b[0m\u001b[0;34m,\u001b[0m\u001b[0;34m\u001b[0m\u001b[0m\n\u001b[1;32m    820\u001b[0m                 \u001b[0mtol\u001b[0m\u001b[0;34m=\u001b[0m\u001b[0mself\u001b[0m\u001b[0;34m.\u001b[0m\u001b[0mtol\u001b[0m\u001b[0;34m,\u001b[0m \u001b[0mrandom_state\u001b[0m\u001b[0;34m=\u001b[0m\u001b[0mrandom_state\u001b[0m\u001b[0;34m,\u001b[0m \u001b[0mcopy_x\u001b[0m\u001b[0;34m=\u001b[0m\u001b[0mself\u001b[0m\u001b[0;34m.\u001b[0m\u001b[0mcopy_x\u001b[0m\u001b[0;34m,\u001b[0m\u001b[0;34m\u001b[0m\u001b[0m\n\u001b[0;32m--> 821\u001b[0;31m                 n_jobs=self.n_jobs)\n\u001b[0m\u001b[1;32m    822\u001b[0m         \u001b[0;32mreturn\u001b[0m \u001b[0mself\u001b[0m\u001b[0;34m\u001b[0m\u001b[0m\n\u001b[1;32m    823\u001b[0m \u001b[0;34m\u001b[0m\u001b[0m\n",
      "\u001b[0;32m/Users/heather/anaconda/lib/python3.5/site-packages/sklearn/cluster/k_means_.py\u001b[0m in \u001b[0;36mk_means\u001b[0;34m(X, n_clusters, init, precompute_distances, n_init, max_iter, verbose, tol, random_state, copy_x, n_jobs, return_n_iter)\u001b[0m\n\u001b[1;32m    300\u001b[0m     \u001b[0;32mif\u001b[0m \u001b[0mhasattr\u001b[0m\u001b[0;34m(\u001b[0m\u001b[0minit\u001b[0m\u001b[0;34m,\u001b[0m \u001b[0;34m'__array__'\u001b[0m\u001b[0;34m)\u001b[0m\u001b[0;34m:\u001b[0m\u001b[0;34m\u001b[0m\u001b[0m\n\u001b[1;32m    301\u001b[0m         \u001b[0minit\u001b[0m \u001b[0;34m=\u001b[0m \u001b[0mcheck_array\u001b[0m\u001b[0;34m(\u001b[0m\u001b[0minit\u001b[0m\u001b[0;34m,\u001b[0m \u001b[0mdtype\u001b[0m\u001b[0;34m=\u001b[0m\u001b[0mnp\u001b[0m\u001b[0;34m.\u001b[0m\u001b[0mfloat64\u001b[0m\u001b[0;34m,\u001b[0m \u001b[0mcopy\u001b[0m\u001b[0;34m=\u001b[0m\u001b[0;32mTrue\u001b[0m\u001b[0;34m)\u001b[0m\u001b[0;34m\u001b[0m\u001b[0m\n\u001b[0;32m--> 302\u001b[0;31m         \u001b[0m_validate_center_shape\u001b[0m\u001b[0;34m(\u001b[0m\u001b[0mX\u001b[0m\u001b[0;34m,\u001b[0m \u001b[0mn_clusters\u001b[0m\u001b[0;34m,\u001b[0m \u001b[0minit\u001b[0m\u001b[0;34m)\u001b[0m\u001b[0;34m\u001b[0m\u001b[0m\n\u001b[0m\u001b[1;32m    303\u001b[0m \u001b[0;34m\u001b[0m\u001b[0m\n\u001b[1;32m    304\u001b[0m         \u001b[0minit\u001b[0m \u001b[0;34m-=\u001b[0m \u001b[0mX_mean\u001b[0m\u001b[0;34m\u001b[0m\u001b[0m\n",
      "\u001b[0;32m/Users/heather/anaconda/lib/python3.5/site-packages/sklearn/cluster/k_means_.py\u001b[0m in \u001b[0;36m_validate_center_shape\u001b[0;34m(X, n_centers, centers)\u001b[0m\n\u001b[1;32m    147\u001b[0m         raise ValueError('The shape of the initial centers (%s) '\n\u001b[1;32m    148\u001b[0m                          \u001b[0;34m'does not match the number of clusters %i'\u001b[0m\u001b[0;34m\u001b[0m\u001b[0m\n\u001b[0;32m--> 149\u001b[0;31m                          % (centers.shape, n_centers))\n\u001b[0m\u001b[1;32m    150\u001b[0m     \u001b[0;32mif\u001b[0m \u001b[0mcenters\u001b[0m\u001b[0;34m.\u001b[0m\u001b[0mshape\u001b[0m\u001b[0;34m[\u001b[0m\u001b[0;36m1\u001b[0m\u001b[0;34m]\u001b[0m \u001b[0;34m!=\u001b[0m \u001b[0mX\u001b[0m\u001b[0;34m.\u001b[0m\u001b[0mshape\u001b[0m\u001b[0;34m[\u001b[0m\u001b[0;36m1\u001b[0m\u001b[0;34m]\u001b[0m\u001b[0;34m:\u001b[0m\u001b[0;34m\u001b[0m\u001b[0m\n\u001b[1;32m    151\u001b[0m         raise ValueError(\n",
      "\u001b[0;31mValueError\u001b[0m: The shape of the initial centers ((4, 4)) does not match the number of clusters 3"
     ]
    }
   ],
   "source": [
    "# homo = homogeneity score\n",
    "# compl = completeness score\n",
    "# v-means = V measure\n",
    "# ARI = adjusted Rand index\n",
    "# AMI = adjusted mutual information\n",
    "# silhouette = silhouette coefficient\n",
    "\n",
    "num_clusters = 3\n",
    "\n",
    "print(79 * '_')\n",
    "print('% 9s' % 'init'\n",
    "      '       time     inertia  homo     compl    v-meas    ARI     AMI    silhouette')\n",
    "\n",
    "def bench_k_means(estimator,name,data):\n",
    "    t0 = time()\n",
    "    estimator.fit(data)\n",
    "    print('% 9s   %.2fs    %i    %.3f    %.3f    %.3f   %.3f    %.3f    %.3f'\n",
    "          % (name, (time() - t0), estimator.inertia_,\n",
    "             metrics.homogeneity_score(km_labels, estimator.labels_),\n",
    "             metrics.completeness_score(km_labels, estimator.labels_),\n",
    "             metrics.v_measure_score(km_labels, estimator.labels_),\n",
    "             metrics.adjusted_rand_score(km_labels, estimator.labels_),\n",
    "             metrics.adjusted_mutual_info_score(km_labels,  estimator.labels_),\n",
    "             metrics.silhouette_score(data, estimator.labels_,\n",
    "                                      metric='euclidean')))\n",
    "bench_k_means(KMeans(init='k-means++', n_clusters=num_clusters, n_init=500),name=\"k-means++\", data=training)\n",
    "\n",
    "bench_k_means(KMeans(init='random', n_clusters=num_clusters, n_init=500),name=\"random\", data=training)\n",
    "\n",
    "# in this case the seeding of the centers is deterministic, hence we run the\n",
    "# kmeans algorithm only once with n_init=1\n",
    "pca = PCA(n_components=num_clusters).fit(training)\n",
    "bench_k_means(KMeans(init=pca.components_, n_clusters=num_clusters, n_init=1),name=\"PCA-based\",data=training)\n",
    "\n",
    "print(79 * '_')\n",
    "\n"
   ]
  },
  {
   "cell_type": "code",
   "execution_count": 13,
   "metadata": {
    "collapsed": true
   },
   "outputs": [],
   "source": [
    "##############################################################################\n",
    "# Visualize the results on PCA-reduced data\n",
    "\n",
    "reduced_data = PCA(n_components=4).fit_transform(training)\n",
    "kmeans = KMeans(init='k-means++', n_clusters=2, n_init=500)\n",
    "kmeans.fit(reduced_data)\n",
    "\n",
    "# Step size of the mesh. Decrease to increase the quality of the VQ.\n",
    "h = .02     # point in the mesh [x_min, m_max]x[y_min, y_max].\n",
    "\n",
    "# Plot the decision boundary. For that, we will assign a color to each\n",
    "x_min, x_max = reduced_data[:, 0].min() - 1, reduced_data[:, 0].max() + 1\n",
    "y_min, y_max = reduced_data[:, 1].min() - 1, reduced_data[:, 1].max() + 1\n",
    "xx, yy = np.meshgrid(np.arange(x_min, x_max, h), np.arange(y_min, y_max, h))\n",
    "\n",
    "# Obtain labels for each point in mesh. Use last trained model.\n",
    "Z = kmeans.predict(np.c_[xx.ravel(), yy.ravel()])\n",
    "\n",
    "# Put the result into a color plot\n",
    "Z = Z.reshape(xx.shape)\n",
    "plt.figure(1)\n",
    "plt.clf()\n",
    "plt.imshow(Z, interpolation='nearest',\n",
    "           extent=(xx.min(), xx.max(), yy.min(), yy.max()),\n",
    "           cmap=plt.cm.Paired,\n",
    "           aspect='auto', origin='lower')\n",
    "\n",
    "plt.plot(reduced_data[:, 0], reduced_data[:, 1], 'k.', markersize=2)\n",
    "# Plot the centroids as a white X\n",
    "centroids = kmeans.cluster_centers_\n",
    "plt.scatter(centroids[:, 0], centroids[:, 1],\n",
    "            marker='x', s=169, linewidths=3,\n",
    "            color='w', zorder=10)\n",
    "plt.title('K-means clustering on PCA-reduced data\\n'\n",
    "          'Centroids are marked with white cross')\n",
    "plt.xlim(x_min, x_max)\n",
    "plt.ylim(y_min, y_max)\n",
    "plt.xticks(())\n",
    "plt.yticks(())\n",
    "plt.show()\n"
   ]
  },
  {
   "cell_type": "code",
   "execution_count": 19,
   "metadata": {
    "collapsed": false
   },
   "outputs": [],
   "source": [
    "# some follow-up analyses with sleep data\n",
    "\n",
    "sleep_daily = data.groupby(['user_id','day_of_week']).mean().reset_index()\n",
    "sleep_daily = sleep_daily[['day_of_week','peb_start_sleep','peb_stop_sleep','peb_total_sleep','peb_deep_sleep']]\n",
    "daily_sleep_avg = sleep_daily.groupby(['day_of_week']).mean()\n",
    "daily_sleep_avg = daily_sleep_avg/60"
   ]
  },
  {
   "cell_type": "code",
   "execution_count": 5,
   "metadata": {
    "collapsed": false
   },
   "outputs": [],
   "source": [
    "days = np.arange(1,8)\n",
    "\n",
    "y = sleep_daily.groupby(['day_of_week']).count().peb_start_sleep\n",
    "\n",
    "#%pylab inline\n",
    "plt.figure()\n",
    "ax = plt.gca()\n",
    "ax.tick_params(axis='x',labelsize=16)\n",
    "ax.tick_params(axis='y',labelsize=16)\n",
    "\n",
    "plt.bar(days - 0.4,y,color='purple')\n",
    "plt.ylabel('# events',size=20)\n",
    "plt.xlabel('day of week (1 Mon - 7 Sun)',size=20)\n",
    "plt.title('you can see that there are roughly the same # events across all nights',size=20)\n",
    "\n",
    "plt.axis([0.5, 7.5, 0, 20000])\n",
    "\n",
    "remove_border(left=False)\n",
    "\n",
    "for x, y in zip(days, y):\n",
    "    plt.annotate(\"%i\" % y, (x,y + 200,), ha = 'center')\n",
    "\n",
    "\n",
    "plt.show()"
   ]
  },
  {
   "cell_type": "code",
   "execution_count": 9,
   "metadata": {
    "collapsed": false
   },
   "outputs": [],
   "source": [
    "days = np.arange(1,8)\n",
    "\n",
    "y = daily_sleep_avg.peb_deep_sleep\n",
    "\n",
    "#%pylab inline\n",
    "plt.figure()\n",
    "ax = plt.gca()\n",
    "ax.tick_params(axis='x',labelsize=16)\n",
    "ax.tick_params(axis='y',labelsize=16)\n",
    "\n",
    "plt.bar(days - 0.4,y,color='purple')\n",
    "plt.ylabel('Deep Sleep (hrs)',size=20)\n",
    "plt.xlabel('day of week (1 Mon - 7 Sun)',size=20)\n",
    "\n",
    "plt.axis([0.5, 7.5, 0, 4])\n",
    "\n",
    "remove_border(left=False)\n",
    "\n",
    "for x, y in zip(days, y):\n",
    "    plt.annotate(\"%.1f\" % y, (x,y + .0500,), ha = 'center')\n",
    "\n",
    "\n",
    "plt.show()"
   ]
  },
  {
   "cell_type": "code",
   "execution_count": 20,
   "metadata": {
    "collapsed": false
   },
   "outputs": [],
   "source": [
    "days = np.arange(1,8)\n",
    "\n",
    "y = daily_sleep_avg.peb_total_sleep\n",
    "\n",
    "#%pylab inline\n",
    "plt.figure()\n",
    "ax = plt.gca()\n",
    "ax.tick_params(axis='x',labelsize=16)\n",
    "ax.tick_params(axis='y',labelsize=16)\n",
    "\n",
    "\n",
    "plt.bar(days - 0.4,y,color='purple')\n",
    "plt.ylabel('Total Sleep (hrs)',size=20)\n",
    "plt.xlabel('day of week (1 Mon - 7 Sun)',size=20)\n",
    "\n",
    "plt.axis([0.5, 7.5, 5, 8])\n",
    "\n",
    "remove_border(left=False)\n",
    "\n",
    "for x, y in zip(days, y):\n",
    "    plt.annotate(\"%.1f\" % y, (x,y + .100,), ha = 'center')\n",
    "\n",
    "\n",
    "plt.show()"
   ]
  },
  {
   "cell_type": "code",
   "execution_count": 14,
   "metadata": {
    "collapsed": false
   },
   "outputs": [],
   "source": [
    "days = np.arange(1,8)\n",
    "\n",
    "y = daily_sleep_avg.peb_stop_sleep\n",
    "\n",
    "#%pylab inline\n",
    "plt.figure()\n",
    "ax = plt.gca()\n",
    "ax.tick_params(axis='x',labelsize=16)\n",
    "ax.tick_params(axis='y',labelsize=16)\n",
    "\n",
    "plt.bar(days - 0.4,y,color='purple')\n",
    "plt.ylabel('Wake Time',size=20)\n",
    "plt.xlabel('day of week (1 Mon - 7 Sun)',size=20)\n",
    "\n",
    "plt.axis([0.5, 7.5, 5, 9])\n",
    "\n",
    "remove_border(left=False)\n",
    "\n",
    "for x, y in zip(days, y):\n",
    "    plt.annotate(\"%.1f\" % y, (x,y + .1,), ha = 'center')\n",
    "\n",
    "\n",
    "plt.show()"
   ]
  },
  {
   "cell_type": "code",
   "execution_count": 18,
   "metadata": {
    "collapsed": false
   },
   "outputs": [
    {
     "data": {
      "text/html": [
       "<div>\n",
       "<table border=\"1\" class=\"dataframe\">\n",
       "  <thead>\n",
       "    <tr style=\"text-align: right;\">\n",
       "      <th></th>\n",
       "      <th>peb_start_sleep</th>\n",
       "      <th>peb_stop_sleep</th>\n",
       "      <th>peb_total_sleep</th>\n",
       "      <th>peb_deep_sleep</th>\n",
       "    </tr>\n",
       "    <tr>\n",
       "      <th>day_of_week</th>\n",
       "      <th></th>\n",
       "      <th></th>\n",
       "      <th></th>\n",
       "      <th></th>\n",
       "    </tr>\n",
       "  </thead>\n",
       "  <tbody>\n",
       "    <tr>\n",
       "      <th>1</th>\n",
       "      <td>14.244744</td>\n",
       "      <td>6.921620</td>\n",
       "      <td>6.940511</td>\n",
       "      <td>2.879203</td>\n",
       "    </tr>\n",
       "    <tr>\n",
       "      <th>2</th>\n",
       "      <td>14.692271</td>\n",
       "      <td>6.828460</td>\n",
       "      <td>6.955955</td>\n",
       "      <td>2.938360</td>\n",
       "    </tr>\n",
       "    <tr>\n",
       "      <th>3</th>\n",
       "      <td>14.679927</td>\n",
       "      <td>6.829987</td>\n",
       "      <td>6.945139</td>\n",
       "      <td>2.954620</td>\n",
       "    </tr>\n",
       "    <tr>\n",
       "      <th>4</th>\n",
       "      <td>14.692179</td>\n",
       "      <td>6.838308</td>\n",
       "      <td>6.958657</td>\n",
       "      <td>2.975686</td>\n",
       "    </tr>\n",
       "    <tr>\n",
       "      <th>5</th>\n",
       "      <td>14.440820</td>\n",
       "      <td>6.880489</td>\n",
       "      <td>6.951325</td>\n",
       "      <td>2.971591</td>\n",
       "    </tr>\n",
       "    <tr>\n",
       "      <th>6</th>\n",
       "      <td>12.040800</td>\n",
       "      <td>7.859340</td>\n",
       "      <td>7.438294</td>\n",
       "      <td>3.146721</td>\n",
       "    </tr>\n",
       "    <tr>\n",
       "      <th>7</th>\n",
       "      <td>11.100467</td>\n",
       "      <td>8.077047</td>\n",
       "      <td>7.460334</td>\n",
       "      <td>3.104263</td>\n",
       "    </tr>\n",
       "  </tbody>\n",
       "</table>\n",
       "</div>"
      ],
      "text/plain": [
       "             peb_start_sleep  peb_stop_sleep  peb_total_sleep  peb_deep_sleep\n",
       "day_of_week                                                                  \n",
       "1                  14.244744        6.921620         6.940511        2.879203\n",
       "2                  14.692271        6.828460         6.955955        2.938360\n",
       "3                  14.679927        6.829987         6.945139        2.954620\n",
       "4                  14.692179        6.838308         6.958657        2.975686\n",
       "5                  14.440820        6.880489         6.951325        2.971591\n",
       "6                  12.040800        7.859340         7.438294        3.146721\n",
       "7                  11.100467        8.077047         7.460334        3.104263"
      ]
     },
     "execution_count": 18,
     "metadata": {},
     "output_type": "execute_result"
    }
   ],
   "source": [
    "daily_sleep_avg"
   ]
  },
  {
   "cell_type": "code",
   "execution_count": 26,
   "metadata": {
    "collapsed": false
   },
   "outputs": [],
   "source": [
    "days = np.arange(1,8)\n",
    "\n",
    "y = daily_sleep_avg.peb_start_sleep\n",
    "\n",
    "#%pylab inline\n",
    "plt.figure()\n",
    "ax = plt.gca()\n",
    "ax.tick_params(axis='x',labelsize=16)\n",
    "ax.tick_params(axis='y',labelsize=16)\n",
    "\n",
    "\n",
    "plt.bar(days - 0.4,y,color='purple')\n",
    "plt.ylabel('Bedtime',size=20)\n",
    "plt.xlabel('day of week (1 Mon - 7 Sun)',size=20)\n",
    "\n",
    "plt.axis([0.5, 7.5, 22, 25])\n",
    "\n",
    "remove_border(left=False)\n",
    "\n",
    "for x, y in zip(days, y):\n",
    "    plt.annotate(\"%.1f\" % y, (x,y + .100,), ha = 'center')\n",
    "\n",
    "\n",
    "plt.show()"
   ]
  },
  {
   "cell_type": "code",
   "execution_count": 27,
   "metadata": {
    "collapsed": true
   },
   "outputs": [],
   "source": [
    "# let's take a look at the step data!\n",
    "\n",
    "steps_daily = step_data.groupby(['user_id','day_of_week']).mean().reset_index()\n",
    "daily_step_avg = steps_daily.groupby(['day_of_week']).mean()\n"
   ]
  },
  {
   "cell_type": "code",
   "execution_count": 28,
   "metadata": {
    "collapsed": false
   },
   "outputs": [
    {
     "data": {
      "text/html": [
       "<div>\n",
       "<table border=\"1\" class=\"dataframe\">\n",
       "  <thead>\n",
       "    <tr style=\"text-align: right;\">\n",
       "      <th></th>\n",
       "      <th>day_of_year</th>\n",
       "      <th>total_step_count</th>\n",
       "    </tr>\n",
       "    <tr>\n",
       "      <th>day_of_week</th>\n",
       "      <th></th>\n",
       "      <th></th>\n",
       "    </tr>\n",
       "  </thead>\n",
       "  <tbody>\n",
       "    <tr>\n",
       "      <th>1</th>\n",
       "      <td>53.023642</td>\n",
       "      <td>6510.063065</td>\n",
       "    </tr>\n",
       "    <tr>\n",
       "      <th>2</th>\n",
       "      <td>50.889247</td>\n",
       "      <td>6545.657075</td>\n",
       "    </tr>\n",
       "    <tr>\n",
       "      <th>3</th>\n",
       "      <td>50.955287</td>\n",
       "      <td>6733.487962</td>\n",
       "    </tr>\n",
       "    <tr>\n",
       "      <th>4</th>\n",
       "      <td>52.191909</td>\n",
       "      <td>6937.381909</td>\n",
       "    </tr>\n",
       "    <tr>\n",
       "      <th>5</th>\n",
       "      <td>53.278454</td>\n",
       "      <td>7093.422622</td>\n",
       "    </tr>\n",
       "    <tr>\n",
       "      <th>6</th>\n",
       "      <td>52.373934</td>\n",
       "      <td>6764.320353</td>\n",
       "    </tr>\n",
       "    <tr>\n",
       "      <th>7</th>\n",
       "      <td>51.808393</td>\n",
       "      <td>6032.114551</td>\n",
       "    </tr>\n",
       "  </tbody>\n",
       "</table>\n",
       "</div>"
      ],
      "text/plain": [
       "             day_of_year  total_step_count\n",
       "day_of_week                               \n",
       "1              53.023642       6510.063065\n",
       "2              50.889247       6545.657075\n",
       "3              50.955287       6733.487962\n",
       "4              52.191909       6937.381909\n",
       "5              53.278454       7093.422622\n",
       "6              52.373934       6764.320353\n",
       "7              51.808393       6032.114551"
      ]
     },
     "execution_count": 28,
     "metadata": {},
     "output_type": "execute_result"
    }
   ],
   "source": [
    "daily_step_avg"
   ]
  },
  {
   "cell_type": "code",
   "execution_count": 29,
   "metadata": {
    "collapsed": false
   },
   "outputs": [],
   "source": [
    "days = np.arange(1,8)\n",
    "\n",
    "y = daily_step_avg.total_step_count\n",
    "\n",
    "#%pylab inline\n",
    "plt.figure()\n",
    "ax = plt.gca()\n",
    "ax.tick_params(axis='x',labelsize=16)\n",
    "ax.tick_params(axis='y',labelsize=16)\n",
    "\n",
    "plt.bar(days - 0.4,y,color='purple')\n",
    "plt.ylabel('Avg Steps',size=20)\n",
    "plt.xlabel('day of week (1 Mon - 7 Sun)',size=20)\n",
    "#plt.title('you can see that there are roughly the same # events across all nights',size=20)\n",
    "\n",
    "#plt.axis([0.5, 7.5, 5000, 7000])\n",
    "\n",
    "remove_border(left=False)\n",
    "\n",
    "for x, y in zip(days, y):\n",
    "    plt.annotate(\"%i\" % y, (x,y + 50,), ha = 'center')\n",
    "\n",
    "\n",
    "plt.show()"
   ]
  },
  {
   "cell_type": "code",
   "execution_count": 146,
   "metadata": {
    "collapsed": false
   },
   "outputs": [
    {
     "ename": "NameError",
     "evalue": "name 'steps_daily' is not defined",
     "output_type": "error",
     "traceback": [
      "\u001b[0;31m---------------------------------------------------------------------------\u001b[0m",
      "\u001b[0;31mNameError\u001b[0m                                 Traceback (most recent call last)",
      "\u001b[0;32m<ipython-input-146-7e3f8f14c5e7>\u001b[0m in \u001b[0;36m<module>\u001b[0;34m()\u001b[0m\n\u001b[1;32m      1\u001b[0m \u001b[0mdays\u001b[0m \u001b[0;34m=\u001b[0m \u001b[0mnp\u001b[0m\u001b[0;34m.\u001b[0m\u001b[0marange\u001b[0m\u001b[0;34m(\u001b[0m\u001b[0;36m1\u001b[0m\u001b[0;34m,\u001b[0m\u001b[0;36m8\u001b[0m\u001b[0;34m)\u001b[0m\u001b[0;34m\u001b[0m\u001b[0m\n\u001b[1;32m      2\u001b[0m \u001b[0;34m\u001b[0m\u001b[0m\n\u001b[0;32m----> 3\u001b[0;31m \u001b[0my\u001b[0m \u001b[0;34m=\u001b[0m \u001b[0msteps_daily\u001b[0m\u001b[0;34m.\u001b[0m\u001b[0mgroupby\u001b[0m\u001b[0;34m(\u001b[0m\u001b[0;34m[\u001b[0m\u001b[0;34m'day_of_week'\u001b[0m\u001b[0;34m]\u001b[0m\u001b[0;34m)\u001b[0m\u001b[0;34m.\u001b[0m\u001b[0mcount\u001b[0m\u001b[0;34m(\u001b[0m\u001b[0;34m)\u001b[0m\u001b[0;34m.\u001b[0m\u001b[0mtotal_step_count\u001b[0m\u001b[0;34m\u001b[0m\u001b[0m\n\u001b[0m\u001b[1;32m      4\u001b[0m \u001b[0;34m\u001b[0m\u001b[0m\n\u001b[1;32m      5\u001b[0m \u001b[0;31m#%pylab inline\u001b[0m\u001b[0;34m\u001b[0m\u001b[0;34m\u001b[0m\u001b[0m\n",
      "\u001b[0;31mNameError\u001b[0m: name 'steps_daily' is not defined"
     ]
    }
   ],
   "source": [
    "days = np.arange(1,8)\n",
    "\n",
    "y = steps_daily.groupby(['day_of_week']).count().total_step_count\n",
    "\n",
    "#%pylab inline\n",
    "plt.figure()\n",
    "ax = plt.gca()\n",
    "ax.tick_params(axis='x',labelsize=16)\n",
    "ax.tick_params(axis='y',labelsize=16)\n",
    "\n",
    "plt.bar(days - 0.4,y,color='purple')\n",
    "plt.ylabel('# events',size=20)\n",
    "plt.xlabel('day of week (1 Mon - 7 Sun)',size=20)\n",
    "plt.title(\"you can see that there are roughly the same # events across all days\\nhowever the watch might have still been worn for fewer hours over wkend\",size=20)\n",
    "\n",
    "plt.axis([0.5, 7.5, 0, 20000])\n",
    "\n",
    "remove_border(left=False)\n",
    "\n",
    "for x, y in zip(days, y):\n",
    "    plt.annotate(\"%i\" % y, (x,y + 200,), ha = 'center')\n",
    "\n",
    "\n",
    "plt.show()"
   ]
  },
  {
   "cell_type": "code",
   "execution_count": null,
   "metadata": {
    "collapsed": true
   },
   "outputs": [],
   "source": []
  }
 ],
 "metadata": {
  "kernelspec": {
   "display_name": "Python 2",
   "language": "python",
   "name": "python2"
  },
  "language_info": {
   "codemirror_mode": {
    "name": "ipython",
    "version": 2
   },
   "file_extension": ".py",
   "mimetype": "text/x-python",
   "name": "python",
   "nbconvert_exporter": "python",
   "pygments_lexer": "ipython2",
   "version": "2.7.11"
  }
 },
 "nbformat": 4,
 "nbformat_minor": 0
}
