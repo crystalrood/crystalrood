{
 "cells": [
  {
   "cell_type": "code",
   "execution_count": 3,
   "metadata": {
    "collapsed": false
   },
   "outputs": [],
   "source": [
    "%matplotlib inline \n",
    "import matplotlib.pyplot as plt \n",
    "import pandas \n",
    "import numpy as np\n",
    "\n",
    "import statsmodels.api as sm\n",
    "from statsmodels.sandbox.regression.predstd import wls_prediction_std\n",
    "\n",
    "import plotly.plotly as py\n",
    "import plotly.graph_objs as go\n",
    "from plotly.tools import FigureFactory as FF\n",
    "py.sign_in('erikrood','3eqsrype8v')"
   ]
  },
  {
   "cell_type": "code",
   "execution_count": 4,
   "metadata": {
    "collapsed": false
   },
   "outputs": [
    {
     "ename": "OSError",
     "evalue": "File b'/Users/erikrood/desktop/ipython_datasets/Tech_IPOs.csv' does not exist",
     "output_type": "error",
     "traceback": [
      "\u001b[0;31m-------------------------------------------------------------------\u001b[0m",
      "\u001b[0;31mOSError\u001b[0m                           Traceback (most recent call last)",
      "\u001b[0;32m<ipython-input-4-428b7d88cdaf>\u001b[0m in \u001b[0;36m<module>\u001b[0;34m()\u001b[0m\n\u001b[0;32m----> 1\u001b[0;31m \u001b[0mall_ipos\u001b[0m \u001b[0;34m=\u001b[0m \u001b[0mpandas\u001b[0m\u001b[0;34m.\u001b[0m\u001b[0mread_csv\u001b[0m\u001b[0;34m(\u001b[0m\u001b[0;34m'/Users/erikrood/desktop/ipython_datasets/Tech_IPOs.csv'\u001b[0m\u001b[0;34m)\u001b[0m\u001b[0;34m\u001b[0m\u001b[0m\n\u001b[0m",
      "\u001b[0;32m/Users/erikrood/anaconda3/lib/python3.5/site-packages/pandas/io/parsers.py\u001b[0m in \u001b[0;36mparser_f\u001b[0;34m(filepath_or_buffer, sep, delimiter, header, names, index_col, usecols, squeeze, prefix, mangle_dupe_cols, dtype, engine, converters, true_values, false_values, skipinitialspace, skiprows, skipfooter, nrows, na_values, keep_default_na, na_filter, verbose, skip_blank_lines, parse_dates, infer_datetime_format, keep_date_col, date_parser, dayfirst, iterator, chunksize, compression, thousands, decimal, lineterminator, quotechar, quoting, escapechar, comment, encoding, dialect, tupleize_cols, error_bad_lines, warn_bad_lines, skip_footer, doublequote, delim_whitespace, as_recarray, compact_ints, use_unsigned, low_memory, buffer_lines, memory_map, float_precision)\u001b[0m\n\u001b[1;32m    560\u001b[0m                     skip_blank_lines=skip_blank_lines)\n\u001b[1;32m    561\u001b[0m \u001b[0;34m\u001b[0m\u001b[0m\n\u001b[0;32m--> 562\u001b[0;31m         \u001b[0;32mreturn\u001b[0m \u001b[0m_read\u001b[0m\u001b[0;34m(\u001b[0m\u001b[0mfilepath_or_buffer\u001b[0m\u001b[0;34m,\u001b[0m \u001b[0mkwds\u001b[0m\u001b[0;34m)\u001b[0m\u001b[0;34m\u001b[0m\u001b[0m\n\u001b[0m\u001b[1;32m    563\u001b[0m \u001b[0;34m\u001b[0m\u001b[0m\n\u001b[1;32m    564\u001b[0m     \u001b[0mparser_f\u001b[0m\u001b[0;34m.\u001b[0m\u001b[0m__name__\u001b[0m \u001b[0;34m=\u001b[0m \u001b[0mname\u001b[0m\u001b[0;34m\u001b[0m\u001b[0m\n",
      "\u001b[0;32m/Users/erikrood/anaconda3/lib/python3.5/site-packages/pandas/io/parsers.py\u001b[0m in \u001b[0;36m_read\u001b[0;34m(filepath_or_buffer, kwds)\u001b[0m\n\u001b[1;32m    313\u001b[0m \u001b[0;34m\u001b[0m\u001b[0m\n\u001b[1;32m    314\u001b[0m     \u001b[0;31m# Create the parser.\u001b[0m\u001b[0;34m\u001b[0m\u001b[0;34m\u001b[0m\u001b[0m\n\u001b[0;32m--> 315\u001b[0;31m     \u001b[0mparser\u001b[0m \u001b[0;34m=\u001b[0m \u001b[0mTextFileReader\u001b[0m\u001b[0;34m(\u001b[0m\u001b[0mfilepath_or_buffer\u001b[0m\u001b[0;34m,\u001b[0m \u001b[0;34m**\u001b[0m\u001b[0mkwds\u001b[0m\u001b[0;34m)\u001b[0m\u001b[0;34m\u001b[0m\u001b[0m\n\u001b[0m\u001b[1;32m    316\u001b[0m \u001b[0;34m\u001b[0m\u001b[0m\n\u001b[1;32m    317\u001b[0m     \u001b[0;32mif\u001b[0m \u001b[0;34m(\u001b[0m\u001b[0mnrows\u001b[0m \u001b[0;32mis\u001b[0m \u001b[0;32mnot\u001b[0m \u001b[0;32mNone\u001b[0m\u001b[0;34m)\u001b[0m \u001b[0;32mand\u001b[0m \u001b[0;34m(\u001b[0m\u001b[0mchunksize\u001b[0m \u001b[0;32mis\u001b[0m \u001b[0;32mnot\u001b[0m \u001b[0;32mNone\u001b[0m\u001b[0;34m)\u001b[0m\u001b[0;34m:\u001b[0m\u001b[0;34m\u001b[0m\u001b[0m\n",
      "\u001b[0;32m/Users/erikrood/anaconda3/lib/python3.5/site-packages/pandas/io/parsers.py\u001b[0m in \u001b[0;36m__init__\u001b[0;34m(self, f, engine, **kwds)\u001b[0m\n\u001b[1;32m    643\u001b[0m             \u001b[0mself\u001b[0m\u001b[0;34m.\u001b[0m\u001b[0moptions\u001b[0m\u001b[0;34m[\u001b[0m\u001b[0;34m'has_index_names'\u001b[0m\u001b[0;34m]\u001b[0m \u001b[0;34m=\u001b[0m \u001b[0mkwds\u001b[0m\u001b[0;34m[\u001b[0m\u001b[0;34m'has_index_names'\u001b[0m\u001b[0;34m]\u001b[0m\u001b[0;34m\u001b[0m\u001b[0m\n\u001b[1;32m    644\u001b[0m \u001b[0;34m\u001b[0m\u001b[0m\n\u001b[0;32m--> 645\u001b[0;31m         \u001b[0mself\u001b[0m\u001b[0;34m.\u001b[0m\u001b[0m_make_engine\u001b[0m\u001b[0;34m(\u001b[0m\u001b[0mself\u001b[0m\u001b[0;34m.\u001b[0m\u001b[0mengine\u001b[0m\u001b[0;34m)\u001b[0m\u001b[0;34m\u001b[0m\u001b[0m\n\u001b[0m\u001b[1;32m    646\u001b[0m \u001b[0;34m\u001b[0m\u001b[0m\n\u001b[1;32m    647\u001b[0m     \u001b[0;32mdef\u001b[0m \u001b[0mclose\u001b[0m\u001b[0;34m(\u001b[0m\u001b[0mself\u001b[0m\u001b[0;34m)\u001b[0m\u001b[0;34m:\u001b[0m\u001b[0;34m\u001b[0m\u001b[0m\n",
      "\u001b[0;32m/Users/erikrood/anaconda3/lib/python3.5/site-packages/pandas/io/parsers.py\u001b[0m in \u001b[0;36m_make_engine\u001b[0;34m(self, engine)\u001b[0m\n\u001b[1;32m    797\u001b[0m     \u001b[0;32mdef\u001b[0m \u001b[0m_make_engine\u001b[0m\u001b[0;34m(\u001b[0m\u001b[0mself\u001b[0m\u001b[0;34m,\u001b[0m \u001b[0mengine\u001b[0m\u001b[0;34m=\u001b[0m\u001b[0;34m'c'\u001b[0m\u001b[0;34m)\u001b[0m\u001b[0;34m:\u001b[0m\u001b[0;34m\u001b[0m\u001b[0m\n\u001b[1;32m    798\u001b[0m         \u001b[0;32mif\u001b[0m \u001b[0mengine\u001b[0m \u001b[0;34m==\u001b[0m \u001b[0;34m'c'\u001b[0m\u001b[0;34m:\u001b[0m\u001b[0;34m\u001b[0m\u001b[0m\n\u001b[0;32m--> 799\u001b[0;31m             \u001b[0mself\u001b[0m\u001b[0;34m.\u001b[0m\u001b[0m_engine\u001b[0m \u001b[0;34m=\u001b[0m \u001b[0mCParserWrapper\u001b[0m\u001b[0;34m(\u001b[0m\u001b[0mself\u001b[0m\u001b[0;34m.\u001b[0m\u001b[0mf\u001b[0m\u001b[0;34m,\u001b[0m \u001b[0;34m**\u001b[0m\u001b[0mself\u001b[0m\u001b[0;34m.\u001b[0m\u001b[0moptions\u001b[0m\u001b[0;34m)\u001b[0m\u001b[0;34m\u001b[0m\u001b[0m\n\u001b[0m\u001b[1;32m    800\u001b[0m         \u001b[0;32melse\u001b[0m\u001b[0;34m:\u001b[0m\u001b[0;34m\u001b[0m\u001b[0m\n\u001b[1;32m    801\u001b[0m             \u001b[0;32mif\u001b[0m \u001b[0mengine\u001b[0m \u001b[0;34m==\u001b[0m \u001b[0;34m'python'\u001b[0m\u001b[0;34m:\u001b[0m\u001b[0;34m\u001b[0m\u001b[0m\n",
      "\u001b[0;32m/Users/erikrood/anaconda3/lib/python3.5/site-packages/pandas/io/parsers.py\u001b[0m in \u001b[0;36m__init__\u001b[0;34m(self, src, **kwds)\u001b[0m\n\u001b[1;32m   1211\u001b[0m         \u001b[0mkwds\u001b[0m\u001b[0;34m[\u001b[0m\u001b[0;34m'allow_leading_cols'\u001b[0m\u001b[0;34m]\u001b[0m \u001b[0;34m=\u001b[0m \u001b[0mself\u001b[0m\u001b[0;34m.\u001b[0m\u001b[0mindex_col\u001b[0m \u001b[0;32mis\u001b[0m \u001b[0;32mnot\u001b[0m \u001b[0;32mFalse\u001b[0m\u001b[0;34m\u001b[0m\u001b[0m\n\u001b[1;32m   1212\u001b[0m \u001b[0;34m\u001b[0m\u001b[0m\n\u001b[0;32m-> 1213\u001b[0;31m         \u001b[0mself\u001b[0m\u001b[0;34m.\u001b[0m\u001b[0m_reader\u001b[0m \u001b[0;34m=\u001b[0m \u001b[0m_parser\u001b[0m\u001b[0;34m.\u001b[0m\u001b[0mTextReader\u001b[0m\u001b[0;34m(\u001b[0m\u001b[0msrc\u001b[0m\u001b[0;34m,\u001b[0m \u001b[0;34m**\u001b[0m\u001b[0mkwds\u001b[0m\u001b[0;34m)\u001b[0m\u001b[0;34m\u001b[0m\u001b[0m\n\u001b[0m\u001b[1;32m   1214\u001b[0m \u001b[0;34m\u001b[0m\u001b[0m\n\u001b[1;32m   1215\u001b[0m         \u001b[0;31m# XXX\u001b[0m\u001b[0;34m\u001b[0m\u001b[0;34m\u001b[0m\u001b[0m\n",
      "\u001b[0;32mpandas/parser.pyx\u001b[0m in \u001b[0;36mpandas.parser.TextReader.__cinit__ (pandas/parser.c:3427)\u001b[0;34m()\u001b[0m\n",
      "\u001b[0;32mpandas/parser.pyx\u001b[0m in \u001b[0;36mpandas.parser.TextReader._setup_parser_source (pandas/parser.c:6861)\u001b[0;34m()\u001b[0m\n",
      "\u001b[0;31mOSError\u001b[0m: File b'/Users/erikrood/desktop/ipython_datasets/Tech_IPOs.csv' does not exist"
     ]
    }
   ],
   "source": [
    "all_ipos = pandas.read_csv('/Users/erikrood/desktop/ipython_datasets/Tech_IPOs.csv')"
   ]
  },
  {
   "cell_type": "code",
   "execution_count": null,
   "metadata": {
    "collapsed": false
   },
   "outputs": [],
   "source": [
    "all_ipos.head()"
   ]
  },
  {
   "cell_type": "code",
   "execution_count": null,
   "metadata": {
    "collapsed": false
   },
   "outputs": [],
   "source": [
    "#dropping rows with no listed IPO year\n",
    "all_ipos = all_ipos[all_ipos.IPOyear != 'n/a']\n",
    "all_ipos = all_ipos[all_ipos.Sector != 'n/a']"
   ]
  },
  {
   "cell_type": "code",
   "execution_count": null,
   "metadata": {
    "collapsed": false
   },
   "outputs": [],
   "source": [
    "tech_ipos = all_ipos[all_ipos.Sector == 'Technology']"
   ]
  },
  {
   "cell_type": "code",
   "execution_count": null,
   "metadata": {
    "collapsed": false
   },
   "outputs": [],
   "source": [
    "total_ipos_sector = all_ipos.groupby('IPOyear').count().sort_values(by='Sector',ascending=False).reset_index()\n",
    "total_ipos_sector = total_ipos_sector[['IPOyear','Sector']]\n",
    "total_ipos_sector.head()"
   ]
  },
  {
   "cell_type": "markdown",
   "metadata": {},
   "source": [
    "## IPOs by sector year (n-count, use to create multi-series line plot)"
   ]
  },
  {
   "cell_type": "code",
   "execution_count": null,
   "metadata": {
    "collapsed": false
   },
   "outputs": [],
   "source": [
    "all_ipos_clean.info()"
   ]
  },
  {
   "cell_type": "code",
   "execution_count": null,
   "metadata": {
    "collapsed": false
   },
   "outputs": [],
   "source": [
    "#setting up initial pivot view, I want my sector variables as columns though\n",
    "all_ipos_clean = all_ipos[['Sector','IPOyear','Industry']]\n",
    "df_pivot = all_ipos_clean.groupby(['Sector','IPOyear']).count().reset_index()\n",
    "df_pivot.columns = ['Sector','IPOyear','Total_IPOs']\n",
    "df_pivot.head(5)"
   ]
  },
  {
   "cell_type": "code",
   "execution_count": null,
   "metadata": {
    "collapsed": false
   },
   "outputs": [],
   "source": [
    "#pivoting to shift sectors to columns\n",
    "df_pivot2 = df_pivot.pivot('IPOyear','Sector','Total_IPOs').reset_index()"
   ]
  },
  {
   "cell_type": "code",
   "execution_count": null,
   "metadata": {
    "collapsed": false
   },
   "outputs": [],
   "source": [
    "#replacing null counts with 0\n",
    "df_pivot2.replace(np.NaN, 0, inplace=True)\n",
    "\n",
    "#stripping whitespace in columns\n",
    "#used to replace spaces w/ \"_\" (strip whitespace)\n",
    "df_pivot2.columns = [x.strip().replace(' ', '_') for x in df_pivot2.columns]\n",
    "df_pivot2.columns = [x.strip().replace('-', '_') for x in df_pivot2.columns]\n",
    "df_pivot2.head()"
   ]
  },
  {
   "cell_type": "code",
   "execution_count": null,
   "metadata": {
    "collapsed": false
   },
   "outputs": [],
   "source": [
    "df_pivot2['Total'] = df_pivot2.Basic_Industries +df_pivot2.Capital_Goods+df_pivot2.Consumer_Durables+df_pivot2.Consumer_Non_Durables\\\n",
    "+df_pivot2.Consumer_Services+df_pivot2.Energy+df_pivot2.Finance+df_pivot2.Health_Care+df_pivot2.Miscellaneous\\\n",
    "+df_pivot2.Public_Utilities+df_pivot2.Technology + df_pivot2.Transportation\n",
    "\n",
    "df_pivot2['Tech_perc_total'] = (df_pivot2.Technology/df_pivot2.Total)*100\n",
    "df_pivot2.head()"
   ]
  },
  {
   "cell_type": "code",
   "execution_count": null,
   "metadata": {
    "collapsed": false
   },
   "outputs": [],
   "source": [
    "df_combchart = df_pivot2[['IPOyear','Technology','Tech_perc_total']]\n",
    "df_combchart = df_combchart[(df_combchart['IPOyear'] >= '1988')].reset_index()\n",
    "\n",
    "df_combchart.head()"
   ]
  },
  {
   "cell_type": "code",
   "execution_count": null,
   "metadata": {
    "collapsed": false
   },
   "outputs": [],
   "source": [
    "#bar with # of registrations, line with % of total\n",
    "\n",
    "#bar chart\n",
    "\n",
    "x = df_combchart['IPOyear']\n",
    "y1 = df_combchart['Technology']\n",
    "y2 = df_combchart['Tech_perc_total']\n",
    "\n",
    "\n",
    "trace0 = go.Bar(\n",
    "        x=x,\n",
    "        y=y1,\n",
    "        name='Technology Sector IPOs',\n",
    "        marker=dict(\n",
    "            color='rgb(178, 227, 250)',\n",
    "            line=dict(\n",
    "                color='rgb(8,48,107)',\n",
    "                width=1.5\n",
    "            ),\n",
    "        ),\n",
    "        opacity=0.6\n",
    "    )\n",
    "\n",
    "trace1 = go.Scatter(\n",
    "        x=x,\n",
    "        y=y2,\n",
    "        name='percent of total IPOs',\n",
    "        yaxis = 'y2',\n",
    "        marker=dict(\n",
    "            color='rgb(84, 226, 129)',\n",
    "            line=dict(\n",
    "                color='rgb(8,48,107)',\n",
    "                width=1.5\n",
    "            ),\n",
    "        ),\n",
    "        opacity=0.6\n",
    "    )\n",
    "        \n",
    "data = [trace0, trace1]\n",
    "    \n",
    "layout = go.Layout(\n",
    "      title='Technology Sector IPOs',\n",
    "    legend=dict(\n",
    "        x=.5,\n",
    "        y=1,\n",
    "        bgcolor='#E2E2E2',\n",
    "        bordercolor='#FFFFFF',\n",
    "        borderwidth=2,\n",
    "        ),\n",
    "    xaxis=dict(\n",
    "        title='category',\n",
    "        tickangle = 47,\n",
    "    ),\n",
    "    \n",
    "    yaxis=dict(\n",
    "        title='# of Technology Sector IPOs'\n",
    "    ),\n",
    "    \n",
    "    yaxis2=dict(\n",
    "        title='percent of total IPOs',\n",
    "        overlaying='y',\n",
    "        side='right'\n",
    "    ),\n",
    "    \n",
    "     margin=go.Margin(\n",
    "        b = 150,\n",
    "        r=50,\n",
    "        t = 50\n",
    "    )\n",
    "\n",
    "    \n",
    ")\n",
    "fig = go.Figure(data=data, layout=layout)\n",
    "py.iplot(fig, filename='tech_IPOS')"
   ]
  },
  {
   "cell_type": "code",
   "execution_count": null,
   "metadata": {
    "collapsed": false
   },
   "outputs": [],
   "source": [
    "import datetime\n",
    "import numpy as np\n",
    "import plotly.plotly as py\n",
    "import plotly.graph_objs as go\n",
    "\n",
    "\n",
    "year = df_pivot['IPOyear']\n",
    "y = df_pivot['Sector']\n",
    "z = df_pivot['Total_IPOs']\n",
    "\n",
    "data = [\n",
    "    go.Heatmap(\n",
    "        z=z,\n",
    "        x=year,\n",
    "        y=y,\n",
    "        colorscale=[[0, 'rgb(216, 236, 247)'], [0.5, 'rgb(49,54,149)'], [1.0, 'rgb(109, 217, 109)']]\n",
    "    ),\n",
    "    \n",
    "]\n",
    "\n",
    "layout = go.Layout(\n",
    "    title='IPOs per year by Sector',\n",
    "    xaxis = dict(ticks='', nticks=20),\n",
    "    yaxis = dict(ticks='' )\n",
    ")\n",
    "\n",
    "fig = go.Figure(data=data, layout=layout)\n",
    "py.iplot(fig, filename='datetime-heatmap')"
   ]
  },
  {
   "cell_type": "code",
   "execution_count": null,
   "metadata": {
    "collapsed": true
   },
   "outputs": [],
   "source": [
    "df_pivot_above2000 = df_pivot[(df_pivot['IPOyear'] >= '2000')].reset_index()\n"
   ]
  },
  {
   "cell_type": "code",
   "execution_count": null,
   "metadata": {
    "collapsed": false
   },
   "outputs": [],
   "source": [
    "import datetime\n",
    "import numpy as np\n",
    "import plotly.plotly as py\n",
    "import plotly.graph_objs as go\n",
    "\n",
    "\n",
    "year = df_pivot_above2000['IPOyear']\n",
    "y = df_pivot_above2000['Sector']\n",
    "z = df_pivot_above2000['Total_IPOs']\n",
    "\n",
    "data = [\n",
    "    go.Heatmap(\n",
    "        z=z,\n",
    "        x=year,\n",
    "        y=y,\n",
    "        colorscale=[[0, 'rgb(216, 236, 247)'], [0.5, 'rgb(49,54,149)'], [1.0, 'rgb(109, 217, 109)']]\n",
    "    ),\n",
    "    \n",
    "]\n",
    "\n",
    "layout = go.Layout(\n",
    "    title='IPOs per year by Sector',\n",
    "    xaxis = dict(ticks='', nticks=20),\n",
    "    yaxis = dict(ticks='' )\n",
    ")\n",
    "\n",
    "fig = go.Figure(data=data, layout=layout)\n",
    "py.iplot(fig, filename='datetime-heatmap2')"
   ]
  },
  {
   "cell_type": "markdown",
   "metadata": {},
   "source": [
    "## multi-series line chart - did not use"
   ]
  },
  {
   "cell_type": "code",
   "execution_count": null,
   "metadata": {
    "collapsed": false
   },
   "outputs": [],
   "source": [
    "# Create and style traces\n",
    "x = df_pivot2['IPOyear']\n",
    "y1 = df_pivot2['Basic_Industries']\n",
    "y2 = df_pivot2['Capital_Goods']\n",
    "y3 = df_pivot2['Consumer_Durables']\n",
    "y4 = df_pivot2['Consumer_Non_Durables']\n",
    "y5 = df_pivot2['Consumer_Services']\n",
    "y6 = df_pivot2['Energy']\n",
    "y7 = df_pivot2['Finance']\n",
    "y8 = df_pivot2['Health_Care']\n",
    "y9 = df_pivot2['Public_Utilities']\n",
    "y10 = df_pivot2['Technology']\n",
    "y11 = df_pivot2['Transportation']\n",
    "\n",
    "\n",
    "trace0 = go.Scatter(\n",
    "    x = x,\n",
    "    y = y1,\n",
    "    name = 'Basic_Industries',\n",
    "    line = dict(\n",
    "        color = ('rgb(205, 12, 24)'),\n",
    "        width = 4)\n",
    ")\n",
    "trace1 = go.Scatter(\n",
    "    x = x,\n",
    "    y = y2,\n",
    "    name = 'Capital_Goods',\n",
    "    line = dict(\n",
    "        color = ('rgb(22, 96, 167)'),\n",
    "        width = 4,)\n",
    ")\n",
    "trace2 = go.Scatter(\n",
    "    x = x,\n",
    "    y = y3,\n",
    "    name = 'Consumer_Durables',\n",
    "    line = dict(\n",
    "        color = ('rgb(205, 12, 24)'),\n",
    "        width = 4,\n",
    "        dash = 'dash') # dash options include 'dash', 'dot', and 'dashdot'\n",
    ")\n",
    "trace3 = go.Scatter(\n",
    "    x = x,\n",
    "    y = y4,\n",
    "    name = 'Consumer_Non-Durables',\n",
    "    line = dict(\n",
    "        color = ('rgb(22, 96, 167)'),\n",
    "        width = 4,\n",
    "        dash = 'dash')\n",
    ")\n",
    "trace4 = go.Scatter(\n",
    "    x = x,\n",
    "    y = y5,\n",
    "    name = 'Consumer_Services',\n",
    "    line = dict(\n",
    "        color = ('rgb(205, 12, 24)'),\n",
    "        width = 4,\n",
    "        dash = 'dot')\n",
    ")\n",
    "trace5 = go.Scatter(\n",
    "    x = x,\n",
    "    y = y6,\n",
    "    name = 'Energy',\n",
    "    line = dict(\n",
    "        color = ('rgb(22, 96, 167)'),\n",
    "        width = 4,\n",
    "        dash = 'dot')\n",
    ")\n",
    "data = [trace0, trace1, trace2, trace3, trace4, trace5]\n",
    "\n",
    "# Edit the layout\n",
    "layout = dict(title = '# of IPOs by sector',\n",
    "              xaxis = dict(title = '# IPOs'),\n",
    "              yaxis = dict(title = 'Year'),\n",
    "              )\n",
    "\n",
    "# Plot and embed in ipython notebook!\n",
    "fig = dict(data=data, layout=layout)\n",
    "py.iplot(fig, filename='styled-line')"
   ]
  },
  {
   "cell_type": "markdown",
   "metadata": {},
   "source": [
    "## Tech IPOs by year (n-count)"
   ]
  },
  {
   "cell_type": "code",
   "execution_count": null,
   "metadata": {
    "collapsed": false
   },
   "outputs": [],
   "source": [
    "tech_ipos_pivot = tech_ipos[['IPOyear','Sector']]\n",
    "tech_ipos_pivot = tech_ipos_pivot.groupby(['IPOyear']).count().reset_index()\n",
    "tech_ipos_pivot.head()"
   ]
  },
  {
   "cell_type": "code",
   "execution_count": null,
   "metadata": {
    "collapsed": true
   },
   "outputs": [],
   "source": []
  }
 ],
 "metadata": {
  "anaconda-cloud": {},
  "kernelspec": {
   "display_name": "Python [conda root]",
   "language": "python",
   "name": "conda-root-py"
  },
  "language_info": {
   "codemirror_mode": {
    "name": "ipython",
    "version": 3
   },
   "file_extension": ".py",
   "mimetype": "text/x-python",
   "name": "python",
   "nbconvert_exporter": "python",
   "pygments_lexer": "ipython3",
   "version": "3.5.2"
  }
 },
 "nbformat": 4,
 "nbformat_minor": 0
}
