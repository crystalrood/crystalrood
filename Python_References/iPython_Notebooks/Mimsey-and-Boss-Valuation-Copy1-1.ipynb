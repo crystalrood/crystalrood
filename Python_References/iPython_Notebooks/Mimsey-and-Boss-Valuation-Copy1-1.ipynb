{
 "cells": [
  {
   "cell_type": "code",
   "execution_count": 21,
   "metadata": {
    "collapsed": true
   },
   "outputs": [],
   "source": [
    "import pandas as pd\n",
    "import numpy as np\n",
    "import datetime\n",
    "from collections import OrderedDict\n",
    "import seaborn as sns\n",
    "\n",
    "fundamentals = init_fundamentals()\n",
    "\n",
    "today = datetime.datetime.now()\n",
    "info_date = datetime.date(today.year, today.month, today.day)"
   ]
  },
  {
   "cell_type": "code",
   "execution_count": 22,
   "metadata": {
    "collapsed": true
   },
   "outputs": [],
   "source": [
    "stocks_df = get_fundamentals(query(fundamentals.company_reference.sid,\n",
    "                                    fundamentals.asset_classification.morningstar_sector_code,\n",
    "                                    fundamentals.share_class_reference.symbol,\n",
    "                                    fundamentals.company_reference.standard_name,\n",
    "                                    fundamentals.valuation.market_cap,\n",
    "                                    fundamentals.earnings_report.normalized_basic_eps,\n",
    "                                    fundamentals.earnings_report.normalized_diluted_eps,\n",
    "                                    fundamentals.valuation_ratios.pe_ratio,\n",
    "                                    fundamentals.asset_classification.growth_grade,\n",
    "                                    fundamentals.asset_classification.growth_score,\n",
    "                                    fundamentals.valuation_ratios.sustainable_growth_rate,\n",
    "                                    fundamentals.earnings_ratios.diluted_cont_eps_growth,\n",
    "                                    fundamentals.earnings_ratios.diluted_eps_growth,\n",
    "                                    fundamentals.earnings_ratios.dps_growth,\n",
    "                                    fundamentals.earnings_ratios.equity_per_share_growth,\n",
    "                                    fundamentals.operation_ratios.revenue_growth\n",
    "                                  )\n",
    "        # Picking one company as a proof of concept                    \n",
    "        .filter(fundamentals.share_class_reference.symbol == 'AAPL' )                  \n",
    "        ,info_date)"
   ]
  },
  {
   "cell_type": "code",
   "execution_count": 23,
   "metadata": {
    "collapsed": false
   },
   "outputs": [],
   "source": [
    "#transposing so stocks and info are in rows rather than columns\n",
    "stocks_fund = stocks_df.transpose()\n",
    "\n",
    "#getting all the stock symbols so i can ensure they are valid\n",
    "stock_symbols = stocks_fund['symbol']\n",
    "\n",
    "#creating array to put symbols in after they are validated\n",
    "valid_symbols =[]\n",
    "\n",
    "#validate symbols look, checking to see if i can get price, if i can't get the price, i skip it\n",
    "for s in stock_symbols:  \n",
    "    try:  \n",
    "        data = get_pricing(\n",
    "            s,\n",
    "            fields ='close_price',\n",
    "            start_date='2016-06-01', #customize your pricing date range\n",
    "            end_date = '2016-06-01', \n",
    "            frequency='daily', #change to daily for daily pricing\n",
    "        )\n",
    "        valid_symbols.append(s)  \n",
    "    except:  \n",
    "        pass \n",
    "\n",
    "\n",
    "#get the prices for the valid stock symbols, no error should be thrown\n",
    "data = get_pricing(\n",
    "    valid_symbols,\n",
    "    fields ='close_price',\n",
    "    start_date='2016-06-01', #customize your pricing date range\n",
    "    end_date = '2016-06-01', \n",
    "    frequency='daily', #change to daily for daily pricing\n",
    ")\n",
    "\n",
    "#tranpose so stocks are in rows\n",
    "data = data.transpose()\n",
    "\n",
    "#rename 1st column\n",
    "data.columns = ['current_price']\n",
    "\n",
    "#join tables on the stock index\n",
    "all_stock_info = pd.concat([data, stocks_fund], axis=1, join_axes=[data.index])"
   ]
  },
  {
   "cell_type": "code",
   "execution_count": 24,
   "metadata": {
    "collapsed": false
   },
   "outputs": [
    {
     "data": {
      "text/html": [
       "<div style=\"max-height:1000px;max-width:1500px;overflow:auto;\">\n",
       "<table border=\"1\" class=\"dataframe\">\n",
       "  <thead>\n",
       "    <tr style=\"text-align: right;\">\n",
       "      <th></th>\n",
       "      <th>current_price</th>\n",
       "      <th>sid</th>\n",
       "      <th>morningstar_sector_code</th>\n",
       "      <th>symbol</th>\n",
       "      <th>standard_name</th>\n",
       "      <th>market_cap</th>\n",
       "      <th>normalized_basic_eps</th>\n",
       "      <th>normalized_diluted_eps</th>\n",
       "      <th>pe_ratio</th>\n",
       "      <th>growth_grade</th>\n",
       "      <th>growth_score</th>\n",
       "      <th>sustainable_growth_rate</th>\n",
       "      <th>diluted_cont_eps_growth</th>\n",
       "      <th>diluted_eps_growth</th>\n",
       "      <th>dps_growth</th>\n",
       "      <th>equity_per_share_growth</th>\n",
       "      <th>revenue_growth</th>\n",
       "    </tr>\n",
       "  </thead>\n",
       "  <tbody>\n",
       "    <tr>\n",
       "      <th>Equity(24 [AAPL])</th>\n",
       "      <td>98.45</td>\n",
       "      <td>Asset(24 [AAPL])</td>\n",
       "      <td>311</td>\n",
       "      <td>AAPL</td>\n",
       "      <td>Apple Inc</td>\n",
       "      <td>5.34323e+11</td>\n",
       "      <td>1.907014</td>\n",
       "      <td>1.897891</td>\n",
       "      <td>10.8712</td>\n",
       "      <td>A</td>\n",
       "      <td>77.93729</td>\n",
       "      <td>0.3001</td>\n",
       "      <td>-0.18388</td>\n",
       "      <td>-0.184549</td>\n",
       "      <td>0.106383</td>\n",
       "      <td>-0.049858</td>\n",
       "      <td>-0.128478</td>\n",
       "    </tr>\n",
       "  </tbody>\n",
       "</table>\n",
       "</div>"
      ],
      "text/plain": [
       "                   current_price               sid morningstar_sector_code  \\\n",
       "Equity(24 [AAPL])          98.45  Asset(24 [AAPL])                     311   \n",
       "\n",
       "                  symbol standard_name   market_cap normalized_basic_eps  \\\n",
       "Equity(24 [AAPL])   AAPL     Apple Inc  5.34323e+11             1.907014   \n",
       "\n",
       "                  normalized_diluted_eps pe_ratio growth_grade growth_score  \\\n",
       "Equity(24 [AAPL])               1.897891  10.8712            A     77.93729   \n",
       "\n",
       "                  sustainable_growth_rate diluted_cont_eps_growth  \\\n",
       "Equity(24 [AAPL])                  0.3001                -0.18388   \n",
       "\n",
       "                  diluted_eps_growth dps_growth equity_per_share_growth  \\\n",
       "Equity(24 [AAPL])          -0.184549   0.106383               -0.049858   \n",
       "\n",
       "                  revenue_growth  \n",
       "Equity(24 [AAPL])      -0.128478  "
      ]
     },
     "execution_count": 24,
     "metadata": {},
     "output_type": "execute_result"
    }
   ],
   "source": [
    "#sanity check\n",
    "all_stock_info.head()"
   ]
  },
  {
   "cell_type": "code",
   "execution_count": 39,
   "metadata": {
    "collapsed": false
   },
   "outputs": [],
   "source": [
    "#constants in Graham's formula\n",
    "R = 4.4\n",
    "y = 3.11\n",
    "\n",
    "#doing the calculations for calcualted price, growth, calculated growth\n",
    "\n",
    "all_stock_info['cal_price'] = (all_stock_info['normalized_basic_eps']*(all_stock_info['pe_ratio']+\\\n",
    "                                               (1.5*((all_stock_info['sustainable_growth_rate']+\\\n",
    "                                                      all_stock_info['revenue_growth']))*100))*R)/y\n",
    "\n",
    "all_stock_info['growth'] = (((all_stock_info['current_price']*y)/\\\n",
    "          (R*all_stock_info['normalized_basic_eps']))- all_stock_info['pe_ratio'])/1.5\n",
    "\n",
    "all_stock_info['cal_growth'] = 100* (all_stock_info['sustainable_growth_rate']\\\n",
    "                                     + all_stock_info['revenue_growth'])\n"
   ]
  },
  {
   "cell_type": "code",
   "execution_count": 41,
   "metadata": {
    "collapsed": false
   },
   "outputs": [],
   "source": [
    "columns = ['stock_ticker', 'cur_price', 'cal_price', 'cur_growth', 'cal_growth']\n",
    "grahams_vs_actuals = pd.DataFrame(columns=columns)\n",
    "grahams_vs_actuals['stock_ticker'] = all_stock_info['symbol']\n",
    "grahams_vs_actuals['cur_price'] = all_stock_info['current_price']\n",
    "grahams_vs_actuals['cal_price'] = all_stock_info['cal_price']\n",
    "grahams_vs_actuals['cur_growth'] = all_stock_info['growth']\n",
    "grahams_vs_actuals['cal_growth'] = all_stock_info['cal_growth']\n",
    "\n"
   ]
  },
  {
   "cell_type": "code",
   "execution_count": null,
   "metadata": {
    "collapsed": true
   },
   "outputs": [],
   "source": []
  }
 ],
 "metadata": {
  "kernelspec": {
   "display_name": "Python 2",
   "language": "python",
   "name": "python2"
  },
  "language_info": {
   "codemirror_mode": {
    "name": "ipython",
    "version": 2
   },
   "file_extension": ".py",
   "mimetype": "text/x-python",
   "name": "python",
   "nbconvert_exporter": "python",
   "pygments_lexer": "ipython2",
   "version": "2.7.11"
  }
 },
 "nbformat": 4,
 "nbformat_minor": 0
}
