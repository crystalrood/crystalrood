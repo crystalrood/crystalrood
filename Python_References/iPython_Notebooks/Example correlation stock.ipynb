{
 "cells": [
  {
   "cell_type": "code",
   "execution_count": 19,
   "metadata": {
    "collapsed": false
   },
   "outputs": [],
   "source": [
    "from pandas.io.data import DataReader\n",
    "from datetime import date\n",
    "import numpy as np\n",
    "import pandas as pd\n",
    "\n",
    "# Grab time series data for 5-year history for the stock (here AAPL)\n",
    "# and for S&P-500 Index\n",
    "symbols_list = ['AAPL', 'TSLA', 'YHOO']\n",
    "symbols=[]\n",
    "for ticker in symbols_list: \n",
    "\n",
    "    r = DataReader(ticker,'yahoo',sdate,edate)\n",
    "    r['Symbol'] = ticker \n",
    "    symbols.append(r)\n",
    "df = pd.concat(symbols)\n",
    "\n",
    "# create a time-series of monthly data points\n",
    "rts = df.resample('M').last()\n",
    "#rbts = dfb.resample('M').last()\n",
    "dfsm = rts[['Adj Close','Symbol']]\n",
    "\n",
    "#me fucking around putting symbols list in here^^"
   ]
  },
  {
   "cell_type": "code",
   "execution_count": 22,
   "metadata": {
    "collapsed": false
   },
   "outputs": [
    {
     "name": "stdout",
     "output_type": "stream",
     "text": [
      "0.611482784262 0.482408498479 0.0744175109253 0.355189790879 0.279290766974\n"
     ]
    },
    {
     "name": "stderr",
     "output_type": "stream",
     "text": [
      "/Users/erikrood/anaconda/lib/python2.7/site-packages/ipykernel/__main__.py:14: FutureWarning: how in .resample() is deprecated\n",
      "the new syntax is .resample(...).last()\n",
      "/Users/erikrood/anaconda/lib/python2.7/site-packages/ipykernel/__main__.py:15: FutureWarning: how in .resample() is deprecated\n",
      "the new syntax is .resample(...).last()\n"
     ]
    }
   ],
   "source": [
    "#example from: http://gouthamanbalaraman.com/blog/calculating-stock-beta.html\n",
    "\n",
    "from pandas.io.data import DataReader\n",
    "from datetime import date\n",
    "import numpy as np\n",
    "import pandas as pd\n",
    "\n",
    "# Grab time series data for 5-year history for the stock (here AAPL)\n",
    "# and for S&P-500 Index\n",
    "sdate = date(2008,12,31)\n",
    "edate = date(2013,12,31)\n",
    "df = DataReader('WFM','yahoo',sdate,edate)\n",
    "dfb = DataReader('^GSPC','yahoo',sdate,edate)\n",
    "\n",
    "# create a time-series of monthly data points\n",
    "rts = df.resample('M',how='last')\n",
    "rbts = dfb.resample('M',how='last')\n",
    "dfsm = pd.DataFrame({'s_adjclose' : rts['Adj Close'],\n",
    "                        'b_adjclose' : rbts['Adj Close']},\n",
    "                        index=rts.index)\n",
    "\n",
    "# compute returns\n",
    "dfsm[['s_returns','b_returns']] = dfsm[['s_adjclose','b_adjclose']]/\\\n",
    "    dfsm[['s_adjclose','b_adjclose']].shift(1) -1\n",
    "dfsm = dfsm.dropna()\n",
    "covmat = np.cov(dfsm[\"s_returns\"],dfsm[\"b_returns\"])\n",
    "\n",
    "# calculate measures now\n",
    "beta = covmat[0,1]/covmat[1,1]\n",
    "alpha= np.mean(dfsm[\"s_returns\"])-beta*np.mean(dfsm[\"b_returns\"])\n",
    "\n",
    "# r_squared     = 1. - SS_res/SS_tot\n",
    "ypred = alpha + beta * dfsm[\"b_returns\"]\n",
    "SS_res = np.sum(np.power(ypred-dfsm[\"s_returns\"],2))\n",
    "SS_tot = covmat[0,0]*(len(dfsm)-1) # SS_tot is sample_variance*(n-1)\n",
    "r_squared = 1. - SS_res/SS_tot\n",
    "# 5- year volatiity and 1-year momentum\n",
    "volatility = np.sqrt(covmat[0,0])\n",
    "momentum = np.prod(1+dfsm[\"s_returns\"].tail(12).values) -1\n",
    "\n",
    "# annualize the numbers\n",
    "prd = 12. # used monthly returns; 12 periods to annualize\n",
    "alpha = alpha*prd\n",
    "volatility = volatility*np.sqrt(prd)\n",
    "\n",
    "print beta,alpha, r_squared, volatility, momentum"
   ]
  },
  {
   "cell_type": "code",
   "execution_count": null,
   "metadata": {
    "collapsed": true
   },
   "outputs": [],
   "source": []
  }
 ],
 "metadata": {
  "kernelspec": {
   "display_name": "Python [conda root]",
   "language": "python",
   "name": "conda-root-py"
  },
  "language_info": {
   "codemirror_mode": {
    "name": "ipython",
    "version": 3
   },
   "file_extension": ".py",
   "mimetype": "text/x-python",
   "name": "python",
   "nbconvert_exporter": "python",
   "pygments_lexer": "ipython3",
   "version": "3.5.2"
  }
 },
 "nbformat": 4,
 "nbformat_minor": 0
}
