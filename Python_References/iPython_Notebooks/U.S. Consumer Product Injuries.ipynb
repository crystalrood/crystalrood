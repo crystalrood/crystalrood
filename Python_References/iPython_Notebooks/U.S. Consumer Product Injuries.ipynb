{
 "cells": [
  {
   "cell_type": "code",
   "execution_count": 3,
   "metadata": {
    "collapsed": false
   },
   "outputs": [],
   "source": [
    "%matplotlib inline \n",
    "import matplotlib.pyplot as plt \n",
    "import pandas \n",
    "import numpy as np\n",
    "\n",
    "import statsmodels.api as sm\n",
    "from statsmodels.sandbox.regression.predstd import wls_prediction_std\n",
    "\n",
    "import plotly.plotly as py\n",
    "import plotly.graph_objs as go\n",
    "from plotly.tools import FigureFactory as FF\n",
    "py.sign_in('erikrood','3eqsrype8v')\n",
    "#source: http://www.cpsc.gov/en/Research--Statistics/NEISS-Injury-Data/\n",
    "#source u.s. pop. http://factfinder.census.gov/faces/tableservices/jsf/pages/productview.xhtml?src=bkmk"
   ]
  },
  {
   "cell_type": "code",
   "execution_count": 234,
   "metadata": {
    "collapsed": false
   },
   "outputs": [],
   "source": [
    "NEISS = pandas.read_excel('/Users/erikrood/desktop/ipython_datasets/NEISS_data_04_16.xlsx') "
   ]
  },
  {
   "cell_type": "code",
   "execution_count": 5,
   "metadata": {
    "collapsed": false
   },
   "outputs": [
    {
     "data": {
      "text/html": [
       "<div>\n",
       "<table border=\"1\" class=\"dataframe\">\n",
       "  <thead>\n",
       "    <tr style=\"text-align: right;\">\n",
       "      <th></th>\n",
       "      <th>CPSC Case #</th>\n",
       "      <th>trmt_date</th>\n",
       "      <th>psu</th>\n",
       "      <th>weight</th>\n",
       "      <th>stratum</th>\n",
       "      <th>age</th>\n",
       "      <th>sex</th>\n",
       "      <th>race</th>\n",
       "      <th>race_other</th>\n",
       "      <th>diag</th>\n",
       "      <th>diag_other</th>\n",
       "      <th>body_part</th>\n",
       "      <th>disposition</th>\n",
       "      <th>location</th>\n",
       "      <th>fmv</th>\n",
       "      <th>prod1</th>\n",
       "      <th>prod2</th>\n",
       "      <th>narr1</th>\n",
       "      <th>narr2</th>\n",
       "    </tr>\n",
       "  </thead>\n",
       "  <tbody>\n",
       "    <tr>\n",
       "      <th>0</th>\n",
       "      <td>150733174</td>\n",
       "      <td>2015-07-11</td>\n",
       "      <td>38</td>\n",
       "      <td>15.7762</td>\n",
       "      <td>V</td>\n",
       "      <td>5</td>\n",
       "      <td>1</td>\n",
       "      <td>0</td>\n",
       "      <td>NaN</td>\n",
       "      <td>57</td>\n",
       "      <td>NaN</td>\n",
       "      <td>33</td>\n",
       "      <td>1</td>\n",
       "      <td>9</td>\n",
       "      <td>0</td>\n",
       "      <td>1267</td>\n",
       "      <td>NaN</td>\n",
       "      <td>5 YR OLD MALE PLAYING SOCCER BLOCKING BALL AND...</td>\n",
       "      <td>X IT</td>\n",
       "    </tr>\n",
       "    <tr>\n",
       "      <th>1</th>\n",
       "      <td>150734723</td>\n",
       "      <td>2015-07-06</td>\n",
       "      <td>43</td>\n",
       "      <td>83.2157</td>\n",
       "      <td>S</td>\n",
       "      <td>36</td>\n",
       "      <td>1</td>\n",
       "      <td>1</td>\n",
       "      <td>NaN</td>\n",
       "      <td>57</td>\n",
       "      <td>NaN</td>\n",
       "      <td>34</td>\n",
       "      <td>1</td>\n",
       "      <td>1</td>\n",
       "      <td>0</td>\n",
       "      <td>1439</td>\n",
       "      <td>4057.0</td>\n",
       "      <td>L WRIST FX(?)/36YOWM 2 WKS AGO@G-FRIENDS HM,MO...</td>\n",
       "      <td>AN OBJECT&amp;TWISTED WRIST TRYING TO CONTOL MOWER...</td>\n",
       "    </tr>\n",
       "    <tr>\n",
       "      <th>2</th>\n",
       "      <td>150817487</td>\n",
       "      <td>2015-08-02</td>\n",
       "      <td>51</td>\n",
       "      <td>74.8813</td>\n",
       "      <td>L</td>\n",
       "      <td>20</td>\n",
       "      <td>2</td>\n",
       "      <td>0</td>\n",
       "      <td>NaN</td>\n",
       "      <td>71</td>\n",
       "      <td>OTITIS EXTERNA</td>\n",
       "      <td>94</td>\n",
       "      <td>1</td>\n",
       "      <td>0</td>\n",
       "      <td>0</td>\n",
       "      <td>3274</td>\n",
       "      <td>NaN</td>\n",
       "      <td>20 YO F C/O EAR PAIN 1 DAY SAS WAS SWIMMING YE...</td>\n",
       "      <td>T TRIED TO USE ***S TO REMOVE WAX MADE IT WORS...</td>\n",
       "    </tr>\n",
       "    <tr>\n",
       "      <th>3</th>\n",
       "      <td>150717776</td>\n",
       "      <td>2015-06-26</td>\n",
       "      <td>41</td>\n",
       "      <td>15.7762</td>\n",
       "      <td>V</td>\n",
       "      <td>61</td>\n",
       "      <td>1</td>\n",
       "      <td>0</td>\n",
       "      <td>NaN</td>\n",
       "      <td>71</td>\n",
       "      <td>PAIN</td>\n",
       "      <td>35</td>\n",
       "      <td>1</td>\n",
       "      <td>0</td>\n",
       "      <td>0</td>\n",
       "      <td>611</td>\n",
       "      <td>NaN</td>\n",
       "      <td>61YOM W/KNEE PAIN S/P FALLING IN SHOWER 2 DAYS...</td>\n",
       "      <td>NaN</td>\n",
       "    </tr>\n",
       "    <tr>\n",
       "      <th>4</th>\n",
       "      <td>150721694</td>\n",
       "      <td>2015-07-04</td>\n",
       "      <td>42</td>\n",
       "      <td>74.8813</td>\n",
       "      <td>L</td>\n",
       "      <td>88</td>\n",
       "      <td>2</td>\n",
       "      <td>3</td>\n",
       "      <td>HISPANIC</td>\n",
       "      <td>62</td>\n",
       "      <td>NaN</td>\n",
       "      <td>75</td>\n",
       "      <td>1</td>\n",
       "      <td>0</td>\n",
       "      <td>0</td>\n",
       "      <td>1893</td>\n",
       "      <td>1807.0</td>\n",
       "      <td>88YOF PAIN TO HEAD WHEN FALL TO FLOOR WHEN WAL...</td>\n",
       "      <td>DOOR AND FELL.DENIES LOC. DX HEAD INJURY</td>\n",
       "    </tr>\n",
       "  </tbody>\n",
       "</table>\n",
       "</div>"
      ],
      "text/plain": [
       "   CPSC Case #  trmt_date  psu   weight stratum  age  sex  race race_other  \\\n",
       "0    150733174 2015-07-11   38  15.7762       V    5    1     0        NaN   \n",
       "1    150734723 2015-07-06   43  83.2157       S   36    1     1        NaN   \n",
       "2    150817487 2015-08-02   51  74.8813       L   20    2     0        NaN   \n",
       "3    150717776 2015-06-26   41  15.7762       V   61    1     0        NaN   \n",
       "4    150721694 2015-07-04   42  74.8813       L   88    2     3   HISPANIC   \n",
       "\n",
       "   diag      diag_other  body_part  disposition  location  fmv  prod1   prod2  \\\n",
       "0    57             NaN         33            1         9    0   1267     NaN   \n",
       "1    57             NaN         34            1         1    0   1439  4057.0   \n",
       "2    71  OTITIS EXTERNA         94            1         0    0   3274     NaN   \n",
       "3    71            PAIN         35            1         0    0    611     NaN   \n",
       "4    62             NaN         75            1         0    0   1893  1807.0   \n",
       "\n",
       "                                               narr1  \\\n",
       "0  5 YR OLD MALE PLAYING SOCCER BLOCKING BALL AND...   \n",
       "1  L WRIST FX(?)/36YOWM 2 WKS AGO@G-FRIENDS HM,MO...   \n",
       "2  20 YO F C/O EAR PAIN 1 DAY SAS WAS SWIMMING YE...   \n",
       "3  61YOM W/KNEE PAIN S/P FALLING IN SHOWER 2 DAYS...   \n",
       "4  88YOF PAIN TO HEAD WHEN FALL TO FLOOR WHEN WAL...   \n",
       "\n",
       "                                               narr2  \n",
       "0                                               X IT  \n",
       "1  AN OBJECT&TWISTED WRIST TRYING TO CONTOL MOWER...  \n",
       "2  T TRIED TO USE ***S TO REMOVE WAX MADE IT WORS...  \n",
       "3                                                NaN  \n",
       "4           DOOR AND FELL.DENIES LOC. DX HEAD INJURY  "
      ]
     },
     "execution_count": 5,
     "metadata": {},
     "output_type": "execute_result"
    }
   ],
   "source": [
    "NEISS.head()"
   ]
  },
  {
   "cell_type": "code",
   "execution_count": 6,
   "metadata": {
    "collapsed": false
   },
   "outputs": [
    {
     "data": {
      "text/plain": [
       "359129"
      ]
     },
     "execution_count": 6,
     "metadata": {},
     "output_type": "execute_result"
    }
   ],
   "source": [
    "len(NEISS)"
   ]
  },
  {
   "cell_type": "code",
   "execution_count": null,
   "metadata": {
    "collapsed": false
   },
   "outputs": [],
   "source": [
    "#sex: male = 1, female = 2\n",
    "df = NEISS[[5,6,15]]\n",
    "df.head(10)"
   ]
  },
  {
   "cell_type": "code",
   "execution_count": 62,
   "metadata": {
    "collapsed": false
   },
   "outputs": [
    {
     "data": {
      "text/html": [
       "<div>\n",
       "<table border=\"1\" class=\"dataframe\">\n",
       "  <thead>\n",
       "    <tr style=\"text-align: right;\">\n",
       "      <th></th>\n",
       "      <th>prod1</th>\n",
       "      <th>age</th>\n",
       "    </tr>\n",
       "  </thead>\n",
       "  <tbody>\n",
       "    <tr>\n",
       "      <th>0</th>\n",
       "      <td>1267</td>\n",
       "      <td>5</td>\n",
       "    </tr>\n",
       "    <tr>\n",
       "      <th>1</th>\n",
       "      <td>1439</td>\n",
       "      <td>36</td>\n",
       "    </tr>\n",
       "    <tr>\n",
       "      <th>2</th>\n",
       "      <td>3274</td>\n",
       "      <td>20</td>\n",
       "    </tr>\n",
       "    <tr>\n",
       "      <th>3</th>\n",
       "      <td>611</td>\n",
       "      <td>61</td>\n",
       "    </tr>\n",
       "    <tr>\n",
       "      <th>4</th>\n",
       "      <td>1893</td>\n",
       "      <td>88</td>\n",
       "    </tr>\n",
       "  </tbody>\n",
       "</table>\n",
       "</div>"
      ],
      "text/plain": [
       "   prod1  age\n",
       "0   1267    5\n",
       "1   1439   36\n",
       "2   3274   20\n",
       "3    611   61\n",
       "4   1893   88"
      ]
     },
     "execution_count": 62,
     "metadata": {},
     "output_type": "execute_result"
    }
   ],
   "source": [
    "df1 = df[[2,0]]\n",
    "df1.head()"
   ]
  },
  {
   "cell_type": "code",
   "execution_count": 38,
   "metadata": {
    "collapsed": false
   },
   "outputs": [
    {
     "data": {
      "text/html": [
       "<div>\n",
       "<table border=\"1\" class=\"dataframe\">\n",
       "  <thead>\n",
       "    <tr style=\"text-align: right;\">\n",
       "      <th></th>\n",
       "      <th>prod1</th>\n",
       "      <th>age</th>\n",
       "    </tr>\n",
       "  </thead>\n",
       "  <tbody>\n",
       "    <tr>\n",
       "      <th>0</th>\n",
       "      <td>1842</td>\n",
       "      <td>28712</td>\n",
       "    </tr>\n",
       "    <tr>\n",
       "      <th>1</th>\n",
       "      <td>1807</td>\n",
       "      <td>28351</td>\n",
       "    </tr>\n",
       "    <tr>\n",
       "      <th>2</th>\n",
       "      <td>4076</td>\n",
       "      <td>16784</td>\n",
       "    </tr>\n",
       "    <tr>\n",
       "      <th>3</th>\n",
       "      <td>1205</td>\n",
       "      <td>14147</td>\n",
       "    </tr>\n",
       "    <tr>\n",
       "      <th>4</th>\n",
       "      <td>5040</td>\n",
       "      <td>12787</td>\n",
       "    </tr>\n",
       "  </tbody>\n",
       "</table>\n",
       "</div>"
      ],
      "text/plain": [
       "  prod1    age\n",
       "0  1842  28712\n",
       "1  1807  28351\n",
       "2  4076  16784\n",
       "3  1205  14147\n",
       "4  5040  12787"
      ]
     },
     "execution_count": 38,
     "metadata": {},
     "output_type": "execute_result"
    }
   ],
   "source": [
    "#most common product\n",
    "df2 = df1.groupby('prod1').count().sort_values(by='age',ascending=False).round(decimals=0).reset_index()\n",
    "df2[['prod1']] = df2[['prod1']].astype(str)\n",
    "df2.head(5)"
   ]
  },
  {
   "cell_type": "code",
   "execution_count": 11,
   "metadata": {
    "collapsed": false
   },
   "outputs": [
    {
     "data": {
      "text/plain": [
       "359129"
      ]
     },
     "execution_count": 11,
     "metadata": {},
     "output_type": "execute_result"
    }
   ],
   "source": [
    "len(df1)"
   ]
  },
  {
   "cell_type": "code",
   "execution_count": 166,
   "metadata": {
    "collapsed": false
   },
   "outputs": [],
   "source": [
    "#reading in product key/description map\n",
    "NEISS_key = pandas.read_csv('/Users/erikrood/desktop/ipython_datasets/NEISS_key.csv') \n",
    "#renaming columns\n",
    "NEISS_key.columns = ['prod1', 'Description'] \n",
    "#ensuring prod1 is same data type as main table\n",
    "NEISS_key[['prod1']] = NEISS_key[['prod1']].astype(str)\n",
    "#need to do this prior to performing the join\n",
    "NEISS_key1 = NEISS_key.groupby('prod1')"
   ]
  },
  {
   "cell_type": "code",
   "execution_count": 167,
   "metadata": {
    "collapsed": false
   },
   "outputs": [],
   "source": [
    "#left join to pull in product description\n",
    "df3 = df2.merge(NEISS_key, how='left', on=\"prod1\")\n",
    "#df3 = pandas.merge(df2, NEISS_key, left_index='prod1', right_index='clean', how='left')"
   ]
  },
  {
   "cell_type": "code",
   "execution_count": 66,
   "metadata": {
    "collapsed": false
   },
   "outputs": [
    {
     "data": {
      "text/html": [
       "<div>\n",
       "<table border=\"1\" class=\"dataframe\">\n",
       "  <thead>\n",
       "    <tr style=\"text-align: right;\">\n",
       "      <th></th>\n",
       "      <th>prod1</th>\n",
       "      <th>age</th>\n",
       "      <th>Description</th>\n",
       "    </tr>\n",
       "  </thead>\n",
       "  <tbody>\n",
       "    <tr>\n",
       "      <th>0</th>\n",
       "      <td>1842</td>\n",
       "      <td>28712</td>\n",
       "      <td>Stairs or steps</td>\n",
       "    </tr>\n",
       "    <tr>\n",
       "      <th>1</th>\n",
       "      <td>1807</td>\n",
       "      <td>28351</td>\n",
       "      <td>Floors or flooring materials</td>\n",
       "    </tr>\n",
       "    <tr>\n",
       "      <th>2</th>\n",
       "      <td>4076</td>\n",
       "      <td>16784</td>\n",
       "      <td>Beds or bedframes, other or not specified</td>\n",
       "    </tr>\n",
       "    <tr>\n",
       "      <th>3</th>\n",
       "      <td>1205</td>\n",
       "      <td>14147</td>\n",
       "      <td>Basketball</td>\n",
       "    </tr>\n",
       "    <tr>\n",
       "      <th>4</th>\n",
       "      <td>5040</td>\n",
       "      <td>12787</td>\n",
       "      <td>Bicycles or accessories</td>\n",
       "    </tr>\n",
       "  </tbody>\n",
       "</table>\n",
       "</div>"
      ],
      "text/plain": [
       "  prod1    age                                Description\n",
       "0  1842  28712                            Stairs or steps\n",
       "1  1807  28351               Floors or flooring materials\n",
       "2  4076  16784  Beds or bedframes, other or not specified\n",
       "3  1205  14147                                 Basketball\n",
       "4  5040  12787                    Bicycles or accessories"
      ]
     },
     "execution_count": 66,
     "metadata": {},
     "output_type": "execute_result"
    }
   ],
   "source": [
    "df3.head(5)"
   ]
  },
  {
   "cell_type": "code",
   "execution_count": 168,
   "metadata": {
    "collapsed": false
   },
   "outputs": [
    {
     "data": {
      "text/html": [
       "<div>\n",
       "<table border=\"1\" class=\"dataframe\">\n",
       "  <thead>\n",
       "    <tr style=\"text-align: right;\">\n",
       "      <th></th>\n",
       "      <th>product_key</th>\n",
       "      <th>total_injuries</th>\n",
       "      <th>description</th>\n",
       "    </tr>\n",
       "  </thead>\n",
       "  <tbody>\n",
       "    <tr>\n",
       "      <th>0</th>\n",
       "      <td>1842</td>\n",
       "      <td>28712</td>\n",
       "      <td>Stairs or steps</td>\n",
       "    </tr>\n",
       "    <tr>\n",
       "      <th>1</th>\n",
       "      <td>1807</td>\n",
       "      <td>28351</td>\n",
       "      <td>Floors or flooring materials</td>\n",
       "    </tr>\n",
       "    <tr>\n",
       "      <th>2</th>\n",
       "      <td>4076</td>\n",
       "      <td>16784</td>\n",
       "      <td>Beds or bedframes</td>\n",
       "    </tr>\n",
       "    <tr>\n",
       "      <th>3</th>\n",
       "      <td>1205</td>\n",
       "      <td>14147</td>\n",
       "      <td>Basketball</td>\n",
       "    </tr>\n",
       "    <tr>\n",
       "      <th>4</th>\n",
       "      <td>5040</td>\n",
       "      <td>12787</td>\n",
       "      <td>Bicycles or accessories</td>\n",
       "    </tr>\n",
       "  </tbody>\n",
       "</table>\n",
       "</div>"
      ],
      "text/plain": [
       "  product_key  total_injuries                   description\n",
       "0        1842           28712               Stairs or steps\n",
       "1        1807           28351  Floors or flooring materials\n",
       "2        4076           16784             Beds or bedframes\n",
       "3        1205           14147                    Basketball\n",
       "4        5040           12787       Bicycles or accessories"
      ]
     },
     "execution_count": 168,
     "metadata": {},
     "output_type": "execute_result"
    }
   ],
   "source": [
    "#renaming columns in df3\n",
    "df3.columns = ['product_key', 'total_injuries','description'] \n",
    "df3.head(5)"
   ]
  },
  {
   "cell_type": "markdown",
   "metadata": {},
   "source": [
    "#could add as a % of total reported injuries column\n",
    "#box and whisker of top 10 issues cut by age distribution\n",
    "#most common age agnostic of product\n",
    "#male v. female agnostic of product"
   ]
  },
  {
   "cell_type": "code",
   "execution_count": 102,
   "metadata": {
    "collapsed": false
   },
   "outputs": [
    {
     "data": {
      "text/html": [
       "<div>\n",
       "<table border=\"1\" class=\"dataframe\">\n",
       "  <thead>\n",
       "    <tr style=\"text-align: right;\">\n",
       "      <th></th>\n",
       "      <th>description</th>\n",
       "      <th>total_injuries</th>\n",
       "    </tr>\n",
       "  </thead>\n",
       "  <tbody>\n",
       "    <tr>\n",
       "      <th>0</th>\n",
       "      <td>Stairs or steps</td>\n",
       "      <td>28712</td>\n",
       "    </tr>\n",
       "    <tr>\n",
       "      <th>1</th>\n",
       "      <td>Floors or flooring materials</td>\n",
       "      <td>28351</td>\n",
       "    </tr>\n",
       "    <tr>\n",
       "      <th>2</th>\n",
       "      <td>Beds or bedframes</td>\n",
       "      <td>16784</td>\n",
       "    </tr>\n",
       "    <tr>\n",
       "      <th>3</th>\n",
       "      <td>Basketball</td>\n",
       "      <td>14147</td>\n",
       "    </tr>\n",
       "    <tr>\n",
       "      <th>4</th>\n",
       "      <td>Bicycles or accessories</td>\n",
       "      <td>12787</td>\n",
       "    </tr>\n",
       "    <tr>\n",
       "      <th>5</th>\n",
       "      <td>Football</td>\n",
       "      <td>11664</td>\n",
       "    </tr>\n",
       "    <tr>\n",
       "      <th>6</th>\n",
       "      <td>Chairs</td>\n",
       "      <td>8271</td>\n",
       "    </tr>\n",
       "    <tr>\n",
       "      <th>7</th>\n",
       "      <td>Ceilings and walls</td>\n",
       "      <td>7783</td>\n",
       "    </tr>\n",
       "    <tr>\n",
       "      <th>8</th>\n",
       "      <td>Doors</td>\n",
       "      <td>7723</td>\n",
       "    </tr>\n",
       "    <tr>\n",
       "      <th>9</th>\n",
       "      <td>Tables</td>\n",
       "      <td>7354</td>\n",
       "    </tr>\n",
       "  </tbody>\n",
       "</table>\n",
       "</div>"
      ],
      "text/plain": [
       "                    description  total_injuries\n",
       "0               Stairs or steps           28712\n",
       "1  Floors or flooring materials           28351\n",
       "2             Beds or bedframes           16784\n",
       "3                    Basketball           14147\n",
       "4       Bicycles or accessories           12787\n",
       "5                      Football           11664\n",
       "6                        Chairs            8271\n",
       "7            Ceilings and walls            7783\n",
       "8                         Doors            7723\n",
       "9                        Tables            7354"
      ]
     },
     "execution_count": 102,
     "metadata": {},
     "output_type": "execute_result"
    }
   ],
   "source": [
    "#setting up top 10\n",
    "df4 = df3[[2,1]].head(10)\n",
    "df4.head(11)"
   ]
  },
  {
   "cell_type": "code",
   "execution_count": 103,
   "metadata": {
    "collapsed": false
   },
   "outputs": [
    {
     "data": {
      "text/html": [
       "<iframe id=\"igraph\" scrolling=\"no\" style=\"border:none;\" seamless=\"seamless\" src=\"https://plot.ly/~erikrood/43.embed\" height=\"525px\" width=\"100%\"></iframe>"
      ],
      "text/plain": [
       "<plotly.tools.PlotlyDisplay object>"
      ]
     },
     "execution_count": 103,
     "metadata": {},
     "output_type": "execute_result"
    }
   ],
   "source": [
    "#top 10 overall\n",
    "\n",
    "x = df4['description']\n",
    "y = df4['total_injuries']\n",
    "\n",
    "data = [\n",
    "    go.Bar(\n",
    "        x=x,\n",
    "        y=y,\n",
    "        \n",
    "        marker=dict(\n",
    "            color='rgb(255, 217, 102)',\n",
    "            line=dict(\n",
    "                color='rgb(8,48,107)',\n",
    "                width=1.5\n",
    "            ),\n",
    "        ),\n",
    "        opacity=0.6\n",
    "    )\n",
    "]\n",
    "layout = go.Layout(\n",
    "      title='top U.S. consumer product injuries by type',\n",
    "    xaxis=dict(\n",
    "        title='product type',\n",
    "        tickangle = 47,\n",
    "    ),\n",
    "    yaxis=dict(\n",
    "        title='total injuries'\n",
    "    ),\n",
    "     margin=go.Margin(\n",
    "        b = 220\n",
    "        \n",
    "    )\n",
    "\n",
    "    \n",
    ")\n",
    "fig = go.Figure(data=data, layout=layout)\n",
    "py.iplot(fig, filename='top10_productinjuries')"
   ]
  },
  {
   "cell_type": "code",
   "execution_count": null,
   "metadata": {
    "collapsed": false
   },
   "outputs": [],
   "source": [
    "#box and whisker of top 10 issues cut by age distribution\n",
    "#setting up y values for box plot (step 0), loading in the data I want\n",
    "df5 = df[[2,0]]\n",
    "#ensuring same data type for merge\n",
    "df5[['prod1']] = df5[['prod1']].astype(str)\n",
    "\n",
    "df5 = df5[(df5['age'] <= 100)].reset_index()\n",
    "df5.drop('index', axis=1, inplace=True)\n",
    "#need to do this prior to performing the join\n",
    "#df7 = df5.groupby('prod1')\n",
    "#df7.head()"
   ]
  },
  {
   "cell_type": "code",
   "execution_count": null,
   "metadata": {
    "collapsed": false
   },
   "outputs": [],
   "source": [
    "df6 = df5.merge(NEISS_key, how='left', on=\"prod1\")\n",
    "df6.head(10)"
   ]
  },
  {
   "cell_type": "code",
   "execution_count": 171,
   "metadata": {
    "collapsed": false
   },
   "outputs": [
    {
     "data": {
      "text/html": [
       "<div>\n",
       "<table border=\"1\" class=\"dataframe\">\n",
       "  <thead>\n",
       "    <tr style=\"text-align: right;\">\n",
       "      <th></th>\n",
       "      <th>Description</th>\n",
       "      <th>age</th>\n",
       "    </tr>\n",
       "  </thead>\n",
       "  <tbody>\n",
       "    <tr>\n",
       "      <th>0</th>\n",
       "      <td>Soccer</td>\n",
       "      <td>5.0</td>\n",
       "    </tr>\n",
       "    <tr>\n",
       "      <th>1</th>\n",
       "      <td>Lawn mowers, not specified 74-- 74--</td>\n",
       "      <td>36.0</td>\n",
       "    </tr>\n",
       "    <tr>\n",
       "      <th>2</th>\n",
       "      <td>Swimming (activity, apparel or equipment;</td>\n",
       "      <td>20.0</td>\n",
       "    </tr>\n",
       "    <tr>\n",
       "      <th>3</th>\n",
       "      <td>Bathtubs or showers</td>\n",
       "      <td>61.0</td>\n",
       "    </tr>\n",
       "    <tr>\n",
       "      <th>4</th>\n",
       "      <td>Doors</td>\n",
       "      <td>88.0</td>\n",
       "    </tr>\n",
       "  </tbody>\n",
       "</table>\n",
       "</div>"
      ],
      "text/plain": [
       "                                 Description   age\n",
       "0                                     Soccer   5.0\n",
       "1       Lawn mowers, not specified 74-- 74--  36.0\n",
       "2  Swimming (activity, apparel or equipment;  20.0\n",
       "3                        Bathtubs or showers  61.0\n",
       "4                                      Doors  88.0"
      ]
     },
     "execution_count": 171,
     "metadata": {},
     "output_type": "execute_result"
    }
   ],
   "source": [
    "product_injuries_age = df6[[2,1]]\n",
    "product_injuries_age[['age']] = product_injuries_age[['age']].astype(float)\n",
    "product_injuries_age.head()"
   ]
  },
  {
   "cell_type": "code",
   "execution_count": 114,
   "metadata": {
    "collapsed": false
   },
   "outputs": [
    {
     "data": {
      "text/plain": [
       "{'Basketball',\n",
       " 'Beds or bedframes',\n",
       " 'Bicycles or accessories',\n",
       " 'Ceilings and walls',\n",
       " 'Chairs',\n",
       " 'Doors',\n",
       " 'Floors or flooring materials',\n",
       " 'Football',\n",
       " 'Stairs or steps',\n",
       " 'Tables'}"
      ]
     },
     "execution_count": 114,
     "metadata": {},
     "output_type": "execute_result"
    }
   ],
   "source": [
    "#setting up x variables for box plot\n",
    "x_data1 = {'Stairs or steps','Floors or flooring materials','Beds or bedframes','Basketball',\\\n",
    "         'Bicycles or accessories', 'Football','Chairs',\\\n",
    "          'Ceilings and walls','Doors','Tables'}\n",
    "x_data1"
   ]
  },
  {
   "cell_type": "code",
   "execution_count": 120,
   "metadata": {
    "collapsed": true
   },
   "outputs": [],
   "source": [
    "#setting up y values for box plot (step 1)\n",
    "product_injuries_age_bball = product_injuries_age[product_injuries_age['Description'] == 'Basketball'].copy()\n",
    "Basketball = product_injuries_age_bball[['age']].copy()\n",
    "\n",
    "product_injuries_age_bed = product_injuries_age[product_injuries_age['Description']== 'Beds or bedframes'].copy()\n",
    "Beds = product_injuries_age_bed[['age']].copy()\n",
    "\n",
    "product_injuries_age_bike = product_injuries_age[product_injuries_age['Description'] == 'Bicycles or accessories'].copy()\n",
    "Bicycles = product_injuries_age_bike[['age']].copy()\n",
    "\n",
    "product_injuries_age_ceiling = product_injuries_age[product_injuries_age['Description'] == 'Ceilings and walls'].copy()\n",
    "Ceilings = product_injuries_age_ceiling[['age']].copy()\n",
    "\n",
    "product_injuries_age_chair = product_injuries_age[product_injuries_age['Description'] == 'Chairs'].copy()\n",
    "Chairs = product_injuries_age_chair[['age']].copy()\n",
    "\n",
    "product_injuries_age_door = product_injuries_age[product_injuries_age['Description'] == 'Doors'].copy()\n",
    "Doors = product_injuries_age_door[['age']].copy()\n",
    "\n",
    "product_injuries_age_floor = product_injuries_age[product_injuries_age['Description'] == 'Floors or flooring materials'].copy()\n",
    "Floors = product_injuries_age_floor[['age']].copy()\n",
    "\n",
    "product_injuries_age_football = product_injuries_age[product_injuries_age['Description'] == 'Football'].copy()\n",
    "Football = product_injuries_age_football[['age']].copy()\n",
    "\n",
    "product_injuries_age_stairs = product_injuries_age[product_injuries_age['Description'] == 'Stairs or steps'].copy()\n",
    "Stairs = product_injuries_age_stairs[['age']].copy()\n",
    "\n",
    "product_injuries_age_tables = product_injuries_age[product_injuries_age['Description'] == 'Tables'].copy()\n",
    "Tables = product_injuries_age_tables[['age']].copy()"
   ]
  },
  {
   "cell_type": "code",
   "execution_count": 131,
   "metadata": {
    "collapsed": false
   },
   "outputs": [],
   "source": [
    "#setting up y values for box plot (step 2)\n",
    "y_data = [\n",
    "    Bicycles.values,\n",
    "    Tables.values,\n",
    "    Basketball.values,\n",
    "    Chairs.values,\n",
    "    Football.values,\n",
    "    Floors.values,\n",
    "    Ceilings.values,\n",
    "    Stairs.values,\n",
    "    Doors.values,\n",
    "    Beds.values\n",
    "\n",
    "]"
   ]
  },
  {
   "cell_type": "code",
   "execution_count": 133,
   "metadata": {
    "collapsed": false
   },
   "outputs": [
    {
     "data": {
      "text/html": [
       "<iframe id=\"igraph\" scrolling=\"no\" style=\"border:none;\" seamless=\"seamless\" src=\"https://plot.ly/~erikrood/45.embed\" height=\"650px\" width=\"800px\"></iframe>"
      ],
      "text/plain": [
       "<plotly.tools.PlotlyDisplay object>"
      ]
     },
     "execution_count": 133,
     "metadata": {},
     "output_type": "execute_result"
    }
   ],
   "source": [
    "#putting together the box plot\n",
    "traces = []\n",
    "for xd, yd in zip(x_data1, y_data):\n",
    "        traces.append(go.Box(\n",
    "            y=yd,\n",
    "            name=xd,\n",
    "            #boxpoints='all',\n",
    "            #jitter=0.5,\n",
    "            whiskerwidth=0.2,\n",
    "            marker=dict(\n",
    "                size=2,\n",
    "            ),\n",
    "            line=dict(width=1),\n",
    "        ))\n",
    "\n",
    "layout = go.Layout(\n",
    "    title='injury distribution by age',\n",
    "    yaxis=dict(\n",
    "        range=[0, 110],\n",
    "        showgrid=True,\n",
    "        zeroline=True,\n",
    "        #dtick=5,\n",
    "        gridcolor='rgb(255, 255, 255)',\n",
    "        gridwidth=1,\n",
    "        zerolinecolor='rgb(255, 255, 255)',\n",
    "        zerolinewidth=2,\n",
    "    ),\n",
    "    margin=go.Margin(\n",
    "        l=50,\n",
    "        r=90,\n",
    "        b=200,\n",
    "        t=60,\n",
    "        pad=4\n",
    "    ),\n",
    "    width=800,\n",
    "    height=650,\n",
    "    showlegend=False\n",
    ")\n",
    "\n",
    "    \n",
    "fig = go.Figure(data=traces, layout=layout)\n",
    "py.iplot(fig, filename = 'injury_age_distribution')\n"
   ]
  },
  {
   "cell_type": "code",
   "execution_count": 129,
   "metadata": {
    "collapsed": false
   },
   "outputs": [
    {
     "data": {
      "text/html": [
       "<div>\n",
       "<table border=\"1\" class=\"dataframe\">\n",
       "  <thead>\n",
       "    <tr style=\"text-align: right;\">\n",
       "      <th></th>\n",
       "      <th>Description</th>\n",
       "      <th>age</th>\n",
       "    </tr>\n",
       "  </thead>\n",
       "  <tbody>\n",
       "    <tr>\n",
       "      <th>700</th>\n",
       "      <td>Tables</td>\n",
       "      <td>17.0</td>\n",
       "    </tr>\n",
       "  </tbody>\n",
       "</table>\n",
       "</div>"
      ],
      "text/plain": [
       "    Description   age\n",
       "700      Tables  17.0"
      ]
     },
     "execution_count": 129,
     "metadata": {},
     "output_type": "execute_result"
    }
   ],
   "source": [
    "product_injuries_age_mean = product_injuries_age.groupby('Description').median().round(decimals=0).reset_index()\n",
    "product_injuries_age_mean_tables = product_injuries_age_mean[product_injuries_age_mean.Description == 'Tables']\n",
    "#df = df[df.Clean_launch_year != 'None']\n",
    "product_injuries_age_mean_tables.head()"
   ]
  },
  {
   "cell_type": "code",
   "execution_count": 172,
   "metadata": {
    "collapsed": false
   },
   "outputs": [],
   "source": [
    "df6[['age']] = df6[['age']].astype(float)\n",
    "df_18under = df6[(df6['age'] <= 18)].reset_index()\n",
    "df_19_40 = df6[(df6['age'] <= 40) & (df6['age'] >=19)].reset_index()\n",
    "df_41_65 = df6[(df6['age'] <= 65) & (df6['age'] >=41)].reset_index()\n",
    "df_65over = df6[(df6['age'] >= 65)].reset_index()\n",
    "\n",
    "df_18under.drop('index', axis=1, inplace=True)\n",
    "df_19_40.drop('index', axis=1, inplace=True)\n",
    "df_41_65.drop('index', axis=1, inplace=True)\n",
    "df_65over.drop('index', axis=1, inplace=True)\n"
   ]
  },
  {
   "cell_type": "code",
   "execution_count": 173,
   "metadata": {
    "collapsed": false
   },
   "outputs": [
    {
     "data": {
      "text/html": [
       "<div>\n",
       "<table border=\"1\" class=\"dataframe\">\n",
       "  <thead>\n",
       "    <tr style=\"text-align: right;\">\n",
       "      <th></th>\n",
       "      <th>prod1</th>\n",
       "      <th>age</th>\n",
       "      <th>Description</th>\n",
       "    </tr>\n",
       "  </thead>\n",
       "  <tbody>\n",
       "    <tr>\n",
       "      <th>0</th>\n",
       "      <td>1267</td>\n",
       "      <td>5.0</td>\n",
       "      <td>Soccer</td>\n",
       "    </tr>\n",
       "    <tr>\n",
       "      <th>1</th>\n",
       "      <td>3274</td>\n",
       "      <td>11.0</td>\n",
       "      <td>Swimming (activity, apparel or equipment;</td>\n",
       "    </tr>\n",
       "    <tr>\n",
       "      <th>2</th>\n",
       "      <td>380</td>\n",
       "      <td>2.0</td>\n",
       "      <td>Fans 83-- 83-- Combines 0111, 0344 &amp; 0359</td>\n",
       "    </tr>\n",
       "    <tr>\n",
       "      <th>3</th>\n",
       "      <td>5036</td>\n",
       "      <td>16.0</td>\n",
       "      <td>Two-wheeled, powered, off-road vehicles (incl.</td>\n",
       "    </tr>\n",
       "    <tr>\n",
       "      <th>4</th>\n",
       "      <td>1329</td>\n",
       "      <td>7.0</td>\n",
       "      <td>Scooters, unpowered 72-- 72--</td>\n",
       "    </tr>\n",
       "  </tbody>\n",
       "</table>\n",
       "</div>"
      ],
      "text/plain": [
       "  prod1   age                                     Description\n",
       "0  1267   5.0                                          Soccer\n",
       "1  3274  11.0       Swimming (activity, apparel or equipment;\n",
       "2   380   2.0       Fans 83-- 83-- Combines 0111, 0344 & 0359\n",
       "3  5036  16.0  Two-wheeled, powered, off-road vehicles (incl.\n",
       "4  1329   7.0                   Scooters, unpowered 72-- 72--"
      ]
     },
     "execution_count": 173,
     "metadata": {},
     "output_type": "execute_result"
    }
   ],
   "source": [
    "df_18under.head()"
   ]
  },
  {
   "cell_type": "code",
   "execution_count": 174,
   "metadata": {
    "collapsed": false
   },
   "outputs": [
    {
     "data": {
      "text/html": [
       "<div>\n",
       "<table border=\"1\" class=\"dataframe\">\n",
       "  <thead>\n",
       "    <tr style=\"text-align: right;\">\n",
       "      <th></th>\n",
       "      <th>Description</th>\n",
       "      <th>Total_injuries</th>\n",
       "    </tr>\n",
       "  </thead>\n",
       "  <tbody>\n",
       "    <tr>\n",
       "      <th>0</th>\n",
       "      <td>Football</td>\n",
       "      <td>9966</td>\n",
       "    </tr>\n",
       "    <tr>\n",
       "      <th>1</th>\n",
       "      <td>Basketball</td>\n",
       "      <td>9503</td>\n",
       "    </tr>\n",
       "    <tr>\n",
       "      <th>2</th>\n",
       "      <td>Bicycles or accessories</td>\n",
       "      <td>6165</td>\n",
       "    </tr>\n",
       "    <tr>\n",
       "      <th>3</th>\n",
       "      <td>Stairs or steps</td>\n",
       "      <td>5698</td>\n",
       "    </tr>\n",
       "    <tr>\n",
       "      <th>4</th>\n",
       "      <td>Soccer</td>\n",
       "      <td>5540</td>\n",
       "    </tr>\n",
       "  </tbody>\n",
       "</table>\n",
       "</div>"
      ],
      "text/plain": [
       "               Description  Total_injuries\n",
       "0                 Football            9966\n",
       "1               Basketball            9503\n",
       "2  Bicycles or accessories            6165\n",
       "3          Stairs or steps            5698\n",
       "4                   Soccer            5540"
      ]
     },
     "execution_count": 174,
     "metadata": {},
     "output_type": "execute_result"
    }
   ],
   "source": [
    "df_18under1 = df_18under.groupby('Description').count().sort_values(by='age',ascending=False).round(decimals=0).reset_index()\n",
    "df_18under1 = df_18under1[[0,2]].head(10)\n",
    "df_18under1.columns = ['Description', 'Total_injuries'] \n",
    "df_18under1.head()"
   ]
  },
  {
   "cell_type": "code",
   "execution_count": 175,
   "metadata": {
    "collapsed": false
   },
   "outputs": [
    {
     "data": {
      "text/html": [
       "<div>\n",
       "<table border=\"1\" class=\"dataframe\">\n",
       "  <thead>\n",
       "    <tr style=\"text-align: right;\">\n",
       "      <th></th>\n",
       "      <th>Description</th>\n",
       "      <th>Total_injuries</th>\n",
       "    </tr>\n",
       "  </thead>\n",
       "  <tbody>\n",
       "    <tr>\n",
       "      <th>0</th>\n",
       "      <td>Stairs or steps</td>\n",
       "      <td>8586</td>\n",
       "    </tr>\n",
       "    <tr>\n",
       "      <th>1</th>\n",
       "      <td>Floors or flooring materials</td>\n",
       "      <td>6267</td>\n",
       "    </tr>\n",
       "    <tr>\n",
       "      <th>2</th>\n",
       "      <td>Bicycles or accessories</td>\n",
       "      <td>2730</td>\n",
       "    </tr>\n",
       "    <tr>\n",
       "      <th>3</th>\n",
       "      <td>Beds or bedframes</td>\n",
       "      <td>2694</td>\n",
       "    </tr>\n",
       "    <tr>\n",
       "      <th>4</th>\n",
       "      <td>Bathtubs or showers</td>\n",
       "      <td>2167</td>\n",
       "    </tr>\n",
       "  </tbody>\n",
       "</table>\n",
       "</div>"
      ],
      "text/plain": [
       "                    Description  Total_injuries\n",
       "0               Stairs or steps            8586\n",
       "1  Floors or flooring materials            6267\n",
       "2       Bicycles or accessories            2730\n",
       "3             Beds or bedframes            2694\n",
       "4           Bathtubs or showers            2167"
      ]
     },
     "execution_count": 175,
     "metadata": {},
     "output_type": "execute_result"
    }
   ],
   "source": [
    "df_41_651 = df_41_65.groupby('Description').count().sort_values(by='age',ascending=False).round(decimals=0).reset_index()\n",
    "df_41_651 = df_41_651[[0,2]].head(10)\n",
    "df_41_651.columns = ['Description', 'Total_injuries'] \n",
    "df_41_651.head()"
   ]
  },
  {
   "cell_type": "code",
   "execution_count": 176,
   "metadata": {
    "collapsed": false
   },
   "outputs": [
    {
     "data": {
      "text/html": [
       "<div>\n",
       "<table border=\"1\" class=\"dataframe\">\n",
       "  <thead>\n",
       "    <tr style=\"text-align: right;\">\n",
       "      <th></th>\n",
       "      <th>Description</th>\n",
       "      <th>Total_injuries</th>\n",
       "    </tr>\n",
       "  </thead>\n",
       "  <tbody>\n",
       "    <tr>\n",
       "      <th>0</th>\n",
       "      <td>Stairs or steps</td>\n",
       "      <td>8067</td>\n",
       "    </tr>\n",
       "    <tr>\n",
       "      <th>1</th>\n",
       "      <td>Basketball</td>\n",
       "      <td>4062</td>\n",
       "    </tr>\n",
       "    <tr>\n",
       "      <th>2</th>\n",
       "      <td>Knives</td>\n",
       "      <td>3529</td>\n",
       "    </tr>\n",
       "    <tr>\n",
       "      <th>3</th>\n",
       "      <td>Exercise</td>\n",
       "      <td>3451</td>\n",
       "    </tr>\n",
       "    <tr>\n",
       "      <th>4</th>\n",
       "      <td>Floors or flooring materials</td>\n",
       "      <td>3408</td>\n",
       "    </tr>\n",
       "  </tbody>\n",
       "</table>\n",
       "</div>"
      ],
      "text/plain": [
       "                    Description  Total_injuries\n",
       "0               Stairs or steps            8067\n",
       "1                    Basketball            4062\n",
       "2                        Knives            3529\n",
       "3                      Exercise            3451\n",
       "4  Floors or flooring materials            3408"
      ]
     },
     "execution_count": 176,
     "metadata": {},
     "output_type": "execute_result"
    }
   ],
   "source": [
    "df_19_401 = df_19_40.groupby('Description').count().sort_values(by='age',ascending=False).round(decimals=0).reset_index()\n",
    "df_19_401 = df_19_401[[0,2]].head(10)\n",
    "df_19_401.columns = ['Description', 'Total_injuries'] \n",
    "df_19_401.head()"
   ]
  },
  {
   "cell_type": "code",
   "execution_count": 177,
   "metadata": {
    "collapsed": false
   },
   "outputs": [
    {
     "data": {
      "text/html": [
       "<div>\n",
       "<table border=\"1\" class=\"dataframe\">\n",
       "  <thead>\n",
       "    <tr style=\"text-align: right;\">\n",
       "      <th></th>\n",
       "      <th>Description</th>\n",
       "      <th>Total_injuries</th>\n",
       "    </tr>\n",
       "  </thead>\n",
       "  <tbody>\n",
       "    <tr>\n",
       "      <th>0</th>\n",
       "      <td>Floors or flooring materials</td>\n",
       "      <td>12643</td>\n",
       "    </tr>\n",
       "    <tr>\n",
       "      <th>1</th>\n",
       "      <td>Beds or bedframes</td>\n",
       "      <td>5226</td>\n",
       "    </tr>\n",
       "    <tr>\n",
       "      <th>2</th>\n",
       "      <td>Stairs or steps</td>\n",
       "      <td>5129</td>\n",
       "    </tr>\n",
       "    <tr>\n",
       "      <th>3</th>\n",
       "      <td>Chairs</td>\n",
       "      <td>2574</td>\n",
       "    </tr>\n",
       "    <tr>\n",
       "      <th>4</th>\n",
       "      <td>Bathtubs or showers</td>\n",
       "      <td>1616</td>\n",
       "    </tr>\n",
       "  </tbody>\n",
       "</table>\n",
       "</div>"
      ],
      "text/plain": [
       "                    Description  Total_injuries\n",
       "0  Floors or flooring materials           12643\n",
       "1             Beds or bedframes            5226\n",
       "2               Stairs or steps            5129\n",
       "3                        Chairs            2574\n",
       "4           Bathtubs or showers            1616"
      ]
     },
     "execution_count": 177,
     "metadata": {},
     "output_type": "execute_result"
    }
   ],
   "source": [
    "df_65over1 = df_65over.groupby('Description').count().sort_values(by='age',ascending=False).round(decimals=0).reset_index()\n",
    "df_65over1 = df_65over1[[0,2]].head(10)\n",
    "df_65over1.columns = ['Description', 'Total_injuries'] \n",
    "df_65over1.head()"
   ]
  },
  {
   "cell_type": "code",
   "execution_count": 187,
   "metadata": {
    "collapsed": false
   },
   "outputs": [
    {
     "data": {
      "text/html": [
       "<iframe id=\"igraph\" scrolling=\"no\" style=\"border:none;\" seamless=\"seamless\" src=\"https://plot.ly/~erikrood/47.embed\" height=\"525px\" width=\"100%\"></iframe>"
      ],
      "text/plain": [
       "<plotly.tools.PlotlyDisplay object>"
      ]
     },
     "execution_count": 187,
     "metadata": {},
     "output_type": "execute_result"
    }
   ],
   "source": [
    "#top 10 overall\n",
    "\n",
    "x = df_18under1['Description']\n",
    "y = df_18under1['Total_injuries']\n",
    "\n",
    "data = [\n",
    "    go.Bar(\n",
    "        x=x,\n",
    "        y=y,\n",
    "        \n",
    "        marker=dict(\n",
    "            color='rgb(247, 135, 22)',\n",
    "            line=dict(\n",
    "                color='rgb(8,48,107)',\n",
    "                width=1.5\n",
    "            ),\n",
    "        ),\n",
    "        opacity=0.6\n",
    "    )\n",
    "]\n",
    "layout = go.Layout(\n",
    "      title='top U.S. consumer product injuries by type (18 and under)',\n",
    "    xaxis=dict(\n",
    "        title='description',\n",
    "        tickangle = 47,\n",
    "    ),\n",
    "    yaxis=dict(\n",
    "        title='total injuries'\n",
    "    ),\n",
    "     margin=go.Margin(\n",
    "        b = 220\n",
    "        \n",
    "    )\n",
    "\n",
    "    \n",
    ")\n",
    "fig = go.Figure(data=data, layout=layout)\n",
    "py.iplot(fig, filename='top10_productinjuries_18under')"
   ]
  },
  {
   "cell_type": "code",
   "execution_count": 186,
   "metadata": {
    "collapsed": false
   },
   "outputs": [
    {
     "data": {
      "text/html": [
       "<iframe id=\"igraph\" scrolling=\"no\" style=\"border:none;\" seamless=\"seamless\" src=\"https://plot.ly/~erikrood/49.embed\" height=\"525px\" width=\"100%\"></iframe>"
      ],
      "text/plain": [
       "<plotly.tools.PlotlyDisplay object>"
      ]
     },
     "execution_count": 186,
     "metadata": {},
     "output_type": "execute_result"
    }
   ],
   "source": [
    "\n",
    "#top 10 overall\n",
    "\n",
    "x = df_19_401['Description']\n",
    "y = df_19_401['Total_injuries']\n",
    "\n",
    "data = [\n",
    "    go.Bar(\n",
    "        x=x,\n",
    "        y=y,\n",
    "        \n",
    "        marker=dict(\n",
    "            color='rgb(84, 226, 129)',\n",
    "            line=dict(\n",
    "                color='rgb(8,48,107)',\n",
    "                width=1.5\n",
    "            ),\n",
    "        ),\n",
    "        opacity=0.6\n",
    "    )\n",
    "]\n",
    "layout = go.Layout(\n",
    "      title='top U.S. consumer product injuries by type (19 to 40 years old)',\n",
    "    xaxis=dict(\n",
    "        title='description',\n",
    "        tickangle = 47,\n",
    "    ),\n",
    "    yaxis=dict(\n",
    "        title='total injuries'\n",
    "    ),\n",
    "     margin=go.Margin(\n",
    "        b = 220\n",
    "        \n",
    "    )\n",
    "\n",
    "    \n",
    ")\n",
    "fig = go.Figure(data=data, layout=layout)\n",
    "py.iplot(fig, filename='top10_productinjuries_19to40')"
   ]
  },
  {
   "cell_type": "code",
   "execution_count": 185,
   "metadata": {
    "collapsed": false
   },
   "outputs": [
    {
     "data": {
      "text/html": [
       "<iframe id=\"igraph\" scrolling=\"no\" style=\"border:none;\" seamless=\"seamless\" src=\"https://plot.ly/~erikrood/51.embed\" height=\"525px\" width=\"100%\"></iframe>"
      ],
      "text/plain": [
       "<plotly.tools.PlotlyDisplay object>"
      ]
     },
     "execution_count": 185,
     "metadata": {},
     "output_type": "execute_result"
    }
   ],
   "source": [
    "\n",
    "\n",
    "#top 10 overall\n",
    "\n",
    "x = df_41_651['Description']\n",
    "y = df_41_651['Total_injuries']\n",
    "\n",
    "data = [\n",
    "    go.Bar(\n",
    "        x=x,\n",
    "        y=y,\n",
    "        \n",
    "        marker=dict(\n",
    "            color='rgb(178, 227, 250)',\n",
    "            line=dict(\n",
    "                color='rgb(8,48,107)',\n",
    "                width=1.5\n",
    "            ),\n",
    "        ),\n",
    "        opacity=0.6\n",
    "    )\n",
    "]\n",
    "layout = go.Layout(\n",
    "      title='top U.S. consumer product injuries by type (41 to 65 years old)',\n",
    "    xaxis=dict(\n",
    "        title='description',\n",
    "        tickangle = 47,\n",
    "    ),\n",
    "    yaxis=dict(\n",
    "        title='total injuries'\n",
    "    ),\n",
    "     margin=go.Margin(\n",
    "        b = 220\n",
    "        \n",
    "    )\n",
    "\n",
    "    \n",
    ")\n",
    "fig = go.Figure(data=data, layout=layout)\n",
    "py.iplot(fig, filename='top10_productinjuries_41to65')"
   ]
  },
  {
   "cell_type": "code",
   "execution_count": 184,
   "metadata": {
    "collapsed": false
   },
   "outputs": [
    {
     "data": {
      "text/html": [
       "<iframe id=\"igraph\" scrolling=\"no\" style=\"border:none;\" seamless=\"seamless\" src=\"https://plot.ly/~erikrood/53.embed\" height=\"525px\" width=\"100%\"></iframe>"
      ],
      "text/plain": [
       "<plotly.tools.PlotlyDisplay object>"
      ]
     },
     "execution_count": 184,
     "metadata": {},
     "output_type": "execute_result"
    }
   ],
   "source": [
    "\n",
    "\n",
    "#top 10 overall\n",
    "\n",
    "x = df_65over1['Description']\n",
    "y = df_65over1['Total_injuries']\n",
    "\n",
    "data = [\n",
    "    go.Bar(\n",
    "        x=x,\n",
    "        y=y,\n",
    "        \n",
    "        marker=dict(\n",
    "            color='rgba(0, 0, 0, 0.52)',\n",
    "            line=dict(\n",
    "                color='rgb(8,48,107)',\n",
    "                width=1.5\n",
    "            ),\n",
    "        ),\n",
    "        opacity=0.6\n",
    "    )\n",
    "]\n",
    "layout = go.Layout(\n",
    "      title='top U.S. consumer product injuries by type (>=65 years old)',\n",
    "    xaxis=dict(\n",
    "        title='description',\n",
    "        tickangle = 47,\n",
    "    ),\n",
    "    yaxis=dict(\n",
    "        title='total injuries'\n",
    "    ),\n",
    "     margin=go.Margin(\n",
    "        b = 220\n",
    "        \n",
    "    )\n",
    "\n",
    "    \n",
    ")\n",
    "fig = go.Figure(data=data, layout=layout)\n",
    "py.iplot(fig, filename='top10_productinjuries_over65')"
   ]
  },
  {
   "cell_type": "code",
   "execution_count": 190,
   "metadata": {
    "collapsed": false
   },
   "outputs": [
    {
     "data": {
      "text/html": [
       "<iframe id=\"igraph\" scrolling=\"no\" style=\"border:none;\" seamless=\"seamless\" src=\"https://plot.ly/~erikrood/55.embed\" height=\"525px\" width=\"100%\"></iframe>"
      ],
      "text/plain": [
       "<plotly.tools.PlotlyDisplay object>"
      ]
     },
     "execution_count": 190,
     "metadata": {},
     "output_type": "execute_result"
    }
   ],
   "source": [
    "#Creating a histogram of injuries by age\n",
    "x = df6['age']\n",
    "data = [\n",
    "    go.Histogram(\n",
    "        x=x,\n",
    "        marker=dict(\n",
    "        color='rgb(255, 217, 102)'\n",
    "    ),\n",
    "    opacity=.45\n",
    ")\n",
    "    ]\n",
    "\n",
    "layout = go.Layout(\n",
    "    title='Age distribution of injuries',\n",
    "    xaxis=dict(\n",
    "        title='Age bin'\n",
    "    ),\n",
    "    yaxis=dict(\n",
    "        title='total_injuries'\n",
    "    ))\n",
    "\n",
    "fig = dict(data=data, layout=layout)\n",
    "py.iplot(fig, filename='injury_histogram')"
   ]
  },
  {
   "cell_type": "code",
   "execution_count": 189,
   "metadata": {
    "collapsed": false
   },
   "outputs": [
    {
     "data": {
      "text/plain": [
       "346280"
      ]
     },
     "execution_count": 189,
     "metadata": {},
     "output_type": "execute_result"
    }
   ],
   "source": [
    "len(df6)"
   ]
  },
  {
   "cell_type": "code",
   "execution_count": 232,
   "metadata": {
    "collapsed": true
   },
   "outputs": [],
   "source": [
    "df_2to4 = df6[(df6['age'] <= 4)].reset_index()\n",
    "df_2to4.drop('index', axis=1, inplace=True)\n"
   ]
  },
  {
   "cell_type": "code",
   "execution_count": 233,
   "metadata": {
    "collapsed": false
   },
   "outputs": [
    {
     "data": {
      "text/html": [
       "<div>\n",
       "<table border=\"1\" class=\"dataframe\">\n",
       "  <thead>\n",
       "    <tr style=\"text-align: right;\">\n",
       "      <th></th>\n",
       "      <th>Description</th>\n",
       "      <th>Total_injuries</th>\n",
       "    </tr>\n",
       "  </thead>\n",
       "  <tbody>\n",
       "    <tr>\n",
       "      <th>0</th>\n",
       "      <td>Beds or bedframes</td>\n",
       "      <td>2365</td>\n",
       "    </tr>\n",
       "    <tr>\n",
       "      <th>1</th>\n",
       "      <td>Tables</td>\n",
       "      <td>1804</td>\n",
       "    </tr>\n",
       "    <tr>\n",
       "      <th>2</th>\n",
       "      <td>Stairs or steps</td>\n",
       "      <td>1645</td>\n",
       "    </tr>\n",
       "    <tr>\n",
       "      <th>3</th>\n",
       "      <td>Floors or flooring materials</td>\n",
       "      <td>1614</td>\n",
       "    </tr>\n",
       "    <tr>\n",
       "      <th>4</th>\n",
       "      <td>Sofas, couches, davenports, divans or studio</td>\n",
       "      <td>1246</td>\n",
       "    </tr>\n",
       "    <tr>\n",
       "      <th>5</th>\n",
       "      <td>Chairs</td>\n",
       "      <td>1184</td>\n",
       "    </tr>\n",
       "    <tr>\n",
       "      <th>6</th>\n",
       "      <td>Doors</td>\n",
       "      <td>1110</td>\n",
       "    </tr>\n",
       "    <tr>\n",
       "      <th>7</th>\n",
       "      <td>Jewelry (excluding watches) 72-- 72--</td>\n",
       "      <td>785</td>\n",
       "    </tr>\n",
       "    <tr>\n",
       "      <th>8</th>\n",
       "      <td>Ceilings and walls</td>\n",
       "      <td>688</td>\n",
       "    </tr>\n",
       "    <tr>\n",
       "      <th>9</th>\n",
       "      <td>Coins 95-- 95-- Previously included in code 1630.</td>\n",
       "      <td>625</td>\n",
       "    </tr>\n",
       "  </tbody>\n",
       "</table>\n",
       "</div>"
      ],
      "text/plain": [
       "                                         Description  Total_injuries\n",
       "0                                  Beds or bedframes            2365\n",
       "1                                             Tables            1804\n",
       "2                                    Stairs or steps            1645\n",
       "3                       Floors or flooring materials            1614\n",
       "4       Sofas, couches, davenports, divans or studio            1246\n",
       "5                                             Chairs            1184\n",
       "6                                              Doors            1110\n",
       "7              Jewelry (excluding watches) 72-- 72--             785\n",
       "8                                 Ceilings and walls             688\n",
       "9  Coins 95-- 95-- Previously included in code 1630.             625"
      ]
     },
     "execution_count": 233,
     "metadata": {},
     "output_type": "execute_result"
    }
   ],
   "source": [
    "#splitting out 2 to 4 year-olds since they have the highest injury counts\n",
    "df_2to41 = df_2to4.groupby('Description').count().sort_values(by='age',ascending=False).round(decimals=0).reset_index()\n",
    "df_2to41 = df_2to41[[0,2]].head(10)\n",
    "df_2to41.columns = ['Description', 'Total_injuries'] \n",
    "df_2to41.head(10)"
   ]
  },
  {
   "cell_type": "code",
   "execution_count": 205,
   "metadata": {
    "collapsed": false
   },
   "outputs": [
    {
     "data": {
      "text/html": [
       "<div>\n",
       "<table border=\"1\" class=\"dataframe\">\n",
       "  <thead>\n",
       "    <tr style=\"text-align: right;\">\n",
       "      <th></th>\n",
       "      <th>age</th>\n",
       "      <th>perc_of_population</th>\n",
       "    </tr>\n",
       "  </thead>\n",
       "  <tbody>\n",
       "    <tr>\n",
       "      <th>0</th>\n",
       "      <td>0.0</td>\n",
       "      <td>0.012775</td>\n",
       "    </tr>\n",
       "    <tr>\n",
       "      <th>1</th>\n",
       "      <td>1.0</td>\n",
       "      <td>0.012885</td>\n",
       "    </tr>\n",
       "    <tr>\n",
       "      <th>2</th>\n",
       "      <td>2.0</td>\n",
       "      <td>0.013270</td>\n",
       "    </tr>\n",
       "    <tr>\n",
       "      <th>3</th>\n",
       "      <td>3.0</td>\n",
       "      <td>0.013341</td>\n",
       "    </tr>\n",
       "    <tr>\n",
       "      <th>4</th>\n",
       "      <td>4.0</td>\n",
       "      <td>0.013160</td>\n",
       "    </tr>\n",
       "  </tbody>\n",
       "</table>\n",
       "</div>"
      ],
      "text/plain": [
       "   age  perc_of_population\n",
       "0  0.0            0.012775\n",
       "1  1.0            0.012885\n",
       "2  2.0            0.013270\n",
       "3  3.0            0.013341\n",
       "4  4.0            0.013160"
      ]
     },
     "execution_count": 205,
     "metadata": {},
     "output_type": "execute_result"
    }
   ],
   "source": [
    "#take groups % of total population, multiple the number of injuries * the % of total pop to normalize\n",
    "#reading in product key/description map\n",
    "Age_perc_pop = pandas.read_csv('/Users/erikrood/desktop/ipython_datasets/Age_perc_of_pop.csv') \n",
    "#ensuring prod1 is same data type as main table\n",
    "Age_perc_pop[['Age']] = Age_perc_pop[['Age']].astype(float)\n",
    "Age_perc_pop.columns = ['age', 'perc_of_population'] \n",
    "\n",
    "Age_perc_pop.head()"
   ]
  },
  {
   "cell_type": "code",
   "execution_count": 209,
   "metadata": {
    "collapsed": false
   },
   "outputs": [
    {
     "data": {
      "text/html": [
       "<div>\n",
       "<table border=\"1\" class=\"dataframe\">\n",
       "  <thead>\n",
       "    <tr style=\"text-align: right;\">\n",
       "      <th></th>\n",
       "      <th>age</th>\n",
       "      <th>total_injuries</th>\n",
       "      <th>perc_of_population</th>\n",
       "    </tr>\n",
       "  </thead>\n",
       "  <tbody>\n",
       "    <tr>\n",
       "      <th>0</th>\n",
       "      <td>0.0</td>\n",
       "      <td>37</td>\n",
       "      <td>0.012775</td>\n",
       "    </tr>\n",
       "    <tr>\n",
       "      <th>1</th>\n",
       "      <td>2.0</td>\n",
       "      <td>12830</td>\n",
       "      <td>0.013270</td>\n",
       "    </tr>\n",
       "    <tr>\n",
       "      <th>2</th>\n",
       "      <td>3.0</td>\n",
       "      <td>10793</td>\n",
       "      <td>0.013341</td>\n",
       "    </tr>\n",
       "    <tr>\n",
       "      <th>3</th>\n",
       "      <td>4.0</td>\n",
       "      <td>8663</td>\n",
       "      <td>0.013160</td>\n",
       "    </tr>\n",
       "    <tr>\n",
       "      <th>4</th>\n",
       "      <td>5.0</td>\n",
       "      <td>7851</td>\n",
       "      <td>0.013140</td>\n",
       "    </tr>\n",
       "  </tbody>\n",
       "</table>\n",
       "</div>"
      ],
      "text/plain": [
       "   age  total_injuries  perc_of_population\n",
       "0  0.0              37            0.012775\n",
       "1  2.0           12830            0.013270\n",
       "2  3.0           10793            0.013341\n",
       "3  4.0            8663            0.013160\n",
       "4  5.0            7851            0.013140"
      ]
     },
     "execution_count": 209,
     "metadata": {},
     "output_type": "execute_result"
    }
   ],
   "source": [
    "#normalizing age groups to account for u.s. population distribution \n",
    "age_data = df6[[1,2]]\n",
    "age_data = age_data.groupby('age').count().reset_index()\n",
    "normalized_age_data = age_data.merge(Age_perc_pop, how='left', on=\"age\")\n",
    "normalized_age_data.columns = ['age', 'total_injuries','perc_of_population'] \n",
    "normalized_age_data.head()"
   ]
  },
  {
   "cell_type": "code",
   "execution_count": 210,
   "metadata": {
    "collapsed": true
   },
   "outputs": [],
   "source": [
    "normalized_age_data['normalized'] = normalized_age_data['total_injuries']*normalized_age_data['perc_of_population']"
   ]
  },
  {
   "cell_type": "code",
   "execution_count": 216,
   "metadata": {
    "collapsed": false
   },
   "outputs": [],
   "source": [
    "normalized_age_data['normalized_perc'] = normalized_age_data['normalized']/normalized_age_data['normalized'].sum()"
   ]
  },
  {
   "cell_type": "code",
   "execution_count": 220,
   "metadata": {
    "collapsed": false
   },
   "outputs": [
    {
     "data": {
      "text/html": [
       "<iframe id=\"igraph\" scrolling=\"no\" style=\"border:none;\" seamless=\"seamless\" src=\"https://plot.ly/~erikrood/57.embed\" height=\"525px\" width=\"100%\"></iframe>"
      ],
      "text/plain": [
       "<plotly.tools.PlotlyDisplay object>"
      ]
     },
     "execution_count": 220,
     "metadata": {},
     "output_type": "execute_result"
    }
   ],
   "source": [
    "\n",
    "\n",
    "#top 10 overall\n",
    "\n",
    "x = normalized_age_data['age']\n",
    "y = normalized_age_data['normalized_perc']\n",
    "\n",
    "data = [\n",
    "    go.Bar(\n",
    "        x=x,\n",
    "        y=y,\n",
    "        \n",
    "        marker=dict(\n",
    "            color='rgb(13, 24, 67)',\n",
    "            line=dict(\n",
    "                color='rgb(8,48,107)',\n",
    "                width=1.5\n",
    "            ),\n",
    "        ),\n",
    "        opacity=0.6\n",
    "    )\n",
    "]\n",
    "layout = go.Layout(\n",
    "      title='consumer product injuries by age (normalized for population distribution)',\n",
    "    xaxis=dict(\n",
    "        title='age',\n",
    "        tickangle = 47,\n",
    "    ),\n",
    "    yaxis=dict(\n",
    "        title='percent of total injuries'\n",
    "    ),\n",
    "     margin=go.Margin(\n",
    "        b = 220\n",
    "        \n",
    "    )\n",
    "\n",
    "    \n",
    ")\n",
    "fig = go.Figure(data=data, layout=layout)\n",
    "py.iplot(fig, filename='top10_productinjuries_pop_dist_normalized')"
   ]
  },
  {
   "cell_type": "code",
   "execution_count": 218,
   "metadata": {
    "collapsed": false
   },
   "outputs": [
    {
     "data": {
      "text/plain": [
       "1.0000000000000004"
      ]
     },
     "execution_count": 218,
     "metadata": {},
     "output_type": "execute_result"
    }
   ],
   "source": [
    "normalized_age_data['normalized_perc'].sum()"
   ]
  },
  {
   "cell_type": "code",
   "execution_count": 221,
   "metadata": {
    "collapsed": false
   },
   "outputs": [
    {
     "data": {
      "text/html": [
       "<iframe id=\"igraph\" scrolling=\"no\" style=\"border:none;\" seamless=\"seamless\" src=\"https://plot.ly/~erikrood/59.embed\" height=\"525px\" width=\"100%\"></iframe>"
      ],
      "text/plain": [
       "<plotly.tools.PlotlyDisplay object>"
      ]
     },
     "execution_count": 221,
     "metadata": {},
     "output_type": "execute_result"
    }
   ],
   "source": [
    "\n",
    "\n",
    "#top 10 overall\n",
    "\n",
    "x = df_2to41['Description']\n",
    "y = df_2to41['Total_injuries']\n",
    "\n",
    "data = [\n",
    "    go.Bar(\n",
    "        x=x,\n",
    "        y=y,\n",
    "        \n",
    "        marker=dict(\n",
    "            color='rgb(17, 84, 37)',\n",
    "            line=dict(\n",
    "                color='rgb(8,48,107)',\n",
    "                width=1.5\n",
    "            ),\n",
    "        ),\n",
    "        opacity=0.6\n",
    "    )\n",
    "]\n",
    "layout = go.Layout(\n",
    "      title='top U.S. consumer product injuries by type (2 to 4 years old)',\n",
    "    xaxis=dict(\n",
    "        title='description',\n",
    "        tickangle = 47,\n",
    "    ),\n",
    "    yaxis=dict(\n",
    "        title='total injuries'\n",
    "    ),\n",
    "     margin=go.Margin(\n",
    "        b = 220\n",
    "        \n",
    "    )\n",
    "\n",
    "    \n",
    ")\n",
    "fig = go.Figure(data=data, layout=layout)\n",
    "py.iplot(fig, filename='top10_productinjuries_2to4')"
   ]
  },
  {
   "cell_type": "code",
   "execution_count": null,
   "metadata": {
    "collapsed": true
   },
   "outputs": [],
   "source": []
  }
 ],
 "metadata": {
  "kernelspec": {
   "display_name": "Python 2",
   "language": "python",
   "name": "python2"
  },
  "language_info": {
   "codemirror_mode": {
    "name": "ipython",
    "version": 2
   },
   "file_extension": ".py",
   "mimetype": "text/x-python",
   "name": "python",
   "nbconvert_exporter": "python",
   "pygments_lexer": "ipython2",
   "version": "2.7.11"
  }
 },
 "nbformat": 4,
 "nbformat_minor": 0
}
