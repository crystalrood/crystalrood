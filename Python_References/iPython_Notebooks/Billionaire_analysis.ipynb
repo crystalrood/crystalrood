{
 "cells": [
  {
   "cell_type": "code",
   "execution_count": 2,
   "metadata": {
    "collapsed": false
   },
   "outputs": [
    {
     "name": "stderr",
     "output_type": "stream",
     "text": [
      "//anaconda/lib/python2.7/site-packages/pandas/computation/__init__.py:19: UserWarning: The installed version of numexpr 2.4.4 is not supported in pandas and will be not be used\n",
      "\n",
      "  UserWarning)\n"
     ]
    }
   ],
   "source": [
    "%matplotlib inline\n",
    "import pandas as pd\n",
    "import numpy as np\n",
    "import string\n",
    "\n",
    "import plotly.plotly as py\n",
    "import plotly.graph_objs as go\n",
    "import cufflinks as cf\n",
    "py.sign_in('cwesno', 'd9j28z04oo')\n"
   ]
  },
  {
   "cell_type": "code",
   "execution_count": 3,
   "metadata": {
    "collapsed": false
   },
   "outputs": [],
   "source": [
    "df = pd.read_csv('/python/billionaire/billionaire_data.csv', low_memory = False)"
   ]
  },
  {
   "cell_type": "code",
   "execution_count": 1,
   "metadata": {
    "collapsed": false
   },
   "outputs": [
    {
     "ename": "NameError",
     "evalue": "name 'df' is not defined",
     "output_type": "error",
     "traceback": [
      "\u001b[0;31m---------------------------------------------------------------------------\u001b[0m",
      "\u001b[0;31mNameError\u001b[0m                                 Traceback (most recent call last)",
      "\u001b[0;32m<ipython-input-1-3eedae03ed5f>\u001b[0m in \u001b[0;36m<module>\u001b[0;34m()\u001b[0m\n\u001b[1;32m      5\u001b[0m \u001b[0;31m## self made vs inheriated box plot\u001b[0m\u001b[0;34m\u001b[0m\u001b[0;34m\u001b[0m\u001b[0m\n\u001b[1;32m      6\u001b[0m \u001b[0;31m## histogram of net worth for 2014\u001b[0m\u001b[0;34m\u001b[0m\u001b[0;34m\u001b[0m\u001b[0m\n\u001b[0;32m----> 7\u001b[0;31m \u001b[0mdf\u001b[0m\u001b[0;34m.\u001b[0m\u001b[0mhead\u001b[0m\u001b[0;34m(\u001b[0m\u001b[0;34m)\u001b[0m\u001b[0;34m\u001b[0m\u001b[0m\n\u001b[0m",
      "\u001b[0;31mNameError\u001b[0m: name 'df' is not defined"
     ]
    }
   ],
   "source": [
    "### analysis components\n",
    "## type of billionaire (inherited vs self-made) over time\n",
    "## box plot of net worth by industry\n",
    "## box plot of net worth by year\n",
    "## self made vs inheriated box plot\n",
    "## histogram of net worth for 2014\n",
    "df.head()"
   ]
  },
  {
   "cell_type": "code",
   "execution_count": 5,
   "metadata": {
    "collapsed": false
   },
   "outputs": [
    {
     "data": {
      "image/png": "[encoded data removed]",
      "text/plain": [
       "<matplotlib.figure.Figure at 0x1102dc050>"
      ]
     },
     "metadata": {},
     "output_type": "display_data"
    }
   ],
   "source": [
    "\n",
    "### type of billionaire (inherited vs self-made) over time\n",
    "\n",
    "#only selecting necessary columns to do analysis\n",
    "type_time = df[['year1', 'selfmade','name']].copy() \n",
    "\n",
    "#grouping before pivoting, counting up the names, and re_indexing\n",
    "type_time = type_time.groupby(['year1','selfmade']).count().reset_index() \n",
    "\n",
    "#rename columns\n",
    "type_time.columns = ['year1','type','count']\n",
    "\n",
    "#pivot the table\n",
    "type_time = type_time.pivot('year1', 'type', 'count')\n",
    "\n",
    "#add Y in front of year..convert to string\n",
    "#type_time['year_1'] = \"Y\" + type_time['year'].map(str)\n",
    "\n",
    "#plotting dis shit!!!\n",
    "myplot = type_time.plot.bar(stacked = True)\n"
   ]
  },
  {
   "cell_type": "code",
   "execution_count": 11,
   "metadata": {
    "collapsed": false
   },
   "outputs": [
    {
     "data": {
      "text/html": [
       "<iframe id=\"igraph\" scrolling=\"no\" style=\"border:none;\" seamless=\"seamless\" src=\"https://plot.ly/~cwesno/28.embed\" height=\"600px\" width=\"800px\"></iframe>"
      ],
      "text/plain": [
       "<plotly.tools.PlotlyDisplay object>"
      ]
     },
     "execution_count": 11,
     "metadata": {},
     "output_type": "execute_result"
    }
   ],
   "source": [
    "#time to make the plot above in using plot.ly graphs\n",
    "\n",
    "#good reference if i don't want to use cufflinks\n",
    "#py.iplot([{\n",
    "#    'x': type_time.index,\n",
    "#    'y': type_time[col],\n",
    "#    'name': col\n",
    "#}  for col in type_time.columns], filename='practice',)\n",
    "\n",
    "layout = go.Layout(\n",
    "    title = 'Total Billionaires in 1996, 2001, 2014',\n",
    "    barmode='stack',\n",
    "    bargap=.1,\n",
    "    autosize=False,\n",
    "    width=800,\n",
    "    height=600,\n",
    "    yaxis=dict(\n",
    "        title = 'Number of people'\n",
    "    ),\n",
    "    margin=go.Margin(\n",
    "        l=80,\n",
    "        r=80,\n",
    "        b=100,\n",
    "        t=100,\n",
    "        pad=2\n",
    "    ))\n",
    "    \n",
    "    \n",
    "#using cufflinks to derive data\n",
    "cf.set_config_file(offline=False, world_readable=True, theme='ggplot')\n",
    "\n",
    "#making the plot\n",
    "type_time.iplot(layout = layout, kind='bar',filename='num_billionaire_by_year')\n",
    "\n",
    "\n"
   ]
  },
  {
   "cell_type": "code",
   "execution_count": 128,
   "metadata": {
    "collapsed": false
   },
   "outputs": [
    {
     "data": {
      "text/html": [
       "<div>\n",
       "<table border=\"1\" class=\"dataframe\">\n",
       "  <thead>\n",
       "    <tr style=\"text-align: right;\">\n",
       "      <th></th>\n",
       "      <th>index</th>\n",
       "      <th>year1</th>\n",
       "      <th>industry</th>\n",
       "      <th>networthusbillion</th>\n",
       "    </tr>\n",
       "  </thead>\n",
       "  <tbody>\n",
       "    <tr>\n",
       "      <th>0</th>\n",
       "      <td>46</td>\n",
       "      <td>Y2014</td>\n",
       "      <td>Private equity/leveraged buyout</td>\n",
       "      <td>2.90</td>\n",
       "    </tr>\n",
       "    <tr>\n",
       "      <th>1</th>\n",
       "      <td>38</td>\n",
       "      <td>Y2014</td>\n",
       "      <td>Diversified financial</td>\n",
       "      <td>2.50</td>\n",
       "    </tr>\n",
       "    <tr>\n",
       "      <th>2</th>\n",
       "      <td>41</td>\n",
       "      <td>Y2014</td>\n",
       "      <td>Media</td>\n",
       "      <td>2.45</td>\n",
       "    </tr>\n",
       "    <tr>\n",
       "      <th>3</th>\n",
       "      <td>48</td>\n",
       "      <td>Y2014</td>\n",
       "      <td>Retail, Restaurant</td>\n",
       "      <td>2.45</td>\n",
       "    </tr>\n",
       "    <tr>\n",
       "      <th>4</th>\n",
       "      <td>37</td>\n",
       "      <td>Y2014</td>\n",
       "      <td>Consumer</td>\n",
       "      <td>2.40</td>\n",
       "    </tr>\n",
       "    <tr>\n",
       "      <th>5</th>\n",
       "      <td>49</td>\n",
       "      <td>Y2014</td>\n",
       "      <td>Technology-Computer</td>\n",
       "      <td>2.20</td>\n",
       "    </tr>\n",
       "    <tr>\n",
       "      <th>6</th>\n",
       "      <td>39</td>\n",
       "      <td>Y2014</td>\n",
       "      <td>Energy</td>\n",
       "      <td>2.10</td>\n",
       "    </tr>\n",
       "    <tr>\n",
       "      <th>7</th>\n",
       "      <td>45</td>\n",
       "      <td>Y2014</td>\n",
       "      <td>Other</td>\n",
       "      <td>2.10</td>\n",
       "    </tr>\n",
       "    <tr>\n",
       "      <th>8</th>\n",
       "      <td>43</td>\n",
       "      <td>Y2014</td>\n",
       "      <td>Money Management</td>\n",
       "      <td>2.05</td>\n",
       "    </tr>\n",
       "    <tr>\n",
       "      <th>9</th>\n",
       "      <td>47</td>\n",
       "      <td>Y2014</td>\n",
       "      <td>Real Estate</td>\n",
       "      <td>2.00</td>\n",
       "    </tr>\n",
       "  </tbody>\n",
       "</table>\n",
       "</div>"
      ],
      "text/plain": [
       "   index  year1                         industry  networthusbillion\n",
       "0     46  Y2014  Private equity/leveraged buyout               2.90\n",
       "1     38  Y2014            Diversified financial               2.50\n",
       "2     41  Y2014                            Media               2.45\n",
       "3     48  Y2014               Retail, Restaurant               2.45\n",
       "4     37  Y2014                         Consumer               2.40\n",
       "5     49  Y2014              Technology-Computer               2.20\n",
       "6     39  Y2014                           Energy               2.10\n",
       "7     45  Y2014                            Other               2.10\n",
       "8     43  Y2014                 Money Management               2.05\n",
       "9     47  Y2014                      Real Estate               2.00"
      ]
     },
     "execution_count": 128,
     "metadata": {},
     "output_type": "execute_result"
    }
   ],
   "source": [
    "## box plot of net worth by industry\n",
    "\n",
    "#only selecting necessary columns to do analysis\n",
    "industry_worth = df[['year1', 'industry','networthusbillion']].copy() \n",
    "\n",
    "#since i don't want to plot all industries, i'll plot top 10  industries and bottom 10 industries in 2014\n",
    "\n",
    "#getting the median salary by year and industry\n",
    "industry_worth = industry_worth.groupby(['year1', 'industry']).median().reset_index()\n",
    "\n",
    "#sorting to get the top 10 in 2014\n",
    "industry_worth = industry_worth[industry_worth['year1'] == \"Y2014\"]\n",
    "industry_worth.sort_values('networthusbillion', ascending=False, inplace=True)\n",
    "industry_worth.reset_index(inplace=True)\n",
    "industry_worth_top10 = industry_worth.head(10)\n",
    "\n",
    "industry_worth_top10\n"
   ]
  },
  {
   "cell_type": "code",
   "execution_count": 129,
   "metadata": {
    "collapsed": false
   },
   "outputs": [
    {
     "data": {
      "text/html": [
       "<div>\n",
       "<table border=\"1\" class=\"dataframe\">\n",
       "  <thead>\n",
       "    <tr style=\"text-align: right;\">\n",
       "      <th></th>\n",
       "      <th>year1</th>\n",
       "      <th>industry</th>\n",
       "      <th>networthusbillion</th>\n",
       "    </tr>\n",
       "  </thead>\n",
       "  <tbody>\n",
       "    <tr>\n",
       "      <th>0</th>\n",
       "      <td>Y2014</td>\n",
       "      <td>Mining and metals</td>\n",
       "      <td>1.70</td>\n",
       "    </tr>\n",
       "    <tr>\n",
       "      <th>1</th>\n",
       "      <td>Y2014</td>\n",
       "      <td>Constrution</td>\n",
       "      <td>1.80</td>\n",
       "    </tr>\n",
       "    <tr>\n",
       "      <th>2</th>\n",
       "      <td>Y2014</td>\n",
       "      <td>Technology-Medical</td>\n",
       "      <td>1.85</td>\n",
       "    </tr>\n",
       "    <tr>\n",
       "      <th>3</th>\n",
       "      <td>Y2014</td>\n",
       "      <td>Venture Capital</td>\n",
       "      <td>1.90</td>\n",
       "    </tr>\n",
       "    <tr>\n",
       "      <th>4</th>\n",
       "      <td>Y2014</td>\n",
       "      <td>Real Estate</td>\n",
       "      <td>2.00</td>\n",
       "    </tr>\n",
       "    <tr>\n",
       "      <th>5</th>\n",
       "      <td>Y2014</td>\n",
       "      <td>Hedge funds</td>\n",
       "      <td>2.00</td>\n",
       "    </tr>\n",
       "    <tr>\n",
       "      <th>6</th>\n",
       "      <td>Y2014</td>\n",
       "      <td>Non-consumer industrial</td>\n",
       "      <td>2.00</td>\n",
       "    </tr>\n",
       "    <tr>\n",
       "      <th>7</th>\n",
       "      <td>Y2014</td>\n",
       "      <td>Money Management</td>\n",
       "      <td>2.05</td>\n",
       "    </tr>\n",
       "    <tr>\n",
       "      <th>8</th>\n",
       "      <td>Y2014</td>\n",
       "      <td>Energy</td>\n",
       "      <td>2.10</td>\n",
       "    </tr>\n",
       "    <tr>\n",
       "      <th>9</th>\n",
       "      <td>Y2014</td>\n",
       "      <td>Other</td>\n",
       "      <td>2.10</td>\n",
       "    </tr>\n",
       "  </tbody>\n",
       "</table>\n",
       "</div>"
      ],
      "text/plain": [
       "   year1                 industry  networthusbillion\n",
       "0  Y2014        Mining and metals               1.70\n",
       "1  Y2014              Constrution               1.80\n",
       "2  Y2014       Technology-Medical               1.85\n",
       "3  Y2014          Venture Capital               1.90\n",
       "4  Y2014              Real Estate               2.00\n",
       "5  Y2014              Hedge funds               2.00\n",
       "6  Y2014  Non-consumer industrial               2.00\n",
       "7  Y2014         Money Management               2.05\n",
       "8  Y2014                   Energy               2.10\n",
       "9  Y2014                    Other               2.10"
      ]
     },
     "execution_count": 129,
     "metadata": {},
     "output_type": "execute_result"
    }
   ],
   "source": [
    "#sorting to get the bottom 10 in 2014\n",
    "\n",
    "industry_worth = industry_worth[industry_worth['year1'] == \"Y2014\"]\n",
    "industry_worth = industry_worth[industry_worth['industry'] <> \"0\"] #filter out the bad data\n",
    "industry_worth.sort_values('networthusbillion', ascending=True, inplace=True)\n",
    "industry_worth.reset_index(inplace=True)\n",
    "industry_worth_bottom10 = industry_worth.head(10)\n",
    "\n",
    "industry_worth_bottom10 = industry_worth_bottom10[['year1', 'industry','networthusbillion']]\n",
    "industry_worth_bottom10"
   ]
  },
  {
   "cell_type": "code",
   "execution_count": 209,
   "metadata": {
    "collapsed": false
   },
   "outputs": [
    {
     "data": {
      "text/plain": [
       "{'Consumer',\n",
       " 'Diversified financial',\n",
       " 'Energy',\n",
       " 'Media',\n",
       " 'Money Management',\n",
       " 'Other',\n",
       " 'Private equity/leveraged buyout',\n",
       " 'Real Estate',\n",
       " 'Retail, Restaurant',\n",
       " 'Technology-Computer'}"
      ]
     },
     "execution_count": 209,
     "metadata": {},
     "output_type": "execute_result"
    }
   ],
   "source": [
    "#declare dictionary with top 10\n",
    "x_data = {'Private equity/leveraged buyout','Diversified financial','Media', 'Retail, Restaurant',\\\n",
    "         'Consumer', 'Technology-Computer','Energy', 'Other','Money Management','Real Estate'}\n",
    "x_data"
   ]
  },
  {
   "cell_type": "code",
   "execution_count": 213,
   "metadata": {
    "collapsed": false
   },
   "outputs": [
    {
     "name": "stdout",
     "output_type": "stream",
     "text": [
      "Technology-Computer\n",
      "Media\n",
      "Energy\n",
      "Money Management\n",
      "Other\n",
      "Retail, Restaurant\n",
      "Real Estate\n",
      "Diversified financial\n",
      "Private equity/leveraged buyout\n",
      "Consumer\n"
     ]
    }
   ],
   "source": [
    "#learning how dictionaries work -- i can iterate through them! (:\n",
    "for industry in x_data:\n",
    "    print industry"
   ]
  },
  {
   "cell_type": "code",
   "execution_count": 254,
   "metadata": {
    "collapsed": false
   },
   "outputs": [],
   "source": [
    "#y_values = {}\n",
    "for industry in x_data:\n",
    "    del industry_worth_3\n",
    "    industry_worth_3 = df[['year1', 'industry','networthusbillion']].copy() \n",
    "    industry_worth_3 = industry_worth_3[industry_worth_3['year1'] == \"Y2014\"]\n",
    "    industry_worth_3 = industry_worth_3[industry_worth_3['industry'] == industry]\n",
    "    y_values[industry] = industry_worth_3[['networthusbillion']].values\n"
   ]
  },
  {
   "cell_type": "code",
   "execution_count": 332,
   "metadata": {
    "collapsed": false
   },
   "outputs": [
    {
     "data": {
      "text/html": [
       "<iframe id=\"igraph\" scrolling=\"no\" style=\"border:none;\" seamless=\"seamless\" src=\"https://plot.ly/~cwesno/30.embed\" height=\"400px\" width=\"800px\"></iframe>"
      ],
      "text/plain": [
       "<plotly.tools.PlotlyDisplay object>"
      ]
     },
     "execution_count": 332,
     "metadata": {},
     "output_type": "execute_result"
    }
   ],
   "source": [
    "y_data = [\n",
    "    y_values['Technology-Computer'],\n",
    "    y_values['Media'],\n",
    "    y_values['Energy'],\n",
    "    y_values['Money Management'],\n",
    "    y_values['Other'],\n",
    "    y_values['Retail, Restaurant'],\n",
    "    y_values['Real Estate'],\n",
    "    y_values['Diversified financial'],\n",
    "    y_values['Private equity/leveraged buyout'],\n",
    "    y_values['Consumer']\n",
    "    \n",
    "]\n",
    "x_data = ['Private Equity','Diversified Financial','Media', 'Retail/Restaurant',\\\n",
    "         'Consumer', 'Tech-Comp','Energy', 'Other','Money Mgmt','Real Estate']\n",
    "traces = []\n",
    "\n",
    "for xd, yd in zip(x_data, y_data):\n",
    "        traces.append(go.Box(\n",
    "            y=yd,\n",
    "            name=xd,\n",
    "            boxpoints='all',\n",
    "            jitter=0.5,\n",
    "            whiskerwidth=0.1,\n",
    "            marker=dict(\n",
    "                size=2,\n",
    "            ),\n",
    "            line=dict(width=1),\n",
    "        ))\n",
    "\n",
    "layout = go.Layout(\n",
    "    title='2014 Billionaire Top 10 Industries - Net Worth  Industry',\n",
    "    yaxis=dict(\n",
    "        range=[0, 10],\n",
    "        showgrid=True,\n",
    "        zeroline=True,\n",
    "        gridcolor='rgb(255, 255, 255)',\n",
    "        gridwidth=1,\n",
    "        zerolinecolor='rgb(255, 255, 255)',\n",
    "        zerolinewidth=2\n",
    "    ),\n",
    "    xaxis=dict(\n",
    "    #title='Industry',\n",
    "    titlefont=dict(\n",
    "        family='Courier New, monospace',\n",
    "        size=5,\n",
    "        color='#7f7f7f')\n",
    "    ),\n",
    "    margin=go.Margin(\n",
    "        l=50,\n",
    "        r=50,\n",
    "        b=60,\n",
    "        t=60,\n",
    "        pad=4\n",
    "    ),\n",
    "    width=800,\n",
    "    height=400,\n",
    "    showlegend=False\n",
    ")\n",
    "\n",
    "\n",
    "fig = go.Figure(data=traces, layout=layout)\n",
    "py.iplot(fig, filename = 'top10industries_networth_2014')"
   ]
  },
  {
   "cell_type": "code",
   "execution_count": 12,
   "metadata": {
    "collapsed": false
   },
   "outputs": [],
   "source": [
    "#### box plot of net worth by year\n",
    "\n",
    "\n",
    "#prepping data to get it all nice and clean\n",
    "year_worth = df[['year1', 'networthusbillion']].copy() \n",
    "year_worth1996 = year_worth[year_worth['year1'] == \"Y1996\"]\n",
    "year_worth2001 = year_worth[year_worth['year1'] == \"Y2001\"]\n",
    "year_worth2014 = year_worth[year_worth['year1'] == \"Y2014\"]\n",
    "y1996 = year_worth1996[['networthusbillion']].copy()\n",
    "y2001 = year_worth2001[['networthusbillion']].copy()\n",
    "y2014 = year_worth2014[['networthusbillion']].copy()\n",
    "\n",
    "#getting all the data into usable form\n",
    "x_data1 = ['Y1996', 'Y2001', 'Y2014']\n",
    "y_data1 = [\n",
    "    y1996.values,\n",
    "    y2001.values,\n",
    "    y2014.values\n",
    "]"
   ]
  },
  {
   "cell_type": "code",
   "execution_count": 13,
   "metadata": {
    "collapsed": false
   },
   "outputs": [
    {
     "data": {
      "text/html": [
       "<iframe id=\"igraph\" scrolling=\"no\" style=\"border:none;\" seamless=\"seamless\" src=\"https://plot.ly/~cwesno/32.embed\" height=\"500px\" width=\"800px\"></iframe>"
      ],
      "text/plain": [
       "<plotly.tools.PlotlyDisplay object>"
      ]
     },
     "execution_count": 13,
     "metadata": {},
     "output_type": "execute_result"
    }
   ],
   "source": [
    "traces = []\n",
    "for xd, yd in zip(x_data1, y_data1):\n",
    "        traces.append(go.Box(\n",
    "            y=yd,\n",
    "            name=xd,\n",
    "            boxpoints='all',\n",
    "            jitter=0.5,\n",
    "            whiskerwidth=0.2,\n",
    "            marker=dict(\n",
    "                size=2,\n",
    "            ),\n",
    "            line=dict(width=1),\n",
    "        ))\n",
    "\n",
    "layout = go.Layout(\n",
    "    title='Net Worth Distribution by Year',\n",
    "    yaxis=dict(\n",
    "        range=[0, 20],\n",
    "        showgrid=True,\n",
    "        zeroline=True,\n",
    "        #dtick=5,\n",
    "        gridcolor='rgb(255, 255, 255)',\n",
    "        gridwidth=1,\n",
    "        zerolinecolor='rgb(255, 255, 255)',\n",
    "        zerolinewidth=2,\n",
    "    ),\n",
    "    margin=go.Margin(\n",
    "        l=50,\n",
    "        r=50,\n",
    "        b=60,\n",
    "        t=60,\n",
    "        pad=4\n",
    "    ),\n",
    "    width=800,\n",
    "    height=500,\n",
    "    showlegend=False\n",
    ")\n",
    "\n",
    "    \n",
    "fig = go.Figure(data=traces, layout=layout)\n",
    "py.iplot(fig, filename = 'networth_by_year')\n"
   ]
  },
  {
   "cell_type": "code",
   "execution_count": 306,
   "metadata": {
    "collapsed": true
   },
   "outputs": [],
   "source": [
    "#### self made vs inheriated box plot\n",
    "\n",
    "#only selecting necessary columns to do analysis\n",
    "money_type = df[['selfmade','networthusbillion']].copy() \n",
    "\n",
    "\n",
    "self_made = money_type[money_type['selfmade'] == \"self-made\"]\n",
    "inherited = money_type[money_type['selfmade'] == \"inherited\"]\n",
    "self_made1 = self_made[['networthusbillion']].copy()\n",
    "inherited1 = inherited[['networthusbillion']].copy()\n",
    "\n",
    "\n",
    "#getting all the data into usable form\n",
    "x_data1 = ['self_made', 'inherited']\n",
    "y_data1 = [\n",
    "    self_made1.values,\n",
    "    inherited1.values\n",
    "]\n"
   ]
  },
  {
   "cell_type": "code",
   "execution_count": 335,
   "metadata": {
    "collapsed": false
   },
   "outputs": [
    {
     "data": {
      "text/html": [
       "<iframe id=\"igraph\" scrolling=\"no\" style=\"border:none;\" seamless=\"seamless\" src=\"https://plot.ly/~cwesno/34.embed\" height=\"500px\" width=\"800px\"></iframe>"
      ],
      "text/plain": [
       "<plotly.tools.PlotlyDisplay object>"
      ]
     },
     "execution_count": 335,
     "metadata": {},
     "output_type": "execute_result"
    }
   ],
   "source": [
    "traces = []\n",
    "for xd, yd in zip(x_data1, y_data1):\n",
    "        traces.append(go.Box(\n",
    "            y=yd,\n",
    "            name=xd,\n",
    "            boxpoints='all',\n",
    "            jitter=0.5,\n",
    "            whiskerwidth=0.2,\n",
    "            marker=dict(\n",
    "                size=2,\n",
    "            ),\n",
    "            line=dict(width=1),\n",
    "        ))\n",
    "\n",
    "layout = go.Layout(\n",
    "    title='Self-Made or Inherited',\n",
    "    yaxis=dict(\n",
    "        title = \"$ in billions\",\n",
    "        range=[0, 20],\n",
    "        showgrid=True,\n",
    "        zeroline=True,\n",
    "        #dtick=5,\n",
    "        gridcolor='rgb(255, 255, 255)',\n",
    "        gridwidth=1,\n",
    "        zerolinecolor='rgb(255, 255, 255)',\n",
    "        zerolinewidth=2,\n",
    "    ),\n",
    "    margin=go.Margin(\n",
    "        l=50,\n",
    "        r=50,\n",
    "        b=60,\n",
    "        t=60,\n",
    "        pad=4\n",
    "    ),\n",
    "    width=800,\n",
    "    height=500,\n",
    "    showlegend=False\n",
    ")\n",
    "\n",
    "    \n",
    "fig = go.Figure(data=traces, layout=layout)\n",
    "py.iplot(fig, filename = 'selfmade_box_whisker')\n"
   ]
  },
  {
   "cell_type": "code",
   "execution_count": 308,
   "metadata": {
    "collapsed": true
   },
   "outputs": [],
   "source": [
    "####histogram of net worth for 2014\n",
    "\n",
    "\n",
    "#prepping data to get it all nice and clean\n",
    "net_worth = df[['year1', 'networthusbillion']].copy() \n",
    "net_worth2014 = net_worth[net_worth['year1'] == \"Y2014\"]\n",
    "year_2014 = net_worth2014[['networthusbillion']].copy()\n",
    "\n"
   ]
  },
  {
   "cell_type": "code",
   "execution_count": 340,
   "metadata": {
    "collapsed": false
   },
   "outputs": [
    {
     "data": {
      "text/html": [
       "<iframe id=\"igraph\" scrolling=\"no\" style=\"border:none;\" seamless=\"seamless\" src=\"https://plot.ly/~cwesno/38.embed\" height=\"525px\" width=\"100%\"></iframe>"
      ],
      "text/plain": [
       "<plotly.tools.PlotlyDisplay object>"
      ]
     },
     "execution_count": 340,
     "metadata": {},
     "output_type": "execute_result"
    }
   ],
   "source": [
    "data_2 = [\n",
    "    go.Histogram(\n",
    "        x=year_2014.values,\n",
    "        opacity=0.50,\n",
    "        marker=dict(\n",
    "        color='BuPu',\n",
    "        line=dict(\n",
    "            color='grey',\n",
    "            width=0)\n",
    "        )\n",
    "    )\n",
    "]\n",
    "\n",
    "layout = go.Layout(\n",
    "    title = 'Distribution of Net Worth for 2014 Billionaires',\n",
    "    xaxis=dict(\n",
    "        range=[0, 40],\n",
    "        title = 'Net worth in billions'\n",
    "    ),\n",
    "    yaxis=dict(\n",
    "        title='Number of people')\n",
    ")\n",
    "fig = go.Figure(data=data_2, layout=layout)\n",
    "py.iplot(fig, filename='histogram_networth_2014')"
   ]
  }
 ],
 "metadata": {
  "celltoolbar": "Raw Cell Format",
  "kernelspec": {
   "display_name": "Python 2",
   "language": "python",
   "name": "python2"
  },
  "language_info": {
   "codemirror_mode": {
    "name": "ipython",
    "version": 2
   },
   "file_extension": ".py",
   "mimetype": "text/x-python",
   "name": "python",
   "nbconvert_exporter": "python",
   "pygments_lexer": "ipython2",
   "version": "2.7.11"
  }
 },
 "nbformat": 4,
 "nbformat_minor": 0
}
