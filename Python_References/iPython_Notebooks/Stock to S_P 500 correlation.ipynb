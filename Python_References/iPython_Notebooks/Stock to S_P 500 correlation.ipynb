{
 "cells": [
  {
   "cell_type": "code",
   "execution_count": 51,
   "metadata": {
    "collapsed": false
   },
   "outputs": [],
   "source": [
    "import datetime\n",
    "import pandas as pd\n",
    "from pandas import DataFrame\n",
    "from pandas.io.data import DataReader\n",
    "import matplotlib.pyplot as plt\n",
    "import seaborn\n",
    "import numpy as np"
   ]
  },
  {
   "cell_type": "code",
   "execution_count": 23,
   "metadata": {
    "collapsed": false
   },
   "outputs": [
    {
     "data": {
      "text/html": [
       "<div>\n",
       "<table border=\"1\" class=\"dataframe\">\n",
       "  <thead>\n",
       "    <tr style=\"text-align: right;\">\n",
       "      <th></th>\n",
       "      <th>Symbol</th>\n",
       "    </tr>\n",
       "  </thead>\n",
       "  <tbody>\n",
       "    <tr>\n",
       "      <th>0</th>\n",
       "      <td>MMM</td>\n",
       "    </tr>\n",
       "    <tr>\n",
       "      <th>1</th>\n",
       "      <td>ABT</td>\n",
       "    </tr>\n",
       "    <tr>\n",
       "      <th>2</th>\n",
       "      <td>ABBV</td>\n",
       "    </tr>\n",
       "    <tr>\n",
       "      <th>3</th>\n",
       "      <td>ACN</td>\n",
       "    </tr>\n",
       "    <tr>\n",
       "      <th>4</th>\n",
       "      <td>ATVI</td>\n",
       "    </tr>\n",
       "  </tbody>\n",
       "</table>\n",
       "</div>"
      ],
      "text/plain": [
       "  Symbol\n",
       "0    MMM\n",
       "1    ABT\n",
       "2   ABBV\n",
       "3    ACN\n",
       "4   ATVI"
      ]
     },
     "execution_count": 23,
     "metadata": {},
     "output_type": "execute_result"
    }
   ],
   "source": [
    "symbols = pd.read_csv('/Users/erikrood/desktop/ipython_datasets/sp_symbols.csv')"
   ]
  },
  {
   "cell_type": "code",
   "execution_count": 24,
   "metadata": {
    "collapsed": true
   },
   "outputs": [],
   "source": [
    "#converting from df to list i.e. symbols = ['symbol1', 'symbol2', 'etc']\n",
    "symbols_list = symbols[\"Symbol\"].tolist()"
   ]
  },
  {
   "cell_type": "code",
   "execution_count": 25,
   "metadata": {
    "collapsed": false
   },
   "outputs": [
    {
     "data": {
      "text/plain": [
       "503"
      ]
     },
     "execution_count": 25,
     "metadata": {},
     "output_type": "execute_result"
    }
   ],
   "source": [
    "#checking length\n",
    "len(symbols_list)"
   ]
  },
  {
   "cell_type": "code",
   "execution_count": 26,
   "metadata": {
    "collapsed": false
   },
   "outputs": [],
   "source": [
    "#reading in symbols list (csv -> df -> list)\n",
    "symbols=[]\n",
    "#reading in yahoo data\n",
    "for ticker in symbols_list: \n",
    "    r = DataReader(ticker, \"yahoo\", \n",
    "                   start=datetime.datetime(2015, 8, 10))\n",
    "    # add a symbol column\n",
    "    r['Symbol'] = ticker \n",
    "    symbols.append(r)\n",
    "    \n",
    "# concatenate all the dfs\n",
    "df = pd.concat(symbols)\n"
   ]
  },
  {
   "cell_type": "code",
   "execution_count": 28,
   "metadata": {
    "collapsed": false
   },
   "outputs": [
    {
     "data": {
      "text/html": [
       "<div>\n",
       "<table border=\"1\" class=\"dataframe\">\n",
       "  <thead>\n",
       "    <tr style=\"text-align: right;\">\n",
       "      <th></th>\n",
       "      <th>Date</th>\n",
       "      <th>Open</th>\n",
       "      <th>High</th>\n",
       "      <th>Low</th>\n",
       "      <th>Close</th>\n",
       "      <th>Volume</th>\n",
       "      <th>Adj Close</th>\n",
       "      <th>Symbol</th>\n",
       "    </tr>\n",
       "  </thead>\n",
       "  <tbody>\n",
       "    <tr>\n",
       "      <th>0</th>\n",
       "      <td>20150810</td>\n",
       "      <td>150.000000</td>\n",
       "      <td>151.399994</td>\n",
       "      <td>149.889999</td>\n",
       "      <td>151.240005</td>\n",
       "      <td>1571800</td>\n",
       "      <td>146.252782</td>\n",
       "      <td>MMM</td>\n",
       "    </tr>\n",
       "    <tr>\n",
       "      <th>1</th>\n",
       "      <td>20150811</td>\n",
       "      <td>150.000000</td>\n",
       "      <td>150.000000</td>\n",
       "      <td>148.259995</td>\n",
       "      <td>148.479996</td>\n",
       "      <td>1810800</td>\n",
       "      <td>143.583786</td>\n",
       "      <td>MMM</td>\n",
       "    </tr>\n",
       "    <tr>\n",
       "      <th>2</th>\n",
       "      <td>20150812</td>\n",
       "      <td>147.240005</td>\n",
       "      <td>148.710007</td>\n",
       "      <td>146.070007</td>\n",
       "      <td>148.520004</td>\n",
       "      <td>2036700</td>\n",
       "      <td>143.622475</td>\n",
       "      <td>MMM</td>\n",
       "    </tr>\n",
       "    <tr>\n",
       "      <th>3</th>\n",
       "      <td>20150813</td>\n",
       "      <td>148.000000</td>\n",
       "      <td>148.559998</td>\n",
       "      <td>147.080002</td>\n",
       "      <td>147.399994</td>\n",
       "      <td>1793100</td>\n",
       "      <td>142.539397</td>\n",
       "      <td>MMM</td>\n",
       "    </tr>\n",
       "    <tr>\n",
       "      <th>4</th>\n",
       "      <td>20150814</td>\n",
       "      <td>147.660004</td>\n",
       "      <td>148.509995</td>\n",
       "      <td>147.320007</td>\n",
       "      <td>148.279999</td>\n",
       "      <td>1401900</td>\n",
       "      <td>143.390384</td>\n",
       "      <td>MMM</td>\n",
       "    </tr>\n",
       "  </tbody>\n",
       "</table>\n",
       "</div>"
      ],
      "text/plain": [
       "       Date        Open        High         Low       Close   Volume  \\\n",
       "0  20150810  150.000000  151.399994  149.889999  151.240005  1571800   \n",
       "1  20150811  150.000000  150.000000  148.259995  148.479996  1810800   \n",
       "2  20150812  147.240005  148.710007  146.070007  148.520004  2036700   \n",
       "3  20150813  148.000000  148.559998  147.080002  147.399994  1793100   \n",
       "4  20150814  147.660004  148.509995  147.320007  148.279999  1401900   \n",
       "\n",
       "    Adj Close Symbol  \n",
       "0  146.252782    MMM  \n",
       "1  143.583786    MMM  \n",
       "2  143.622475    MMM  \n",
       "3  142.539397    MMM  \n",
       "4  143.390384    MMM  "
      ]
     },
     "execution_count": 28,
     "metadata": {},
     "output_type": "execute_result"
    }
   ],
   "source": [
    "df = df.reset_index()\n",
    "df['Date'] = df['Date'].dt.strftime('%Y%m%d')\n",
    "df.head()"
   ]
  },
  {
   "cell_type": "code",
   "execution_count": 29,
   "metadata": {
    "collapsed": false
   },
   "outputs": [
    {
     "data": {
      "text/html": [
       "<div>\n",
       "<table border=\"1\" class=\"dataframe\">\n",
       "  <thead>\n",
       "    <tr style=\"text-align: right;\">\n",
       "      <th></th>\n",
       "      <th>Date</th>\n",
       "      <th>Open</th>\n",
       "      <th>High</th>\n",
       "      <th>Low</th>\n",
       "      <th>Close</th>\n",
       "      <th>Volume</th>\n",
       "      <th>Adj Close</th>\n",
       "      <th>Symbol</th>\n",
       "      <th>year</th>\n",
       "      <th>month</th>\n",
       "      <th>day</th>\n",
       "    </tr>\n",
       "  </thead>\n",
       "  <tbody>\n",
       "    <tr>\n",
       "      <th>0</th>\n",
       "      <td>20150810</td>\n",
       "      <td>150.000000</td>\n",
       "      <td>151.399994</td>\n",
       "      <td>149.889999</td>\n",
       "      <td>151.240005</td>\n",
       "      <td>1571800</td>\n",
       "      <td>146.252782</td>\n",
       "      <td>MMM</td>\n",
       "      <td>2015</td>\n",
       "      <td>08</td>\n",
       "      <td>10</td>\n",
       "    </tr>\n",
       "    <tr>\n",
       "      <th>1</th>\n",
       "      <td>20150811</td>\n",
       "      <td>150.000000</td>\n",
       "      <td>150.000000</td>\n",
       "      <td>148.259995</td>\n",
       "      <td>148.479996</td>\n",
       "      <td>1810800</td>\n",
       "      <td>143.583786</td>\n",
       "      <td>MMM</td>\n",
       "      <td>2015</td>\n",
       "      <td>08</td>\n",
       "      <td>11</td>\n",
       "    </tr>\n",
       "    <tr>\n",
       "      <th>2</th>\n",
       "      <td>20150812</td>\n",
       "      <td>147.240005</td>\n",
       "      <td>148.710007</td>\n",
       "      <td>146.070007</td>\n",
       "      <td>148.520004</td>\n",
       "      <td>2036700</td>\n",
       "      <td>143.622475</td>\n",
       "      <td>MMM</td>\n",
       "      <td>2015</td>\n",
       "      <td>08</td>\n",
       "      <td>12</td>\n",
       "    </tr>\n",
       "    <tr>\n",
       "      <th>3</th>\n",
       "      <td>20150813</td>\n",
       "      <td>148.000000</td>\n",
       "      <td>148.559998</td>\n",
       "      <td>147.080002</td>\n",
       "      <td>147.399994</td>\n",
       "      <td>1793100</td>\n",
       "      <td>142.539397</td>\n",
       "      <td>MMM</td>\n",
       "      <td>2015</td>\n",
       "      <td>08</td>\n",
       "      <td>13</td>\n",
       "    </tr>\n",
       "    <tr>\n",
       "      <th>4</th>\n",
       "      <td>20150814</td>\n",
       "      <td>147.660004</td>\n",
       "      <td>148.509995</td>\n",
       "      <td>147.320007</td>\n",
       "      <td>148.279999</td>\n",
       "      <td>1401900</td>\n",
       "      <td>143.390384</td>\n",
       "      <td>MMM</td>\n",
       "      <td>2015</td>\n",
       "      <td>08</td>\n",
       "      <td>14</td>\n",
       "    </tr>\n",
       "  </tbody>\n",
       "</table>\n",
       "</div>"
      ],
      "text/plain": [
       "       Date        Open        High         Low       Close   Volume  \\\n",
       "0  20150810  150.000000  151.399994  149.889999  151.240005  1571800   \n",
       "1  20150811  150.000000  150.000000  148.259995  148.479996  1810800   \n",
       "2  20150812  147.240005  148.710007  146.070007  148.520004  2036700   \n",
       "3  20150813  148.000000  148.559998  147.080002  147.399994  1793100   \n",
       "4  20150814  147.660004  148.509995  147.320007  148.279999  1401900   \n",
       "\n",
       "    Adj Close Symbol  year month day  \n",
       "0  146.252782    MMM  2015    08  10  \n",
       "1  143.583786    MMM  2015    08  11  \n",
       "2  143.622475    MMM  2015    08  12  \n",
       "3  142.539397    MMM  2015    08  13  \n",
       "4  143.390384    MMM  2015    08  14  "
      ]
     },
     "execution_count": 29,
     "metadata": {},
     "output_type": "execute_result"
    }
   ],
   "source": [
    "#adding year/month/day to eventually only pull last day of month, by symbol\n",
    "df['year'] = df['Date'].str[:-4]\n",
    "df['month'] = df['Date'].str[4:6]\n",
    "df['day'] = df['Date'].str[-2:]\n",
    "df.head()"
   ]
  },
  {
   "cell_type": "code",
   "execution_count": 30,
   "metadata": {
    "collapsed": false
   },
   "outputs": [
    {
     "name": "stderr",
     "output_type": "stream",
     "text": [
      "/Users/erikrood/anaconda/lib/python2.7/site-packages/ipykernel/__main__.py:3: FutureWarning: sort(columns=....) is deprecated, use sort_values(by=.....)\n",
      "  app.launch_new_instance()\n"
     ]
    },
    {
     "data": {
      "text/html": [
       "<div>\n",
       "<table border=\"1\" class=\"dataframe\">\n",
       "  <thead>\n",
       "    <tr style=\"text-align: right;\">\n",
       "      <th></th>\n",
       "      <th>Date</th>\n",
       "      <th>Open</th>\n",
       "      <th>High</th>\n",
       "      <th>Low</th>\n",
       "      <th>Close</th>\n",
       "      <th>Volume</th>\n",
       "      <th>Adj Close</th>\n",
       "      <th>Symbol</th>\n",
       "      <th>year</th>\n",
       "      <th>month</th>\n",
       "      <th>day</th>\n",
       "    </tr>\n",
       "  </thead>\n",
       "  <tbody>\n",
       "    <tr>\n",
       "      <th>0</th>\n",
       "      <td>20150810</td>\n",
       "      <td>150.000000</td>\n",
       "      <td>151.399994</td>\n",
       "      <td>149.889999</td>\n",
       "      <td>151.240005</td>\n",
       "      <td>1571800</td>\n",
       "      <td>146.252782</td>\n",
       "      <td>MMM</td>\n",
       "      <td>2015</td>\n",
       "      <td>08</td>\n",
       "      <td>10</td>\n",
       "    </tr>\n",
       "    <tr>\n",
       "      <th>1</th>\n",
       "      <td>20150811</td>\n",
       "      <td>150.000000</td>\n",
       "      <td>150.000000</td>\n",
       "      <td>148.259995</td>\n",
       "      <td>148.479996</td>\n",
       "      <td>1810800</td>\n",
       "      <td>143.583786</td>\n",
       "      <td>MMM</td>\n",
       "      <td>2015</td>\n",
       "      <td>08</td>\n",
       "      <td>11</td>\n",
       "    </tr>\n",
       "    <tr>\n",
       "      <th>2</th>\n",
       "      <td>20150812</td>\n",
       "      <td>147.240005</td>\n",
       "      <td>148.710007</td>\n",
       "      <td>146.070007</td>\n",
       "      <td>148.520004</td>\n",
       "      <td>2036700</td>\n",
       "      <td>143.622475</td>\n",
       "      <td>MMM</td>\n",
       "      <td>2015</td>\n",
       "      <td>08</td>\n",
       "      <td>12</td>\n",
       "    </tr>\n",
       "    <tr>\n",
       "      <th>3</th>\n",
       "      <td>20150813</td>\n",
       "      <td>148.000000</td>\n",
       "      <td>148.559998</td>\n",
       "      <td>147.080002</td>\n",
       "      <td>147.399994</td>\n",
       "      <td>1793100</td>\n",
       "      <td>142.539397</td>\n",
       "      <td>MMM</td>\n",
       "      <td>2015</td>\n",
       "      <td>08</td>\n",
       "      <td>13</td>\n",
       "    </tr>\n",
       "    <tr>\n",
       "      <th>4</th>\n",
       "      <td>20150814</td>\n",
       "      <td>147.660004</td>\n",
       "      <td>148.509995</td>\n",
       "      <td>147.320007</td>\n",
       "      <td>148.279999</td>\n",
       "      <td>1401900</td>\n",
       "      <td>143.390384</td>\n",
       "      <td>MMM</td>\n",
       "      <td>2015</td>\n",
       "      <td>08</td>\n",
       "      <td>14</td>\n",
       "    </tr>\n",
       "  </tbody>\n",
       "</table>\n",
       "</div>"
      ],
      "text/plain": [
       "       Date        Open        High         Low       Close   Volume  \\\n",
       "0  20150810  150.000000  151.399994  149.889999  151.240005  1571800   \n",
       "1  20150811  150.000000  150.000000  148.259995  148.479996  1810800   \n",
       "2  20150812  147.240005  148.710007  146.070007  148.520004  2036700   \n",
       "3  20150813  148.000000  148.559998  147.080002  147.399994  1793100   \n",
       "4  20150814  147.660004  148.509995  147.320007  148.279999  1401900   \n",
       "\n",
       "    Adj Close Symbol  year month day  \n",
       "0  146.252782    MMM  2015    08  10  \n",
       "1  143.583786    MMM  2015    08  11  \n",
       "2  143.622475    MMM  2015    08  12  \n",
       "3  142.539397    MMM  2015    08  13  \n",
       "4  143.390384    MMM  2015    08  14  "
      ]
     },
     "execution_count": 30,
     "metadata": {},
     "output_type": "execute_result"
    }
   ],
   "source": [
    "df.groupby(\n",
    "    ['year', 'month']\n",
    ").apply(lambda x: x.sort('day', ascending=True))\n",
    "df.head(5)"
   ]
  },
  {
   "cell_type": "code",
   "execution_count": 32,
   "metadata": {
    "collapsed": false
   },
   "outputs": [
    {
     "name": "stderr",
     "output_type": "stream",
     "text": [
      "/Users/erikrood/anaconda/lib/python2.7/site-packages/pandas/core/indexing.py:128: SettingWithCopyWarning: \n",
      "A value is trying to be set on a copy of a slice from a DataFrame\n",
      "\n",
      "See the caveats in the documentation: http://pandas.pydata.org/pandas-docs/stable/indexing.html#indexing-view-versus-copy\n",
      "  self._setitem_with_indexer(indexer, value)\n"
     ]
    }
   ],
   "source": [
    "for i in range(1,len(df)-1):\n",
    "    if df['month'].loc[i] == df['month'].loc[i+1]:\n",
    "        df['Date'].loc[i+1] = 10000\n",
    "    else: \n",
    "        pass"
   ]
  },
  {
   "cell_type": "code",
   "execution_count": 34,
   "metadata": {
    "collapsed": false
   },
   "outputs": [],
   "source": [
    "df = df[df.Date != 10000]\n",
    "df = df[df.Date != '20150810']\n",
    "df = df[df.Date != '20150811']"
   ]
  },
  {
   "cell_type": "code",
   "execution_count": 36,
   "metadata": {
    "collapsed": false
   },
   "outputs": [
    {
     "name": "stdout",
     "output_type": "stream",
     "text": [
      "<class 'pandas.core.frame.DataFrame'>\n",
      "RangeIndex: 13 entries, 0 to 12\n",
      "Data columns (total 3 columns):\n",
      "Date      13 non-null object\n",
      "Symbol    13 non-null object\n",
      "Close     13 non-null float64\n",
      "dtypes: float64(1), object(2)\n",
      "memory usage: 384.0+ bytes\n"
     ]
    }
   ],
   "source": [
    "#type conversions\n",
    "df_clean[['Symbol']] = df_clean[['Symbol']].astype(str)\n",
    "df_clean[['Close']] = df_clean[['Close']].astype(float)"
   ]
  },
  {
   "cell_type": "code",
   "execution_count": 37,
   "metadata": {
    "collapsed": false
   },
   "outputs": [
    {
     "data": {
      "text/html": [
       "<div>\n",
       "<table border=\"1\" class=\"dataframe\">\n",
       "  <thead>\n",
       "    <tr style=\"text-align: right;\">\n",
       "      <th></th>\n",
       "      <th>Date</th>\n",
       "      <th>Symbol</th>\n",
       "      <th>Close</th>\n",
       "    </tr>\n",
       "  </thead>\n",
       "  <tbody>\n",
       "    <tr>\n",
       "      <th>16</th>\n",
       "      <td>20150901</td>\n",
       "      <td>MMM</td>\n",
       "      <td>138.500000</td>\n",
       "    </tr>\n",
       "    <tr>\n",
       "      <th>37</th>\n",
       "      <td>20151001</td>\n",
       "      <td>MMM</td>\n",
       "      <td>140.800003</td>\n",
       "    </tr>\n",
       "    <tr>\n",
       "      <th>59</th>\n",
       "      <td>20151102</td>\n",
       "      <td>MMM</td>\n",
       "      <td>159.919998</td>\n",
       "    </tr>\n",
       "    <tr>\n",
       "      <th>79</th>\n",
       "      <td>20151201</td>\n",
       "      <td>MMM</td>\n",
       "      <td>156.899994</td>\n",
       "    </tr>\n",
       "    <tr>\n",
       "      <th>101</th>\n",
       "      <td>20160104</td>\n",
       "      <td>MMM</td>\n",
       "      <td>146.820007</td>\n",
       "    </tr>\n",
       "  </tbody>\n",
       "</table>\n",
       "</div>"
      ],
      "text/plain": [
       "         Date Symbol       Close\n",
       "16   20150901    MMM  138.500000\n",
       "37   20151001    MMM  140.800003\n",
       "59   20151102    MMM  159.919998\n",
       "79   20151201    MMM  156.899994\n",
       "101  20160104    MMM  146.820007"
      ]
     },
     "execution_count": 37,
     "metadata": {},
     "output_type": "execute_result"
    }
   ],
   "source": [
    "df_clean = df[['Date','Symbol','Close']]\n",
    "df_clean.head()"
   ]
  },
  {
   "cell_type": "code",
   "execution_count": 38,
   "metadata": {
    "collapsed": false
   },
   "outputs": [],
   "source": [
    "#switching/transposing row of dates to columns\n",
    "df_pivot2 = df_clean.pivot('Date','Symbol','Close').reset_index()\n",
    "df_pivot2.rename(columns={'Date':'Date'}, inplace=True)"
   ]
  },
  {
   "cell_type": "code",
   "execution_count": 40,
   "metadata": {
    "collapsed": true
   },
   "outputs": [],
   "source": [
    "corr_df = df_pivot2.corr(method='pearson')"
   ]
  },
  {
   "cell_type": "code",
   "execution_count": 46,
   "metadata": {
    "collapsed": false
   },
   "outputs": [
    {
     "data": {
      "text/html": [
       "<div>\n",
       "<table border=\"1\" class=\"dataframe\">\n",
       "  <thead>\n",
       "    <tr style=\"text-align: right;\">\n",
       "      <th>Symbol</th>\n",
       "      <th>Symbol</th>\n",
       "      <th>A</th>\n",
       "      <th>AA</th>\n",
       "      <th>AAL</th>\n",
       "      <th>AAP</th>\n",
       "      <th>AAPL</th>\n",
       "      <th>ABBV</th>\n",
       "      <th>ABC</th>\n",
       "      <th>ABT</th>\n",
       "      <th>ACN</th>\n",
       "      <th>...</th>\n",
       "      <th>XLNX</th>\n",
       "      <th>XOM</th>\n",
       "      <th>XRAY</th>\n",
       "      <th>XRX</th>\n",
       "      <th>XYL</th>\n",
       "      <th>YHOO</th>\n",
       "      <th>YUM</th>\n",
       "      <th>ZBH</th>\n",
       "      <th>ZION</th>\n",
       "      <th>ZTS</th>\n",
       "    </tr>\n",
       "  </thead>\n",
       "  <tbody>\n",
       "    <tr>\n",
       "      <th>0</th>\n",
       "      <td>A</td>\n",
       "      <td>1.000000</td>\n",
       "      <td>0.459216</td>\n",
       "      <td>-0.575283</td>\n",
       "      <td>-0.409230</td>\n",
       "      <td>-0.293964</td>\n",
       "      <td>0.708519</td>\n",
       "      <td>-0.619220</td>\n",
       "      <td>0.052206</td>\n",
       "      <td>0.797355</td>\n",
       "      <td>...</td>\n",
       "      <td>0.570966</td>\n",
       "      <td>0.798568</td>\n",
       "      <td>0.808590</td>\n",
       "      <td>0.169917</td>\n",
       "      <td>0.947214</td>\n",
       "      <td>0.839686</td>\n",
       "      <td>0.565778</td>\n",
       "      <td>0.911500</td>\n",
       "      <td>0.121616</td>\n",
       "      <td>0.886955</td>\n",
       "    </tr>\n",
       "    <tr>\n",
       "      <th>1</th>\n",
       "      <td>AA</td>\n",
       "      <td>0.459216</td>\n",
       "      <td>1.000000</td>\n",
       "      <td>-0.289380</td>\n",
       "      <td>-0.021417</td>\n",
       "      <td>0.001143</td>\n",
       "      <td>0.579619</td>\n",
       "      <td>-0.120382</td>\n",
       "      <td>0.256079</td>\n",
       "      <td>0.314193</td>\n",
       "      <td>...</td>\n",
       "      <td>-0.171139</td>\n",
       "      <td>0.459299</td>\n",
       "      <td>0.172325</td>\n",
       "      <td>0.265727</td>\n",
       "      <td>0.491626</td>\n",
       "      <td>0.619373</td>\n",
       "      <td>0.535206</td>\n",
       "      <td>0.540549</td>\n",
       "      <td>0.433958</td>\n",
       "      <td>0.641208</td>\n",
       "    </tr>\n",
       "    <tr>\n",
       "      <th>2</th>\n",
       "      <td>AAL</td>\n",
       "      <td>-0.575283</td>\n",
       "      <td>-0.289380</td>\n",
       "      <td>1.000000</td>\n",
       "      <td>0.386389</td>\n",
       "      <td>0.754325</td>\n",
       "      <td>-0.374976</td>\n",
       "      <td>0.788206</td>\n",
       "      <td>0.529788</td>\n",
       "      <td>-0.490708</td>\n",
       "      <td>...</td>\n",
       "      <td>0.131172</td>\n",
       "      <td>-0.567111</td>\n",
       "      <td>-0.152170</td>\n",
       "      <td>0.312714</td>\n",
       "      <td>-0.645627</td>\n",
       "      <td>-0.490982</td>\n",
       "      <td>-0.728467</td>\n",
       "      <td>-0.675147</td>\n",
       "      <td>0.131930</td>\n",
       "      <td>-0.502695</td>\n",
       "    </tr>\n",
       "    <tr>\n",
       "      <th>3</th>\n",
       "      <td>AAP</td>\n",
       "      <td>-0.409230</td>\n",
       "      <td>-0.021417</td>\n",
       "      <td>0.386389</td>\n",
       "      <td>1.000000</td>\n",
       "      <td>0.665447</td>\n",
       "      <td>0.173504</td>\n",
       "      <td>0.383483</td>\n",
       "      <td>0.469664</td>\n",
       "      <td>-0.335253</td>\n",
       "      <td>...</td>\n",
       "      <td>-0.275148</td>\n",
       "      <td>-0.180028</td>\n",
       "      <td>-0.345072</td>\n",
       "      <td>-0.244096</td>\n",
       "      <td>-0.348343</td>\n",
       "      <td>-0.126654</td>\n",
       "      <td>-0.082786</td>\n",
       "      <td>-0.167855</td>\n",
       "      <td>0.433747</td>\n",
       "      <td>-0.346692</td>\n",
       "    </tr>\n",
       "    <tr>\n",
       "      <th>4</th>\n",
       "      <td>AAPL</td>\n",
       "      <td>-0.293964</td>\n",
       "      <td>0.001143</td>\n",
       "      <td>0.754325</td>\n",
       "      <td>0.665447</td>\n",
       "      <td>1.000000</td>\n",
       "      <td>0.057007</td>\n",
       "      <td>0.670206</td>\n",
       "      <td>0.852227</td>\n",
       "      <td>-0.275719</td>\n",
       "      <td>...</td>\n",
       "      <td>0.094758</td>\n",
       "      <td>-0.301675</td>\n",
       "      <td>-0.088269</td>\n",
       "      <td>0.454961</td>\n",
       "      <td>-0.369949</td>\n",
       "      <td>-0.114511</td>\n",
       "      <td>-0.324972</td>\n",
       "      <td>-0.294330</td>\n",
       "      <td>0.548260</td>\n",
       "      <td>-0.179122</td>\n",
       "    </tr>\n",
       "    <tr>\n",
       "      <th>5</th>\n",
       "      <td>ABBV</td>\n",
       "      <td>0.708519</td>\n",
       "      <td>0.579619</td>\n",
       "      <td>-0.374976</td>\n",
       "      <td>0.173504</td>\n",
       "      <td>0.057007</td>\n",
       "      <td>1.000000</td>\n",
       "      <td>-0.313558</td>\n",
       "      <td>0.406501</td>\n",
       "      <td>0.441159</td>\n",
       "      <td>...</td>\n",
       "      <td>0.174020</td>\n",
       "      <td>0.645130</td>\n",
       "      <td>0.469381</td>\n",
       "      <td>-0.073805</td>\n",
       "      <td>0.662391</td>\n",
       "      <td>0.819199</td>\n",
       "      <td>0.552599</td>\n",
       "      <td>0.867349</td>\n",
       "      <td>0.493484</td>\n",
       "      <td>0.755435</td>\n",
       "    </tr>\n",
       "    <tr>\n",
       "      <th>6</th>\n",
       "      <td>ABC</td>\n",
       "      <td>-0.619220</td>\n",
       "      <td>-0.120382</td>\n",
       "      <td>0.788206</td>\n",
       "      <td>0.383483</td>\n",
       "      <td>0.670206</td>\n",
       "      <td>-0.313558</td>\n",
       "      <td>1.000000</td>\n",
       "      <td>0.605800</td>\n",
       "      <td>-0.751508</td>\n",
       "      <td>...</td>\n",
       "      <td>-0.231818</td>\n",
       "      <td>-0.700939</td>\n",
       "      <td>-0.463421</td>\n",
       "      <td>0.184379</td>\n",
       "      <td>-0.774217</td>\n",
       "      <td>-0.599750</td>\n",
       "      <td>-0.655745</td>\n",
       "      <td>-0.656081</td>\n",
       "      <td>0.336540</td>\n",
       "      <td>-0.321025</td>\n",
       "    </tr>\n",
       "    <tr>\n",
       "      <th>7</th>\n",
       "      <td>ABT</td>\n",
       "      <td>0.052206</td>\n",
       "      <td>0.256079</td>\n",
       "      <td>0.529788</td>\n",
       "      <td>0.469664</td>\n",
       "      <td>0.852227</td>\n",
       "      <td>0.406501</td>\n",
       "      <td>0.605800</td>\n",
       "      <td>1.000000</td>\n",
       "      <td>-0.192174</td>\n",
       "      <td>...</td>\n",
       "      <td>0.195823</td>\n",
       "      <td>-0.164454</td>\n",
       "      <td>0.078213</td>\n",
       "      <td>0.471521</td>\n",
       "      <td>-0.096590</td>\n",
       "      <td>0.149059</td>\n",
       "      <td>-0.066473</td>\n",
       "      <td>0.068116</td>\n",
       "      <td>0.622769</td>\n",
       "      <td>0.256204</td>\n",
       "    </tr>\n",
       "    <tr>\n",
       "      <th>8</th>\n",
       "      <td>ACN</td>\n",
       "      <td>0.797355</td>\n",
       "      <td>0.314193</td>\n",
       "      <td>-0.490708</td>\n",
       "      <td>-0.335253</td>\n",
       "      <td>-0.275719</td>\n",
       "      <td>0.441159</td>\n",
       "      <td>-0.751508</td>\n",
       "      <td>-0.192174</td>\n",
       "      <td>1.000000</td>\n",
       "      <td>...</td>\n",
       "      <td>0.536608</td>\n",
       "      <td>0.851239</td>\n",
       "      <td>0.814440</td>\n",
       "      <td>0.230174</td>\n",
       "      <td>0.877496</td>\n",
       "      <td>0.791925</td>\n",
       "      <td>0.451595</td>\n",
       "      <td>0.733508</td>\n",
       "      <td>-0.003222</td>\n",
       "      <td>0.607123</td>\n",
       "    </tr>\n",
       "    <tr>\n",
       "      <th>9</th>\n",
       "      <td>ADBE</td>\n",
       "      <td>0.882918</td>\n",
       "      <td>0.345301</td>\n",
       "      <td>-0.443852</td>\n",
       "      <td>-0.412987</td>\n",
       "      <td>-0.265353</td>\n",
       "      <td>0.429599</td>\n",
       "      <td>-0.638848</td>\n",
       "      <td>-0.112900</td>\n",
       "      <td>0.935845</td>\n",
       "      <td>...</td>\n",
       "      <td>0.638457</td>\n",
       "      <td>0.801199</td>\n",
       "      <td>0.861766</td>\n",
       "      <td>0.265262</td>\n",
       "      <td>0.887285</td>\n",
       "      <td>0.723040</td>\n",
       "      <td>0.375690</td>\n",
       "      <td>0.729266</td>\n",
       "      <td>0.027395</td>\n",
       "      <td>0.708086</td>\n",
       "    </tr>\n",
       "  </tbody>\n",
       "</table>\n",
       "<p>10 rows × 504 columns</p>\n",
       "</div>"
      ],
      "text/plain": [
       "Symbol Symbol         A        AA       AAL       AAP      AAPL      ABBV  \\\n",
       "0           A  1.000000  0.459216 -0.575283 -0.409230 -0.293964  0.708519   \n",
       "1          AA  0.459216  1.000000 -0.289380 -0.021417  0.001143  0.579619   \n",
       "2         AAL -0.575283 -0.289380  1.000000  0.386389  0.754325 -0.374976   \n",
       "3         AAP -0.409230 -0.021417  0.386389  1.000000  0.665447  0.173504   \n",
       "4        AAPL -0.293964  0.001143  0.754325  0.665447  1.000000  0.057007   \n",
       "5        ABBV  0.708519  0.579619 -0.374976  0.173504  0.057007  1.000000   \n",
       "6         ABC -0.619220 -0.120382  0.788206  0.383483  0.670206 -0.313558   \n",
       "7         ABT  0.052206  0.256079  0.529788  0.469664  0.852227  0.406501   \n",
       "8         ACN  0.797355  0.314193 -0.490708 -0.335253 -0.275719  0.441159   \n",
       "9        ADBE  0.882918  0.345301 -0.443852 -0.412987 -0.265353  0.429599   \n",
       "\n",
       "Symbol       ABC       ABT       ACN    ...         XLNX       XOM      XRAY  \\\n",
       "0      -0.619220  0.052206  0.797355    ...     0.570966  0.798568  0.808590   \n",
       "1      -0.120382  0.256079  0.314193    ...    -0.171139  0.459299  0.172325   \n",
       "2       0.788206  0.529788 -0.490708    ...     0.131172 -0.567111 -0.152170   \n",
       "3       0.383483  0.469664 -0.335253    ...    -0.275148 -0.180028 -0.345072   \n",
       "4       0.670206  0.852227 -0.275719    ...     0.094758 -0.301675 -0.088269   \n",
       "5      -0.313558  0.406501  0.441159    ...     0.174020  0.645130  0.469381   \n",
       "6       1.000000  0.605800 -0.751508    ...    -0.231818 -0.700939 -0.463421   \n",
       "7       0.605800  1.000000 -0.192174    ...     0.195823 -0.164454  0.078213   \n",
       "8      -0.751508 -0.192174  1.000000    ...     0.536608  0.851239  0.814440   \n",
       "9      -0.638848 -0.112900  0.935845    ...     0.638457  0.801199  0.861766   \n",
       "\n",
       "Symbol       XRX       XYL      YHOO       YUM       ZBH      ZION       ZTS  \n",
       "0       0.169917  0.947214  0.839686  0.565778  0.911500  0.121616  0.886955  \n",
       "1       0.265727  0.491626  0.619373  0.535206  0.540549  0.433958  0.641208  \n",
       "2       0.312714 -0.645627 -0.490982 -0.728467 -0.675147  0.131930 -0.502695  \n",
       "3      -0.244096 -0.348343 -0.126654 -0.082786 -0.167855  0.433747 -0.346692  \n",
       "4       0.454961 -0.369949 -0.114511 -0.324972 -0.294330  0.548260 -0.179122  \n",
       "5      -0.073805  0.662391  0.819199  0.552599  0.867349  0.493484  0.755435  \n",
       "6       0.184379 -0.774217 -0.599750 -0.655745 -0.656081  0.336540 -0.321025  \n",
       "7       0.471521 -0.096590  0.149059 -0.066473  0.068116  0.622769  0.256204  \n",
       "8       0.230174  0.877496  0.791925  0.451595  0.733508 -0.003222  0.607123  \n",
       "9       0.265262  0.887285  0.723040  0.375690  0.729266  0.027395  0.708086  \n",
       "\n",
       "[10 rows x 504 columns]"
      ]
     },
     "execution_count": 46,
     "metadata": {},
     "output_type": "execute_result"
    }
   ],
   "source": [
    "corr_df.reset_index().head(10)"
   ]
  },
  {
   "cell_type": "code",
   "execution_count": 47,
   "metadata": {
    "collapsed": false
   },
   "outputs": [],
   "source": [
    "#Outputting raw data to csv\n",
    "corr_df.to_csv('raw_Pearson_corr_sp500.csv')"
   ]
  },
  {
   "cell_type": "code",
   "execution_count": 52,
   "metadata": {
    "collapsed": false
   },
   "outputs": [],
   "source": [
    "# Create a mask to display only the lower triangle of the matrix (since it's mirrored around its \n",
    "# top-left to bottom-right diagonal).\n",
    "mask = np.zeros_like(corr_df)\n",
    "mask[np.triu_indices_from(mask)] = True"
   ]
  },
  {
   "cell_type": "code",
   "execution_count": 53,
   "metadata": {
    "collapsed": false
   },
   "outputs": [
    {
     "data": {
      "text/plain": [
       "<matplotlib.axes._subplots.AxesSubplot at 0x11aa35f50>"
      ]
     },
     "execution_count": 53,
     "metadata": {},
     "output_type": "execute_result"
    }
   ],
   "source": [
    "# Create the heatmap using seaborn library. \n",
    "# List if colormaps (parameter 'cmap') is available here: http://matplotlib.org/examples/color/colormaps_reference.html\n",
    "seaborn.heatmap(corr_df, cmap='RdYlGn_r', vmax=1.0, vmin=-1.0 , mask = mask, linewidths=2.5)"
   ]
  },
  {
   "cell_type": "code",
   "execution_count": 54,
   "metadata": {
    "collapsed": true
   },
   "outputs": [],
   "source": [
    "plt.yticks(rotation=0) \n",
    "plt.xticks(rotation=90) \n",
    "plt.show()"
   ]
  },
  {
   "cell_type": "markdown",
   "metadata": {},
   "source": [
    "## old stuff/references -- did not use"
   ]
  },
  {
   "cell_type": "code",
   "execution_count": 385,
   "metadata": {
    "collapsed": false
   },
   "outputs": [],
   "source": [
    "#stopped here, just need to add 6 price percent columns drop rest\n",
    "df_pivot2.rename(columns={'20160104':'January'}, inplace=True)\n",
    "df_pivot2.rename(columns={'20151231':'December'}, inplace=True)\n",
    "\n",
    "df_pivot2['Jan_dec'] = (df_pivot2.January / df_pivot2.December)"
   ]
  },
  {
   "cell_type": "code",
   "execution_count": null,
   "metadata": {
    "collapsed": true
   },
   "outputs": [],
   "source": [
    "#http://gouthamanbalaraman.com/blog/calculating-stock-beta.html\n",
    "#http://dogdogfish.com/python-2/stock-prices-and-python-pandas-to-the-rescue/\n",
    "#correl matrix - http://stackoverflow.com/questions/28932065/how-do-you-calculate-correlation-between-all-columns-in-a-dataframe-and-all-colu\n",
    "\n",
    "#this is the example to use: correlation matrix using forex\n",
    "# http://www.tradinggeeks.net/2015/08/calculating-correlation-in-python/\n",
    "\n",
    "#Some caveats about the sample code. The returns are calculated using the adjusted close from Yahoo finance data. This is because the adjusted close accounts for dividends and splits etc. In my personal experience I have found the returns calculated this way to be a reasonably close estimate but not always accurate. "
   ]
  }
 ],
 "metadata": {
  "kernelspec": {
   "display_name": "Python 2",
   "language": "python",
   "name": "python2"
  },
  "language_info": {
   "codemirror_mode": {
    "name": "ipython",
    "version": 2
   },
   "file_extension": ".py",
   "mimetype": "text/x-python",
   "name": "python",
   "nbconvert_exporter": "python",
   "pygments_lexer": "ipython2",
   "version": "2.7.11"
  }
 },
 "nbformat": 4,
 "nbformat_minor": 0
}
