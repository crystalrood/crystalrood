{
 "cells": [
  {
   "cell_type": "code",
   "execution_count": 32,
   "metadata": {
    "collapsed": true
   },
   "outputs": [],
   "source": [
    "%matplotlib inline \n",
    "import matplotlib.pyplot as plt \n",
    "import pandas as pd\n",
    "import numpy as np\n",
    "\n",
    "import statsmodels.api as sm\n",
    "from statsmodels.sandbox.regression.predstd import wls_prediction_std\n",
    "\n",
    "import plotly.plotly as py\n",
    "import plotly.graph_objs as go\n",
    "from plotly.tools import FigureFactory as FF\n",
    "py.sign_in('erikrood','3eqsrype8v')"
   ]
  },
  {
   "cell_type": "code",
   "execution_count": 33,
   "metadata": {
    "collapsed": false
   },
   "outputs": [],
   "source": [
    "salaries = pd.read_csv('/Users/erikrood/desktop/sports_salaries.csv') "
   ]
  },
  {
   "cell_type": "code",
   "execution_count": 34,
   "metadata": {
    "collapsed": false
   },
   "outputs": [
    {
     "data": {
      "text/html": [
       "<div>\n",
       "<table border=\"1\" class=\"dataframe\">\n",
       "  <thead>\n",
       "    <tr style=\"text-align: right;\">\n",
       "      <th></th>\n",
       "      <th>Group</th>\n",
       "      <th>Salary</th>\n",
       "    </tr>\n",
       "  </thead>\n",
       "  <tbody>\n",
       "    <tr>\n",
       "      <th>0</th>\n",
       "      <td>MLB</td>\n",
       "      <td>10996141.0</td>\n",
       "    </tr>\n",
       "    <tr>\n",
       "      <th>1</th>\n",
       "      <td>NBA</td>\n",
       "      <td>6555332.0</td>\n",
       "    </tr>\n",
       "    <tr>\n",
       "      <th>2</th>\n",
       "      <td>NFL</td>\n",
       "      <td>4283761.0</td>\n",
       "    </tr>\n",
       "    <tr>\n",
       "      <th>3</th>\n",
       "      <td>NHL</td>\n",
       "      <td>2901003.0</td>\n",
       "    </tr>\n",
       "    <tr>\n",
       "      <th>4</th>\n",
       "      <td>EPL</td>\n",
       "      <td>2183478.0</td>\n",
       "    </tr>\n",
       "  </tbody>\n",
       "</table>\n",
       "</div>"
      ],
      "text/plain": [
       "  Group      Salary\n",
       "0   MLB  10996141.0\n",
       "1   NBA   6555332.0\n",
       "2   NFL   4283761.0\n",
       "3   NHL   2901003.0\n",
       "4   EPL   2183478.0"
      ]
     },
     "execution_count": 34,
     "metadata": {},
     "output_type": "execute_result"
    }
   ],
   "source": [
    "average_salary_league = salaries.groupby('Group').mean().sort_values(by='Salary',ascending=False).round(decimals=0).reset_index()\n",
    "average_salary_league.head()"
   ]
  },
  {
   "cell_type": "code",
   "execution_count": 42,
   "metadata": {
    "collapsed": false
   },
   "outputs": [
    {
     "data": {
      "text/html": [
       "<div>\n",
       "<table border=\"1\" class=\"dataframe\">\n",
       "  <thead>\n",
       "    <tr style=\"text-align: right;\">\n",
       "      <th></th>\n",
       "      <th>Group</th>\n",
       "      <th>Salary</th>\n",
       "    </tr>\n",
       "  </thead>\n",
       "  <tbody>\n",
       "    <tr>\n",
       "      <th>0</th>\n",
       "      <td>MLB</td>\n",
       "      <td>8750000.0</td>\n",
       "    </tr>\n",
       "    <tr>\n",
       "      <th>1</th>\n",
       "      <td>NBA</td>\n",
       "      <td>3707815.0</td>\n",
       "    </tr>\n",
       "    <tr>\n",
       "      <th>2</th>\n",
       "      <td>NFL</td>\n",
       "      <td>2600775.0</td>\n",
       "    </tr>\n",
       "    <tr>\n",
       "      <th>3</th>\n",
       "      <td>NHL</td>\n",
       "      <td>2250000.0</td>\n",
       "    </tr>\n",
       "    <tr>\n",
       "      <th>4</th>\n",
       "      <td>EPL</td>\n",
       "      <td>1166000.0</td>\n",
       "    </tr>\n",
       "  </tbody>\n",
       "</table>\n",
       "</div>"
      ],
      "text/plain": [
       "  Group     Salary\n",
       "0   MLB  8750000.0\n",
       "1   NBA  3707815.0\n",
       "2   NFL  2600775.0\n",
       "3   NHL  2250000.0\n",
       "4   EPL  1166000.0"
      ]
     },
     "execution_count": 42,
     "metadata": {},
     "output_type": "execute_result"
    }
   ],
   "source": [
    "median_salary_league = salaries.groupby('Group').median().sort_values(by='Salary',ascending=False).round(decimals=0).reset_index()\n",
    "median_salary_league.head()"
   ]
  },
  {
   "cell_type": "code",
   "execution_count": 35,
   "metadata": {
    "collapsed": false
   },
   "outputs": [
    {
     "data": {
      "text/html": [
       "<iframe id=\"igraph\" scrolling=\"no\" style=\"border:none;\" seamless=\"seamless\" src=\"https://plot.ly/~erikrood/98.embed\" height=\"525px\" width=\"100%\"></iframe>"
      ],
      "text/plain": [
       "<plotly.tools.PlotlyDisplay object>"
      ]
     },
     "execution_count": 35,
     "metadata": {},
     "output_type": "execute_result"
    }
   ],
   "source": [
    "#bar chart, bottom 10\n",
    "\n",
    "x = average_salary_league['Group']\n",
    "y = average_salary_league['Salary']\n",
    "\n",
    "data = [\n",
    "    go.Bar(\n",
    "        x=x,\n",
    "        y=y,\n",
    "        \n",
    "        marker=dict(\n",
    "            color='rgb(84, 226, 129)',\n",
    "            line=dict(\n",
    "                color='rgb(8,48,107)',\n",
    "                width=1.5\n",
    "            ),\n",
    "        ),\n",
    "        opacity=0.6\n",
    "    )\n",
    "]\n",
    "layout = go.Layout(\n",
    "      title='Average salary by league',\n",
    "    xaxis=dict(\n",
    "        title='league',\n",
    "        tickangle = 47,\n",
    "    ),\n",
    "    yaxis=dict(\n",
    "        title='average salary ($)'\n",
    "    ),\n",
    "     margin=go.Margin(\n",
    "        b = 220\n",
    "        \n",
    "    )\n",
    "\n",
    "    \n",
    ")\n",
    "fig = go.Figure(data=data, layout=layout)\n",
    "py.iplot(fig, filename='average_salary_league')"
   ]
  },
  {
   "cell_type": "code",
   "execution_count": 43,
   "metadata": {
    "collapsed": false
   },
   "outputs": [
    {
     "data": {
      "text/html": [
       "<iframe id=\"igraph\" scrolling=\"no\" style=\"border:none;\" seamless=\"seamless\" src=\"https://plot.ly/~erikrood/102.embed\" height=\"525px\" width=\"100%\"></iframe>"
      ],
      "text/plain": [
       "<plotly.tools.PlotlyDisplay object>"
      ]
     },
     "execution_count": 43,
     "metadata": {},
     "output_type": "execute_result"
    }
   ],
   "source": [
    "#bar chart, bottom 10\n",
    "\n",
    "x = median_salary_league['Group']\n",
    "y = median_salary_league['Salary']\n",
    "\n",
    "data = [\n",
    "    go.Bar(\n",
    "        x=x,\n",
    "        y=y,\n",
    "        \n",
    "        marker=dict(\n",
    "            color='rgb(45, 32, 112)',\n",
    "            line=dict(\n",
    "                color='rgb(8,48,107)',\n",
    "                width=1.5\n",
    "            ),\n",
    "        ),\n",
    "        opacity=0.6\n",
    "    )\n",
    "]\n",
    "layout = go.Layout(\n",
    "      title='Median salary by league',\n",
    "    xaxis=dict(\n",
    "        title='league',\n",
    "        tickangle = 47,\n",
    "    ),\n",
    "    yaxis=dict(\n",
    "        title='median salary ($)'\n",
    "    ),\n",
    "     margin=go.Margin(\n",
    "        b = 220\n",
    "        \n",
    "    )\n",
    "\n",
    "    \n",
    ")\n",
    "fig = go.Figure(data=data, layout=layout)\n",
    "py.iplot(fig, filename='median_salary_league')"
   ]
  },
  {
   "cell_type": "code",
   "execution_count": 37,
   "metadata": {
    "collapsed": false
   },
   "outputs": [
    {
     "data": {
      "text/plain": [
       "{'EPL', 'MLB', 'MLS', 'NBA', 'NFL', 'NHL'}"
      ]
     },
     "execution_count": 37,
     "metadata": {},
     "output_type": "execute_result"
    }
   ],
   "source": [
    "#step 1 - box plot\n",
    "x_data1 = {'NBA','MLS','MLB','NFL',\\\n",
    "         'NHL','EPL' }\n",
    "x_data1"
   ]
  },
  {
   "cell_type": "code",
   "execution_count": 40,
   "metadata": {
    "collapsed": false
   },
   "outputs": [],
   "source": [
    "group_NBA = salaries[salaries['Group'] == 'NBA'].copy()\n",
    "NBA = group_NBA[['Salary']].copy()\n",
    "\n",
    "group_MLB = salaries[salaries['Group'] == 'MLB'].copy()\n",
    "MLB = group_MLB[['Salary']].copy()\n",
    "\n",
    "group_MLS = salaries[salaries['Group'] == 'MLS'].copy()\n",
    "MLS = group_MLS[['Salary']].copy()\n",
    "\n",
    "group_NFL = salaries[salaries['Group'] == 'NFL'].copy()\n",
    "NFL = group_NFL[['Salary']].copy()\n",
    "\n",
    "group_NHL = salaries[salaries['Group'] == 'NHL'].copy()\n",
    "NHL = group_NHL[['Salary']].copy()\n",
    "\n",
    "group_EPL = salaries[salaries['Group'] == 'EPL'].copy()\n",
    "EPL = group_EPL[['Salary']].copy()\n",
    "\n",
    "#once labeling outputs, need to match value order with x axis label names, \n",
    "#since those are not fungible\n",
    "y_data = [\n",
    "    NFL.values,\n",
    "    MLB.values,\n",
    "    MLS.values,\n",
    "    EPL.values,\n",
    "    NHL.values,\n",
    "    NBA.values,\n",
    "\n",
    "]\n"
   ]
  },
  {
   "cell_type": "code",
   "execution_count": 41,
   "metadata": {
    "collapsed": false
   },
   "outputs": [
    {
     "data": {
      "text/html": [
       "<iframe id=\"igraph\" scrolling=\"no\" style=\"border:none;\" seamless=\"seamless\" src=\"https://plot.ly/~erikrood/100.embed\" height=\"650px\" width=\"800px\"></iframe>"
      ],
      "text/plain": [
       "<plotly.tools.PlotlyDisplay object>"
      ]
     },
     "execution_count": 41,
     "metadata": {},
     "output_type": "execute_result"
    }
   ],
   "source": [
    "#putting together the box plot\n",
    "traces = []\n",
    "for xd, yd in zip(x_data1, y_data):\n",
    "        traces.append(go.Box(\n",
    "            y=yd,\n",
    "            name=xd,\n",
    "            boxpoints='all',\n",
    "            jitter=0.5,\n",
    "            whiskerwidth=0.2,\n",
    "            marker=dict(\n",
    "                size=2,\n",
    "            ),\n",
    "            line=dict(width=1),\n",
    "        ))\n",
    "\n",
    "layout = go.Layout(\n",
    "    title='Salary distribution by league (2016) ($)',\n",
    "    yaxis=dict(\n",
    "        range=[0, 35000000],\n",
    "        showgrid=True,\n",
    "        zeroline=True,\n",
    "        #dtick=5,\n",
    "        gridcolor='rgb(255, 255, 255)',\n",
    "        gridwidth=1,\n",
    "        zerolinecolor='rgb(255, 255, 255)',\n",
    "        zerolinewidth=2,\n",
    "    ),\n",
    "    margin=go.Margin(\n",
    "        l=50,\n",
    "        r=90,\n",
    "        b=50,\n",
    "        t=60,\n",
    "        pad=4\n",
    "    ),\n",
    "    width=800,\n",
    "    height=650,\n",
    "    showlegend=False\n",
    ")\n",
    "\n",
    "    \n",
    "fig = go.Figure(data=traces, layout=layout)\n",
    "py.iplot(fig, filename = 'Salary_distribution_league')\n"
   ]
  },
  {
   "cell_type": "code",
   "execution_count": null,
   "metadata": {
    "collapsed": true
   },
   "outputs": [],
   "source": []
  }
 ],
 "metadata": {
  "anaconda-cloud": {},
  "kernelspec": {
   "display_name": "Python [conda root]",
   "language": "python",
   "name": "conda-root-py"
  },
  "language_info": {
   "codemirror_mode": {
    "name": "ipython",
    "version": 3
   },
   "file_extension": ".py",
   "mimetype": "text/x-python",
   "name": "python",
   "nbconvert_exporter": "python",
   "pygments_lexer": "ipython3",
   "version": "3.5.2"
  }
 },
 "nbformat": 4,
 "nbformat_minor": 1
}
